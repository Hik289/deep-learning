{
 "cells": [
  {
   "cell_type": "code",
   "execution_count": 1,
   "metadata": {},
   "outputs": [],
   "source": [
    "import pandas as pd\n",
    "import numpy as np\n",
    "from time_series_transform.sklearn import *\n",
    "import time_series_transform as tst"
   ]
  },
  {
   "cell_type": "markdown",
   "metadata": {},
   "source": [
    "# Introduction\n",
    "\n",
    "This package provides tools for time series data preprocessing. There are two main components inside the package: Time_Series_Transformer and Stock_Transformer. Time_Series_Transformer is a general class for all type of time series data, while Stock_Transformer is a sub-class of Time_Series_Transformer. Time_Series_Transformer has different functions for data manipulation, io transformation, and making simple plots. This tutorial will take a quick look at the functions for data manipulation and basic io. For the plot functions, there will be other tutorial to explain. \n",
    "\n",
    "# Time_Series_Transformer\n",
    "\n",
    "Since all the time series data having time data, Time_Series_Transformer is required to specify time index. The basic time series data is time series data with no special category. However, there a lot of cases that a time series data is associating with categories. For example, inventory data is usually associate with product name or stores, or stock data is having different ticker names or brokers. To address this question, Time_Series_Transformer can specify the main category index. Given the main category index, the data can be manipulated in parallel corresponding to its category.\n",
    "\n",
    "Here is a simple example to create a Time_Series_Transformer without specifying its category."
   ]
  },
  {
   "cell_type": "code",
   "execution_count": 2,
   "metadata": {},
   "outputs": [
    {
     "data": {
      "text/plain": [
       "data column\n",
       "-----------\n",
       "time\n",
       "data1\n",
       "data2\n",
       "time length: 5\n",
       "category: None\n"
      ]
     },
     "execution_count": 2,
     "metadata": {},
     "output_type": "execute_result"
    }
   ],
   "source": [
    "data = {\n",
    "    'time':[1,2,3,4,5],\n",
    "    'data1':[1,2,3,4,5],\n",
    "    'data2':[6,7,8,9,10]\n",
    "}\n",
    "trans = tst.Time_Series_Transformer(data,timeSeriesCol='time')\n",
    "trans"
   ]
  },
  {
   "cell_type": "markdown",
   "metadata": {},
   "source": [
    "There are two ways to manipulate the data. The first way is use the pre-made functions, and the second way is to use the transform function and provide your custom function. There are six pre-made functions including make_lag, make_lead, make_lag_sequence, make_lead_sequence, and make_stack_sequence. In the following demonstration, we will show each of the pre-made functions.\n",
    "\n",
    "### Pre-made functions\n",
    "make_lag and make_lead functions are going to create lag/lead data for input columns. This type of manipulation could be useful for machine learning."
   ]
  },
  {
   "cell_type": "code",
   "execution_count": 4,
   "metadata": {},
   "outputs": [
    {
     "name": "stdout",
     "output_type": "stream",
     "text": [
      "   time  data1  data2  data1_lag_1  data2_lag_1\n",
      "0     1      1      6          NaN          NaN\n",
      "1     2      2      7          1.0          6.0\n",
      "2     3      3      8          2.0          7.0\n",
      "3     4      4      9          3.0          8.0\n",
      "4     5      5     10          4.0          9.0\n"
     ]
    }
   ],
   "source": [
    "trans = tst.Time_Series_Transformer(data,timeSeriesCol='time')\n",
    "trans = trans.make_lag(\n",
    "    inputLabels = ['data1','data2'],\n",
    "    lagNum = 1,\n",
    "    suffix = '_lag_',\n",
    "    fillMissing = np.nan\n",
    "            )\n",
    "print(trans.to_pandas())"
   ]
  },
  {
   "cell_type": "code",
   "execution_count": 5,
   "metadata": {},
   "outputs": [
    {
     "name": "stdout",
     "output_type": "stream",
     "text": [
      "   time  data1  data2  data1_lead_1  data2_lead_1\n",
      "0     1      1      6           2.0           7.0\n",
      "1     2      2      7           3.0           8.0\n",
      "2     3      3      8           4.0           9.0\n",
      "3     4      4      9           5.0          10.0\n",
      "4     5      5     10           NaN           NaN\n"
     ]
    }
   ],
   "source": [
    "trans = tst.Time_Series_Transformer(data,timeSeriesCol='time')\n",
    "trans = trans.make_lead(\n",
    "    inputLabels = ['data1','data2'],\n",
    "    leadNum = 1,\n",
    "    suffix = '_lead_',\n",
    "    fillMissing = np.nan\n",
    "            )\n",
    "print(trans.to_pandas())"
   ]
  },
  {
   "cell_type": "markdown",
   "metadata": {},
   "source": [
    "make_lag_sequence and make_lead_sequence is to create a sequence for a given window length and lag or lead number. This manipulation could be useful for Deep learning."
   ]
  },
  {
   "cell_type": "code",
   "execution_count": 6,
   "metadata": {},
   "outputs": [
    {
     "name": "stdout",
     "output_type": "stream",
     "text": [
      "   time  data1  data2 data1_lag_seq_2 data2_lag_seq_2\n",
      "0     1      1      6      [nan, nan]      [nan, nan]\n",
      "1     2      2      7      [nan, 1.0]      [nan, 6.0]\n",
      "2     3      3      8      [1.0, 2.0]      [6.0, 7.0]\n",
      "3     4      4      9      [2.0, 3.0]      [7.0, 8.0]\n",
      "4     5      5     10      [3.0, 4.0]      [8.0, 9.0]\n"
     ]
    }
   ],
   "source": [
    "trans = tst.Time_Series_Transformer(data,timeSeriesCol='time')\n",
    "trans = trans.make_lag_sequence(\n",
    "    inputLabels = ['data1','data2'],\n",
    "    windowSize = 2,\n",
    "    lagNum =1,\n",
    "    suffix = '_lag_seq_'\n",
    ")\n",
    "print(trans.to_pandas())"
   ]
  },
  {
   "cell_type": "code",
   "execution_count": 7,
   "metadata": {},
   "outputs": [
    {
     "name": "stdout",
     "output_type": "stream",
     "text": [
      "   time  data1  data2 data1_lead_seq_2 data2_lead_seq_2\n",
      "0     1      1      6       [2.0, 3.0]       [7.0, 8.0]\n",
      "1     2      2      7       [3.0, 4.0]       [8.0, 9.0]\n",
      "2     3      3      8       [4.0, 5.0]      [9.0, 10.0]\n",
      "3     4      4      9       [nan, nan]       [nan, nan]\n",
      "4     5      5     10       [nan, nan]       [nan, nan]\n"
     ]
    }
   ],
   "source": [
    "trans = tst.Time_Series_Transformer(data,timeSeriesCol='time')\n",
    "trans = trans.make_lead_sequence(\n",
    "    inputLabels = ['data1','data2'],\n",
    "    windowSize = 2,\n",
    "    leadNum =1,\n",
    "    suffix = '_lead_seq_'\n",
    ")\n",
    "print(trans.to_pandas())"
   ]
  },
  {
   "cell_type": "markdown",
   "metadata": {},
   "source": [
    "### Custom Functions\n",
    "\n",
    "To use the transform function, you have to create your custom functions. The input data will be passed as dict of list, and the output data should be either pandas DataFrame, pandas Series, numpy ndArray or list. Note, the output length should be in consist with the orignal data length.\n",
    "\n",
    "For exmaple, this function takes input dictionary data and sum them up. The final output is a list."
   ]
  },
  {
   "cell_type": "code",
   "execution_count": 8,
   "metadata": {},
   "outputs": [],
   "source": [
    "import copy\n",
    "def list_output (dataDict):\n",
    "    res = []\n",
    "    for i in dataDict:\n",
    "        if len(res) == 0:\n",
    "            res = copy.deepcopy(dataDict[i])\n",
    "            continue\n",
    "        for ix,v in enumerate(dataDict[i]):\n",
    "            res[ix] += v\n",
    "    return res"
   ]
  },
  {
   "cell_type": "code",
   "execution_count": 9,
   "metadata": {},
   "outputs": [
    {
     "name": "stdout",
     "output_type": "stream",
     "text": [
      "   time  data1  data2  sumCol\n",
      "0     1      1      6       7\n",
      "1     2      2      7       9\n",
      "2     3      3      8      11\n",
      "3     4      4      9      13\n",
      "4     5      5     10      15\n"
     ]
    }
   ],
   "source": [
    "trans = tst.Time_Series_Transformer(data,timeSeriesCol='time')\n",
    "trans = trans.transform(\n",
    "    inputLabels = ['data1','data2'],\n",
    "    newName = 'sumCol',\n",
    "    func = list_output\n",
    ")\n",
    "print(trans.to_pandas())"
   ]
  },
  {
   "cell_type": "markdown",
   "metadata": {},
   "source": [
    "The following example will output as pandas DataFrame and also takes additional parameters. Note: since pandas already has column name, the new name will automatically beocme suffix."
   ]
  },
  {
   "cell_type": "code",
   "execution_count": 10,
   "metadata": {},
   "outputs": [],
   "source": [
    "def pandas_output(dataDict, pandasColName):\n",
    "    res = []\n",
    "    for i in dataDict:\n",
    "        if len(res) == 0:\n",
    "            res = copy.deepcopy(dataDict[i])\n",
    "            continue\n",
    "        for ix,v in enumerate(dataDict[i]):\n",
    "            res[ix] += v\n",
    "    return pd.DataFrame({pandasColName:res})"
   ]
  },
  {
   "cell_type": "code",
   "execution_count": 11,
   "metadata": {},
   "outputs": [
    {
     "name": "stdout",
     "output_type": "stream",
     "text": [
      "   time  data1  data2  sumCol_pandasName\n",
      "0     1      1      6                  7\n",
      "1     2      2      7                  9\n",
      "2     3      3      8                 11\n",
      "3     4      4      9                 13\n",
      "4     5      5     10                 15\n"
     ]
    }
   ],
   "source": [
    "trans = tst.Time_Series_Transformer(data,timeSeriesCol='time')\n",
    "trans = trans.transform(\n",
    "    inputLabels = ['data1','data2'],\n",
    "    newName = 'sumCol',\n",
    "    func = pandas_output,\n",
    "    pandasColName = \"pandasName\"\n",
    ")\n",
    "print(trans.to_pandas())"
   ]
  },
  {
   "cell_type": "markdown",
   "metadata": {},
   "source": [
    "### Data with Category\n",
    "\n",
    "Since time series data could be associated with different category, Time_Series_Transformer can specify the mainCategoryCol parameter to point out the main category. This class only provide one columns for main category because multiple dimensions can be aggregated into a new column as main category.\n",
    "\n",
    "The following example has one category with two type a and b. Each of them has some overlaped and different timestamp."
   ]
  },
  {
   "cell_type": "code",
   "execution_count": 12,
   "metadata": {},
   "outputs": [],
   "source": [
    "data = {\n",
    "    \"time\":[1,2,3,4,5,1,3,4,5],\n",
    "    'data':[1,2,3,4,5,1,2,3,4],\n",
    "    \"category\":['a','a','a','a','a','b','b','b','b']\n",
    "}"
   ]
  },
  {
   "cell_type": "code",
   "execution_count": 13,
   "metadata": {},
   "outputs": [
    {
     "data": {
      "text/plain": [
       "data column\n",
       "-----------\n",
       "time\n",
       "data\n",
       "time length: 5\n",
       "category: a\n",
       "\n",
       "data column\n",
       "-----------\n",
       "time\n",
       "data\n",
       "time length: 4\n",
       "category: b\n",
       "\n",
       "main category column: category"
      ]
     },
     "execution_count": 13,
     "metadata": {},
     "output_type": "execute_result"
    }
   ],
   "source": [
    "trans = tst.Time_Series_Transformer(data,'time','category')\n",
    "trans"
   ]
  },
  {
   "cell_type": "markdown",
   "metadata": {},
   "source": [
    "Since we specify the main category column, data manipulation functions can use n_jobs to execute the function in parallel. The parallel execution is with joblib implmentation (https://joblib.readthedocs.io/en/latest/). "
   ]
  },
  {
   "cell_type": "code",
   "execution_count": 14,
   "metadata": {},
   "outputs": [
    {
     "name": "stderr",
     "output_type": "stream",
     "text": [
      "[Parallel(n_jobs=2)]: Using backend LokyBackend with 2 concurrent workers.\n"
     ]
    },
    {
     "name": "stdout",
     "output_type": "stream",
     "text": [
      "   time  data  data_lag_1 category\n",
      "0     1     1         NaN        a\n",
      "1     2     2         1.0        a\n",
      "2     3     3         2.0        a\n",
      "3     4     4         3.0        a\n",
      "4     5     5         4.0        a\n",
      "5     1     1         NaN        b\n",
      "6     3     2         1.0        b\n",
      "7     4     3         2.0        b\n",
      "8     5     4         3.0        b\n"
     ]
    },
    {
     "name": "stderr",
     "output_type": "stream",
     "text": [
      "[Parallel(n_jobs=2)]: Done   2 out of   2 | elapsed:    3.6s remaining:    0.0s\n",
      "[Parallel(n_jobs=2)]: Done   2 out of   2 | elapsed:    3.6s finished\n"
     ]
    }
   ],
   "source": [
    "trans = trans.make_lag(\n",
    "    inputLabels = ['data'],\n",
    "    lagNum = 1,\n",
    "    suffix = '_lag_',\n",
    "    fillMissing = np.nan,\n",
    "    n_jobs = 2,\n",
    "    verbose = 10        \n",
    ")\n",
    "print(trans.to_pandas())"
   ]
  },
  {
   "cell_type": "markdown",
   "metadata": {},
   "source": [
    "To further support the category, there are two functions to deal with different time length data: pad_different_category_time and remove_different_category_time. The first function is padding the different length into same length, while the other is remove different timestamp."
   ]
  },
  {
   "cell_type": "code",
   "execution_count": 15,
   "metadata": {},
   "outputs": [
    {
     "name": "stdout",
     "output_type": "stream",
     "text": [
      "   time  data category\n",
      "0     1   1.0        a\n",
      "1     2   2.0        a\n",
      "2     3   3.0        a\n",
      "3     4   4.0        a\n",
      "4     5   5.0        a\n",
      "5     1   1.0        b\n",
      "6     2   NaN        b\n",
      "7     3   2.0        b\n",
      "8     4   3.0        b\n",
      "9     5   4.0        b\n"
     ]
    }
   ],
   "source": [
    "trans = tst.Time_Series_Transformer(data,'time','category')\n",
    "trans = trans.pad_different_category_time(fillMissing = np.nan\n",
    ")\n",
    "print(trans.to_pandas())"
   ]
  },
  {
   "cell_type": "code",
   "execution_count": 16,
   "metadata": {},
   "outputs": [
    {
     "name": "stdout",
     "output_type": "stream",
     "text": [
      "   time  data category\n",
      "0     1     1        a\n",
      "1     3     3        a\n",
      "2     4     4        a\n",
      "3     5     5        a\n",
      "4     1     1        b\n",
      "5     3     2        b\n",
      "6     4     3        b\n",
      "7     5     4        b\n"
     ]
    }
   ],
   "source": [
    "trans = tst.Time_Series_Transformer(data,'time','category')\n",
    "trans = trans.remove_different_category_time()\n",
    "print(trans.to_pandas())"
   ]
  },
  {
   "cell_type": "markdown",
   "metadata": {},
   "source": [
    "## IO\n",
    "\n",
    "IO is a huge component for this package. The current version support pandas DataFrame, numpy ndArray, Apache Arrow Table, Apache Feather, and Apache Parquet. All those io can specify whether to expand category or time for the export format. In this demo, we will show numpy and pandas. Also, Transformer can combine make_label function and sepLabel parameter inside of export to seperate data and label.\n",
    "\n",
    "### pandas"
   ]
  },
  {
   "cell_type": "code",
   "execution_count": 17,
   "metadata": {},
   "outputs": [],
   "source": [
    "data = {\n",
    "    \"time\":[1,2,3,4,5,1,3,4,5],\n",
    "    'data':[1,2,3,4,5,1,2,3,4],\n",
    "    \"category\":['a','a','a','a','a','b','b','b','b']\n",
    "}\n",
    "df = pd.DataFrame(data)"
   ]
  },
  {
   "cell_type": "code",
   "execution_count": 18,
   "metadata": {},
   "outputs": [
    {
     "data": {
      "text/plain": [
       "data column\n",
       "-----------\n",
       "time\n",
       "data\n",
       "time length: 5\n",
       "category: a\n",
       "\n",
       "data column\n",
       "-----------\n",
       "time\n",
       "data\n",
       "time length: 4\n",
       "category: b\n",
       "\n",
       "main category column: category"
      ]
     },
     "execution_count": 18,
     "metadata": {},
     "output_type": "execute_result"
    }
   ],
   "source": [
    "trans = tst.Time_Series_Transformer.from_pandas(\n",
    "    pandasFrame = df,\n",
    "    timeSeriesCol = 'time',\n",
    "    mainCategoryCol= 'category'\n",
    ")\n",
    "trans"
   ]
  },
  {
   "cell_type": "markdown",
   "metadata": {},
   "source": [
    "To expand the data, all category should be in consist. Besides the pad and remove function, we can use preprocessType parameter to achive that."
   ]
  },
  {
   "cell_type": "code",
   "execution_count": 19,
   "metadata": {},
   "outputs": [
    {
     "name": "stdout",
     "output_type": "stream",
     "text": [
      "   time  data_a  data_b\n",
      "0     1       1     1.0\n",
      "1     2       2     NaN\n",
      "2     3       3     2.0\n",
      "3     4       4     3.0\n",
      "4     5       5     4.0\n"
     ]
    }
   ],
   "source": [
    "print(trans.to_pandas(\n",
    "    expandCategory = True,\n",
    "    expandTime = False,\n",
    "    preprocessType = 'pad'\n",
    "))"
   ]
  },
  {
   "cell_type": "code",
   "execution_count": 20,
   "metadata": {},
   "outputs": [
    {
     "name": "stdout",
     "output_type": "stream",
     "text": [
      "   data_1  data_2  data_3  data_4  data_5 category\n",
      "0       1     2.0       3       4       5        a\n",
      "1       1     NaN       2       3       4        b\n"
     ]
    }
   ],
   "source": [
    "print(trans.to_pandas(\n",
    "    expandCategory = False,\n",
    "    expandTime = True,\n",
    "    preprocessType = 'pad'\n",
    "))"
   ]
  },
  {
   "cell_type": "code",
   "execution_count": 21,
   "metadata": {},
   "outputs": [
    {
     "name": "stdout",
     "output_type": "stream",
     "text": [
      "   data_a_1  data_b_1  data_a_2  data_b_2  data_a_3  data_b_3  data_a_4  \\\n",
      "0         1       1.0         2       NaN         3       2.0         4   \n",
      "\n",
      "   data_b_4  data_a_5  data_b_5  \n",
      "0       3.0         5       4.0  \n"
     ]
    }
   ],
   "source": [
    "print(trans.to_pandas(\n",
    "    expandCategory = True,\n",
    "    expandTime = True,\n",
    "    preprocessType = 'pad'\n",
    "))"
   ]
  },
  {
   "cell_type": "markdown",
   "metadata": {},
   "source": [
    "make_label function can be used with sepLabel parameter. This function can be used for seperating X and y for machine learning cases."
   ]
  },
  {
   "cell_type": "code",
   "execution_count": 22,
   "metadata": {},
   "outputs": [],
   "source": [
    "trans = trans.make_lead('data',leadNum = 1,suffix = '_lead_')\n",
    "trans = trans.make_label(\"data_lead_1\")"
   ]
  },
  {
   "cell_type": "code",
   "execution_count": 23,
   "metadata": {},
   "outputs": [],
   "source": [
    "data, label = trans.to_pandas(\n",
    "    expandCategory = False,\n",
    "    expandTime = False,\n",
    "    preprocessType = 'pad',\n",
    "    sepLabel = True\n",
    ")"
   ]
  },
  {
   "cell_type": "code",
   "execution_count": 24,
   "metadata": {},
   "outputs": [
    {
     "name": "stdout",
     "output_type": "stream",
     "text": [
      "   time  data category\n",
      "0     1   1.0        a\n",
      "1     2   2.0        a\n",
      "2     3   3.0        a\n",
      "3     4   4.0        a\n",
      "4     5   5.0        a\n",
      "5     1   1.0        b\n",
      "6     2   NaN        b\n",
      "7     3   2.0        b\n",
      "8     4   3.0        b\n",
      "9     5   4.0        b\n"
     ]
    }
   ],
   "source": [
    "print(data)"
   ]
  },
  {
   "cell_type": "code",
   "execution_count": 25,
   "metadata": {},
   "outputs": [
    {
     "name": "stdout",
     "output_type": "stream",
     "text": [
      "   data_lead_1\n",
      "0          2.0\n",
      "1          3.0\n",
      "2          4.0\n",
      "3          5.0\n",
      "4          NaN\n",
      "5          2.0\n",
      "6          NaN\n",
      "7          3.0\n",
      "8          4.0\n",
      "9          NaN\n"
     ]
    }
   ],
   "source": [
    "print(label)"
   ]
  },
  {
   "cell_type": "markdown",
   "metadata": {},
   "source": [
    "### numpy\n",
    "Since numpy has no column name, it has to use index number to specify column."
   ]
  },
  {
   "cell_type": "code",
   "execution_count": 26,
   "metadata": {},
   "outputs": [],
   "source": [
    "data = {\n",
    "    \"time\":[1,2,3,4,5,1,3,4,5],\n",
    "    'data':[1,2,3,4,5,1,2,3,4],\n",
    "    \"category\":['a','a','a','a','a','b','b','b','b']\n",
    "}\n",
    "npArray = pd.DataFrame(data).values"
   ]
  },
  {
   "cell_type": "code",
   "execution_count": 27,
   "metadata": {},
   "outputs": [
    {
     "data": {
      "text/plain": [
       "data column\n",
       "-----------\n",
       "0\n",
       "1\n",
       "time length: 5\n",
       "category: a\n",
       "\n",
       "data column\n",
       "-----------\n",
       "0\n",
       "1\n",
       "time length: 4\n",
       "category: b\n",
       "\n",
       "main category column: 2"
      ]
     },
     "execution_count": 27,
     "metadata": {},
     "output_type": "execute_result"
    }
   ],
   "source": [
    "trans = tst.Time_Series_Transformer.from_numpy(\n",
    "    numpyData= npArray,\n",
    "    timeSeriesCol = 0,\n",
    "    mainCategoryCol = 2)\n",
    "trans"
   ]
  },
  {
   "cell_type": "code",
   "execution_count": 28,
   "metadata": {},
   "outputs": [],
   "source": [
    "trans = trans.make_lead(1,leadNum = 1,suffix = '_lead_')\n",
    "trans = trans.make_label(\"1_lead_1\")"
   ]
  },
  {
   "cell_type": "code",
   "execution_count": 29,
   "metadata": {},
   "outputs": [],
   "source": [
    "X,y = trans.to_pandas(\n",
    "    expandCategory = False,\n",
    "    expandTime = False,\n",
    "    preprocessType = 'pad',\n",
    "    sepLabel = True\n",
    ")"
   ]
  },
  {
   "cell_type": "code",
   "execution_count": 30,
   "metadata": {},
   "outputs": [
    {
     "name": "stdout",
     "output_type": "stream",
     "text": [
      "   0    1  2\n",
      "0  1  1.0  a\n",
      "1  2  2.0  a\n",
      "2  3  3.0  a\n",
      "3  4  4.0  a\n",
      "4  5  5.0  a\n",
      "5  1  1.0  b\n",
      "6  2  NaN  b\n",
      "7  3  2.0  b\n",
      "8  4  3.0  b\n",
      "9  5  4.0  b\n"
     ]
    }
   ],
   "source": [
    "print(X)"
   ]
  },
  {
   "cell_type": "code",
   "execution_count": 31,
   "metadata": {},
   "outputs": [
    {
     "name": "stdout",
     "output_type": "stream",
     "text": [
      "   1_lead_1\n",
      "0       2.0\n",
      "1       3.0\n",
      "2       4.0\n",
      "3       5.0\n",
      "4       NaN\n",
      "5       2.0\n",
      "6       NaN\n",
      "7       3.0\n",
      "8       4.0\n",
      "9       NaN\n"
     ]
    }
   ],
   "source": [
    "print(y)"
   ]
  },
  {
   "cell_type": "markdown",
   "metadata": {},
   "source": [
    "# Stock_Transformer\n",
    "\n",
    "Stock_Transformer is a subclass of Time_Series_Transformer. Hence, all the function demonstrated in Time_Series_Transformer canbe used in Stock_Transformer. The differences for Stock_Transformer is that it is required to specify High, Low, Open, Close, Volume columns. Besides these information, it has pandas-ta strategy implmentation to create technical indicator (https://github.com/twopirllc/pandas-ta). Moreover, the io class for Stock_Transformer support yfinance and investpy. We can directly extract data from these api.\n",
    "\n",
    "### create technical indicator"
   ]
  },
  {
   "cell_type": "code",
   "execution_count": 32,
   "metadata": {},
   "outputs": [
    {
     "data": {
      "text/plain": [
       "data column\n",
       "-----------\n",
       "Date\n",
       "Open\n",
       "High\n",
       "Low\n",
       "Close\n",
       "Volume\n",
       "Dividends\n",
       "Stock Splits\n",
       "time length: 253\n",
       "category: None\n"
      ]
     },
     "execution_count": 32,
     "metadata": {},
     "output_type": "execute_result"
    }
   ],
   "source": [
    "stock = tst.Stock_Transformer.from_stock_engine_period(\n",
    "    symbols = 'GOOGL',period ='1y', engine = 'yahoo'\n",
    ")\n",
    "stock"
   ]
  },
  {
   "cell_type": "code",
   "execution_count": 33,
   "metadata": {},
   "outputs": [],
   "source": [
    "import pandas_ta as ta\n",
    "MyStrategy = ta.Strategy(\n",
    "    name=\"DCSMA10\",\n",
    "    ta=[\n",
    "        {\"kind\": \"ohlc4\"},\n",
    "        {\"kind\": \"sma\", \"length\": 10},\n",
    "        {\"kind\": \"donchian\", \"lower_length\": 10, \"upper_length\": 15},\n",
    "        {\"kind\": \"ema\", \"close\": \"OHLC4\", \"length\": 10, \"suffix\": \"OHLC4\"},\n",
    "    ]\n",
    ")"
   ]
  },
  {
   "cell_type": "code",
   "execution_count": 34,
   "metadata": {},
   "outputs": [
    {
     "name": "stdout",
     "output_type": "stream",
     "text": [
      "         Date         Open         High          Low        Close   Volume  \\\n",
      "0  2020-01-06  1351.630005  1398.319946  1351.000000  1397.810059  2338400   \n",
      "1  2020-01-07  1400.459961  1403.500000  1391.560059  1395.109985  1716500   \n",
      "2  2020-01-08  1394.819946  1411.849976  1392.630005  1405.040039  1765700   \n",
      "3  2020-01-09  1421.930054  1428.680054  1410.209961  1419.790039  1660000   \n",
      "4  2020-01-10  1429.469971  1434.939941  1419.599976  1428.959961  1312900   \n",
      "\n",
      "   Dividends  Stock Splits        OHLC4  SMA_10  DCL_10_15  DCM_10_15  \\\n",
      "0          0             0  1374.690002     NaN        NaN        NaN   \n",
      "1          0             0  1397.657501     NaN        NaN        NaN   \n",
      "2          0             0  1401.084991     NaN        NaN        NaN   \n",
      "3          0             0  1420.152527     NaN        NaN        NaN   \n",
      "4          0             0  1428.242462     NaN        NaN        NaN   \n",
      "\n",
      "   DCU_10_15  EMA_10_OHLC4  \n",
      "0        NaN           NaN  \n",
      "1        NaN           NaN  \n",
      "2        NaN           NaN  \n",
      "3        NaN           NaN  \n",
      "4        NaN           NaN  \n"
     ]
    }
   ],
   "source": [
    "stock = stock.get_technial_indicator(MyStrategy)\n",
    "print(stock.to_pandas().head())"
   ]
  },
  {
   "cell_type": "markdown",
   "metadata": {},
   "source": [
    "For more usage please visit our gallery"
   ]
  }
 ],
 "metadata": {
  "kernelspec": {
   "display_name": "Python 3",
   "language": "python",
   "name": "python3"
  },
  "language_info": {
   "codemirror_mode": {
    "name": "ipython",
    "version": 3
   },
   "file_extension": ".py",
   "mimetype": "text/x-python",
   "name": "python",
   "nbconvert_exporter": "python",
   "pygments_lexer": "ipython3",
   "version": "3.8.5"
  }
 },
 "nbformat": 4,
 "nbformat_minor": 4
}
