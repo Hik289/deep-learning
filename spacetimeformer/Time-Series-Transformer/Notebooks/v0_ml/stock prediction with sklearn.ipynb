{
 "cells": [
  {
   "cell_type": "markdown",
   "metadata": {},
   "source": [
    "# Stock Forecast Using Single Denoised Data"
   ]
  },
  {
   "cell_type": "markdown",
   "metadata": {},
   "source": [
    "This example is going to demonstrate how to use time_seris_transform to denoise data prepare lag/lead features. In this exmple, there are four steps\n",
    "1. prepare raw and denoise data\n",
    "2. make lag/lead feature\n",
    "3. Sklearn Model & Visualize Test\n",
    "\n",
    "## Prepare raw data\n",
    "\n",
    "In this example, we use Stock_Extractor to get an single stock data from yahoo finance.\n",
    "Subsequently, we directly denoise the data using make_techinical_indicator funciton. This function is a wrapper which can take function object and transform the traget column.In time_series_transform.transform_core_api.util, there are different pre-made fucntion for feature engineering such as geometric moving average, wavelet transformation, or fast fourier transformation."
   ]
  },
  {
   "cell_type": "code",
   "execution_count": 1,
   "metadata": {},
   "outputs": [],
   "source": [
    "import pandas as pd\n",
    "import seaborn as sns\n",
    "import time_series_transform as tst\n",
    "from time_series_transform.transform_core_api.util import wavelet_denoising"
   ]
  },
  {
   "cell_type": "code",
   "execution_count": 2,
   "metadata": {},
   "outputs": [
    {
     "data": {
      "image/png": "[encoded data removed]",
      "text/plain": [
       "<Figure size 432x288 with 1 Axes>"
      ]
     },
     "metadata": {
      "needs_background": "light"
     },
     "output_type": "display_data"
    }
   ],
   "source": [
    "stock = tst.Stock_Extractor('googl','yahoo').get_stock_period('5y') # get period of stock\n",
    "df = stock.make_technical_indicator(\"Close\",\"Close_Wavelet\",wavelet_denoising,wavelet='haar').dataFrame # denoise data\n",
    "stock.plot([\"Close\",\"Close_Wavelet\"])"
   ]
  },
  {
   "cell_type": "markdown",
   "metadata": {},
   "source": [
    "## Make lag/lead features\n",
    "\n",
    "After we prepared the data, we can use Pandas_Time_Series_Panel_Dataset to make lag or lead data as feature or target values for machine learning models. In this example, we only make 30-day lags data for Close data with Wavelet transformation, and only 1 step forward data as label."
   ]
  },
  {
   "cell_type": "code",
   "execution_count": 4,
   "metadata": {},
   "outputs": [],
   "source": [
    "panel_trans = tst.Pandas_Time_Series_Panel_Dataset(df)\n",
    "panel_trans = panel_trans.make_slide_window('Date',30,['Close_Wavelet'])\n",
    "panel_trans = panel_trans.make_lead_column('Date','Close',1)\n",
    "df = panel_trans.df"
   ]
  },
  {
   "cell_type": "code",
   "execution_count": 5,
   "metadata": {},
   "outputs": [
    {
     "name": "stdout",
     "output_type": "stream",
     "text": [
      "          Date  Close_Wavelet_lag1  Close_Wavelet_lag2  Close_Wavelet_lag3  \\\n",
      "30  2015-09-30          650.550938          650.550938          650.550938   \n",
      "31  2015-10-01          650.550938          650.550938          650.550938   \n",
      "32  2015-10-02          650.550938          650.550938          650.550938   \n",
      "33  2015-10-05          680.570000          650.550938          650.550938   \n",
      "34  2015-10-06          680.570000          680.570000          650.550938   \n",
      "\n",
      "    Close_Wavelet_lag4  Close_Wavelet_lag5  Close_Wavelet_lag6  \\\n",
      "30          650.550938          650.550938          650.550938   \n",
      "31          650.550938          650.550938          650.550938   \n",
      "32          650.550938          650.550938          650.550938   \n",
      "33          650.550938          650.550938          650.550938   \n",
      "34          650.550938          650.550938          650.550938   \n",
      "\n",
      "    Close_Wavelet_lag7  Close_Wavelet_lag8  Close_Wavelet_lag9  ...  \\\n",
      "30          650.550938          650.550938          650.550938  ...   \n",
      "31          650.550938          650.550938          650.550938  ...   \n",
      "32          650.550938          650.550938          650.550938  ...   \n",
      "33          650.550938          650.550938          650.550938  ...   \n",
      "34          650.550938          650.550938          650.550938  ...   \n",
      "\n",
      "    Close_Wavelet_lag22  Close_Wavelet_lag23  Close_Wavelet_lag24  \\\n",
      "30           650.550938           656.330938           656.330938   \n",
      "31           650.550938           650.550938           656.330938   \n",
      "32           650.550938           650.550938           650.550938   \n",
      "33           650.550938           650.550938           650.550938   \n",
      "34           650.550938           650.550938           650.550938   \n",
      "\n",
      "    Close_Wavelet_lag25  Close_Wavelet_lag26  Close_Wavelet_lag27  \\\n",
      "30           607.770938           607.770938           669.050938   \n",
      "31           656.330938           607.770938           607.770938   \n",
      "32           656.330938           656.330938           607.770938   \n",
      "33           650.550938           656.330938           656.330938   \n",
      "34           650.550938           650.550938           656.330938   \n",
      "\n",
      "    Close_Wavelet_lag28  Close_Wavelet_lag29  Close_Wavelet_lag30  Close_lead1  \n",
      "30           669.050938           669.050938           669.050938       642.00  \n",
      "31           669.050938           669.050938           669.050938       656.99  \n",
      "32           607.770938           669.050938           669.050938       671.68  \n",
      "33           607.770938           607.770938           669.050938       671.64  \n",
      "34           656.330938           607.770938           607.770938       670.00  \n",
      "\n",
      "[5 rows x 32 columns]\n"
     ]
    }
   ],
   "source": [
    "df = df.drop(['Open', 'High', 'Low', 'Close', 'Volume', 'Dividends',\n",
    "       'Stock Splits', 'Close_Wavelet', 'symbol'],axis =1).dropna()\n",
    "df = df.sort_values('Date')\n",
    "print(df.head())"
   ]
  },
  {
   "cell_type": "markdown",
   "metadata": {},
   "source": [
    "## Machine learning model & visualize test results\n",
    "\n",
    "After we pre-process the data, we can use sklearn to predict the value. In this example, we use Random Forest with Random Search Tuner to prepare our model."
   ]
  },
  {
   "cell_type": "code",
   "execution_count": 6,
   "metadata": {},
   "outputs": [],
   "source": [
    "from sklearn.model_selection import TimeSeriesSplit,RandomizedSearchCV\n",
    "from sklearn.preprocessing import StandardScaler\n",
    "from sklearn.pipeline import Pipeline\n",
    "from sklearn.decomposition import PCA\n",
    "from sklearn.ensemble import RandomForestRegressor"
   ]
  },
  {
   "cell_type": "code",
   "execution_count": 13,
   "metadata": {},
   "outputs": [],
   "source": [
    "train = df[df.Date<'2020-07-01']\n",
    "test = df[df.Date >= '2020-07-01']"
   ]
  },
  {
   "cell_type": "code",
   "execution_count": 69,
   "metadata": {},
   "outputs": [],
   "source": [
    "rf = RandomForestRegressor(n_jobs =1,)\n",
    "haparms = [{\n",
    "    \"n_estimators\":np.arange(100,200,10,dtype=int),\n",
    "    \"min_samples_split\":np.arange(2,40,1,dtype=int),\n",
    "    \"min_samples_leaf\":np.arange(2,40,1,dtype=int),\n",
    "}]\n",
    "\n",
    "randomSearch = RandomizedSearchCV(\n",
    "    rf,\n",
    "    haparms,5,\n",
    "    cv = TimeSeriesSplit(3),\n",
    "    n_jobs =1\n",
    ")"
   ]
  },
  {
   "cell_type": "code",
   "execution_count": 70,
   "metadata": {
    "scrolled": false
   },
   "outputs": [
    {
     "data": {
      "text/plain": [
       "RandomizedSearchCV(cv=TimeSeriesSplit(max_train_size=None, n_splits=3),\n",
       "                   error_score=nan,\n",
       "                   estimator=RandomForestRegressor(bootstrap=True,\n",
       "                                                   ccp_alpha=0.0,\n",
       "                                                   criterion='mse',\n",
       "                                                   max_depth=None,\n",
       "                                                   max_features='auto',\n",
       "                                                   max_leaf_nodes=None,\n",
       "                                                   max_samples=None,\n",
       "                                                   min_impurity_decrease=0.0,\n",
       "                                                   min_impurity_split=None,\n",
       "                                                   min_samples_leaf=1,\n",
       "                                                   min_samples_split=2,\n",
       "                                                   min_weight_fraction_leaf=0...\n",
       "       19, 20, 21, 22, 23, 24, 25, 26, 27, 28, 29, 30, 31, 32, 33, 34, 35,\n",
       "       36, 37, 38, 39]),\n",
       "                                         'min_samples_split': array([ 2,  3,  4,  5,  6,  7,  8,  9, 10, 11, 12, 13, 14, 15, 16, 17, 18,\n",
       "       19, 20, 21, 22, 23, 24, 25, 26, 27, 28, 29, 30, 31, 32, 33, 34, 35,\n",
       "       36, 37, 38, 39]),\n",
       "                                         'n_estimators': array([100, 110, 120, 130, 140, 150, 160, 170, 180, 190])}],\n",
       "                   pre_dispatch='2*n_jobs', random_state=None, refit=True,\n",
       "                   return_train_score=False, scoring=None, verbose=0)"
      ]
     },
     "execution_count": 70,
     "metadata": {},
     "output_type": "execute_result"
    }
   ],
   "source": [
    "trainX= train.drop(['Date','Close_lead1'],axis = 1)\n",
    "trainY = train.Close_lead1\n",
    "randomSearch.fit(trainX,trainY)"
   ]
  },
  {
   "cell_type": "code",
   "execution_count": 71,
   "metadata": {},
   "outputs": [],
   "source": [
    "test= test.sort_values('Date')\n",
    "testX= test.drop(['Date','Close_lead1'],axis = 1)\n",
    "testY = test.Close_lead1\n",
    "test_prd = randomSearch.predict(testX)\n",
    "train_prd = randomSearch.predict(trainX)"
   ]
  },
  {
   "cell_type": "code",
   "execution_count": 72,
   "metadata": {},
   "outputs": [],
   "source": [
    "compareFrame = pd.DataFrame({'train_prd':train_prd,'train_real':train.Close_lead1.tolist()},index = train.Date)\n",
    "compareFrame_test = pd.DataFrame({'test_prd':test_prd,'test_real':test.Close_lead1.tolist()},index = test.Date)\n",
    "compareFrame = compareFrame.append(compareFrame_test)\n",
    "compareFrame['Date'] = compareFrame.index\n",
    "compareFrame.index = list(range(1,len(compareFrame)+1))"
   ]
  },
  {
   "cell_type": "code",
   "execution_count": 73,
   "metadata": {},
   "outputs": [
    {
     "data": {
      "text/plain": [
       "<matplotlib.axes._subplots.AxesSubplot at 0x120e78f0048>"
      ]
     },
     "execution_count": 73,
     "metadata": {},
     "output_type": "execute_result"
    },
    {
     "data": {
      "image/png": "[encoded data removed]",
      "text/plain": [
       "<Figure size 432x288 with 1 Axes>"
      ]
     },
     "metadata": {
      "needs_background": "light"
     },
     "output_type": "display_data"
    }
   ],
   "source": [
    "sns.lineplot(data= [\n",
    "    compareFrame[compareFrame.Date >'2020-04-01'].train_real, \n",
    "    compareFrame[compareFrame.Date >='2020-07-01'].test_real,\n",
    "    compareFrame[compareFrame.Date >'2020-04-01'].train_prd, \n",
    "    compareFrame[compareFrame.Date >='2020-07-01'].test_prd, \n",
    "])"
   ]
  },
  {
   "cell_type": "markdown",
   "metadata": {},
   "source": [
    "# Stock Forecast Using Multiple Stock Features\n",
    "\n",
    "This example is going to use a set of stocks to predict one stock. This example also implments different algorithms for feature engineering. Furthermore, this example will show how to implment functional object in Pandas_Time_Series_Panel_Dataset class.\n",
    "There are three steps in this example\n",
    "1. prepare stocks data through Portfolio_Extractor api and transform data\n",
    "2. making lag/lead data and other feature engineering function using Pandas_Time_Series_Panel_Dataset\n",
    "3. sklearn model and visualize test results\n",
    "\n",
    "## Prepare stocks data and transformation\n",
    "\n",
    "Portfolio_Extractor takes a list of stock ticks, and return an Portfolio objects. In this example, we prepare 5 year of data. Subsequently, we transform Close, Open, High, Low values using wavelet, fast fourier, and geometric moving average."
   ]
  },
  {
   "cell_type": "code",
   "execution_count": 7,
   "metadata": {},
   "outputs": [],
   "source": [
    "import time_series_transform as tst\n",
    "from time_series_transform.transform_core_api.util import wavelet_denoising,rfft_transform,geometric_ma"
   ]
  },
  {
   "cell_type": "code",
   "execution_count": 8,
   "metadata": {},
   "outputs": [],
   "source": [
    "port = tst.Portfolio_Extractor(['googl','aapl','fb'],'yahoo').get_portfolio_period('5y')"
   ]
  },
  {
   "cell_type": "code",
   "execution_count": 9,
   "metadata": {},
   "outputs": [],
   "source": [
    "colList = ['Close','Open','High','Low']\n",
    "denoiseCol = []\n",
    "for col in colList:\n",
    "    port.make_technical_indicator(col,f'{col}_wavelet',wavelet_denoising,wavelet='haar')\n",
    "    port.make_technical_indicator(col,f'{col}_fft',rfft_transform,threshold=0.001)\n",
    "    port.make_technical_indicator(col,f'{col}_gma20',geometric_ma,windowSize=20)\n",
    "    port.make_technical_indicator(col,f'{col}_gma200',geometric_ma,windowSize=200)\n",
    "    denoiseCol.extend([f'{col}_wavelet',f'{col}_fft',f'{col}_gma200',f'{col}_gma20'])"
   ]
  },
  {
   "cell_type": "code",
   "execution_count": 10,
   "metadata": {},
   "outputs": [
    {
     "name": "stdout",
     "output_type": "stream",
     "text": [
      "         Date    Open    High     Low   Close   Volume  Dividends  \\\n",
      "0  2015-08-18  691.07  695.76  685.32  688.73  1385500        0.0   \n",
      "1  2015-08-19  690.11  700.20  686.80  694.04  2509700        0.0   \n",
      "2  2015-08-20  689.10  696.16  675.28  679.48  2889900        0.0   \n",
      "3  2015-08-21  671.04  672.89  643.10  644.03  4594000        0.0   \n",
      "4  2015-08-24  600.60  627.68  593.09  618.11  6489400        0.0   \n",
      "\n",
      "   Stock Splits  Close_wavelet    Close_fft  ...  Open_gma200  High_wavelet  \\\n",
      "0             0     669.050938          NaN  ...          NaN     689.18375   \n",
      "1             0     669.050938  1030.490525  ...          NaN     689.18375   \n",
      "2             0     669.050938  1030.490525  ...          NaN     689.18375   \n",
      "3             0     669.050938  1030.490525  ...          NaN     689.18375   \n",
      "4             0     607.770938  1030.490525  ...          NaN     650.71625   \n",
      "\n",
      "      High_fft  High_gma20  High_gma200  Low_wavelet      Low_fft  Low_gma20  \\\n",
      "0          NaN         NaN          NaN   668.582188          NaN        NaN   \n",
      "1  1039.700747         NaN          NaN   668.582188  1020.316924        NaN   \n",
      "2  1039.700747         NaN          NaN   668.582188  1020.316924        NaN   \n",
      "3  1039.700747         NaN          NaN   668.582188  1020.316924        NaN   \n",
      "4  1039.700747         NaN          NaN   617.514688  1020.316924        NaN   \n",
      "\n",
      "   Low_gma200  symbol  \n",
      "0         NaN   googl  \n",
      "1         NaN   googl  \n",
      "2         NaN   googl  \n",
      "3         NaN   googl  \n",
      "4         NaN   googl  \n",
      "\n",
      "[5 rows x 25 columns]\n"
     ]
    }
   ],
   "source": [
    "df = port.get_portfolio_dataFrame()\n",
    "print(df.head())"
   ]
  },
  {
   "cell_type": "markdown",
   "metadata": {},
   "source": [
    "## Lag/lead data and other feature engineering\n",
    "\n",
    "Here, we create an moving standard deviation feature and make 20-day-lag with denoised data from previous step. In order to create the proper feature, we have to be aware of its category. That means that we have to group by each stocks. After making new feature, we can create lag data and expand it by its category.\n",
    "\n",
    "To manipulate the data using transform_dataFrame function, the first argument of the function must be the data array/list, and the output must be numpy array or list."
   ]
  },
  {
   "cell_type": "code",
   "execution_count": 11,
   "metadata": {},
   "outputs": [],
   "source": [
    "df = df.drop(['Volume','Dividends','Stock Splits'],axis =1)\n",
    "panel_transform = tst.Pandas_Time_Series_Panel_Dataset(df)"
   ]
  },
  {
   "cell_type": "code",
   "execution_count": 12,
   "metadata": {
    "scrolled": true
   },
   "outputs": [],
   "source": [
    "import pandas as pd\n",
    "def moving_std (arr,windowSize):\n",
    "    res = pd.Series(arr).rolling(windowSize).std()\n",
    "    return res\n",
    "panel_transform = panel_transform.transform_dataFrame('Close','Close_std','Date','symbol',moving_std,windowSize = 10)"
   ]
  },
  {
   "cell_type": "code",
   "execution_count": 13,
   "metadata": {},
   "outputs": [],
   "source": [
    "panel_transform = panel_transform.make_slide_window(\n",
    "    indexCol = 'Date',\n",
    "    windowSize = 20,\n",
    "    colList = denoiseCol+['Close_std'],\n",
    "    groupby = 'symbol')\n",
    "panel_transform = panel_transform.expand_dataFrame_by_category('Date','symbol')"
   ]
  },
  {
   "cell_type": "code",
   "execution_count": 14,
   "metadata": {
    "scrolled": true
   },
   "outputs": [
    {
     "name": "stdout",
     "output_type": "stream",
     "text": [
      "         Date  Open_aapl  High_aapl  Low_aapl  Close_aapl  Close_wavelet_aapl  \\\n",
      "0  2015-08-18     107.59     108.53    107.21      107.66           103.49375   \n",
      "1  2015-08-19     107.29     107.68    105.98      106.28           103.49375   \n",
      "2  2015-08-20     105.42     105.67    103.16      104.10           103.49375   \n",
      "3  2015-08-21     102.05     103.41     97.63       97.73           103.49375   \n",
      "4  2015-08-24      87.67     100.54     85.02       95.29           103.49375   \n",
      "\n",
      "   Close_fft_aapl  Close_gma20_aapl  Close_gma200_aapl  Open_wavelet_aapl  \\\n",
      "0             NaN               NaN                NaN         107.307188   \n",
      "1      174.718831               NaN                NaN         107.307188   \n",
      "2      174.718831               NaN                NaN         107.307188   \n",
      "3      174.718831               NaN                NaN         107.307188   \n",
      "4      174.718831               NaN                NaN          92.469688   \n",
      "\n",
      "   ...  Close_std_lag11_googl  Close_std_lag12_googl  Close_std_lag13_googl  \\\n",
      "0  ...                    NaN                    NaN                    NaN   \n",
      "1  ...                    NaN                    NaN                    NaN   \n",
      "2  ...                    NaN                    NaN                    NaN   \n",
      "3  ...                    NaN                    NaN                    NaN   \n",
      "4  ...                    NaN                    NaN                    NaN   \n",
      "\n",
      "   Close_std_lag14_googl  Close_std_lag15_googl  Close_std_lag16_googl  \\\n",
      "0                    NaN                    NaN                    NaN   \n",
      "1                    NaN                    NaN                    NaN   \n",
      "2                    NaN                    NaN                    NaN   \n",
      "3                    NaN                    NaN                    NaN   \n",
      "4                    NaN                    NaN                    NaN   \n",
      "\n",
      "   Close_std_lag17_googl  Close_std_lag18_googl  Close_std_lag19_googl  \\\n",
      "0                    NaN                    NaN                    NaN   \n",
      "1                    NaN                    NaN                    NaN   \n",
      "2                    NaN                    NaN                    NaN   \n",
      "3                    NaN                    NaN                    NaN   \n",
      "4                    NaN                    NaN                    NaN   \n",
      "\n",
      "   Close_std_lag20_googl  \n",
      "0                    NaN  \n",
      "1                    NaN  \n",
      "2                    NaN  \n",
      "3                    NaN  \n",
      "4                    NaN  \n",
      "\n",
      "[5 rows x 1084 columns]\n"
     ]
    }
   ],
   "source": [
    "print(panel_transform.df.head())"
   ]
  },
  {
   "cell_type": "code",
   "execution_count": 15,
   "metadata": {},
   "outputs": [],
   "source": [
    "panel_transform = panel_transform.make_lead_column('Date','Close_googl',1)\n",
    "df = panel_transform.df\n",
    "df = df.dropna()"
   ]
  },
  {
   "cell_type": "code",
   "execution_count": 16,
   "metadata": {},
   "outputs": [],
   "source": [
    "from sklearn.model_selection import TimeSeriesSplit,RandomizedSearchCV\n",
    "from sklearn.preprocessing import StandardScaler\n",
    "from sklearn.pipeline import Pipeline\n",
    "from sklearn.decomposition import PCA\n",
    "from sklearn.ensemble import RandomForestRegressor\n",
    "import numpy as np\n",
    "import seaborn as sns"
   ]
  },
  {
   "cell_type": "code",
   "execution_count": 17,
   "metadata": {},
   "outputs": [],
   "source": [
    "train = df[df.Date<'2020-07-01']\n",
    "test = df[df.Date >= '2020-07-01']"
   ]
  },
  {
   "cell_type": "code",
   "execution_count": 18,
   "metadata": {},
   "outputs": [],
   "source": [
    "rf = RandomForestRegressor(n_jobs =1)\n",
    "haparms = [{\n",
    "    \"n_estimators\":np.arange(100,200,10,dtype=int),\n",
    "    \"min_samples_split\":np.arange(2,40,1,dtype=int),\n",
    "    \"min_samples_leaf\":np.arange(2,40,1,dtype=int),\n",
    "}]\n",
    "\n",
    "randomSearch = RandomizedSearchCV(\n",
    "    rf,\n",
    "    haparms,10,\n",
    "    cv = TimeSeriesSplit(3),\n",
    "    n_jobs =1\n",
    ")"
   ]
  },
  {
   "cell_type": "code",
   "execution_count": null,
   "metadata": {
    "scrolled": true
   },
   "outputs": [],
   "source": [
    "train = train.sort_values('Date')\n",
    "trainX= train.drop(['Date','Close_googl_lead1'],axis = 1)\n",
    "trainY = train.Close_googl_lead1\n",
    "randomSearch.fit(trainX,trainY)\n",
    "train_prd = randomSearch.predict(trainX)"
   ]
  },
  {
   "cell_type": "code",
   "execution_count": null,
   "metadata": {},
   "outputs": [],
   "source": [
    "test= test.sort_values('Date')\n",
    "testX= test.drop(['Date','Close_googl_lead1'],axis = 1)\n",
    "testY = test.Close_googl_lead1\n",
    "test_prd = randomSearch.predict(testX)"
   ]
  },
  {
   "cell_type": "code",
   "execution_count": null,
   "metadata": {},
   "outputs": [],
   "source": [
    "compareFrame = pd.DataFrame({'train_prd':train_prd,'train_real':train.Close_googl_lead1.tolist()},index = train.Date)\n",
    "compareFrame_test = pd.DataFrame({'test_prd':test_prd,'test_real':test.Close_googl_lead1.tolist()},index = test.Date)\n",
    "compareFrame = compareFrame.append(compareFrame_test)\n",
    "compareFrame['Date'] = compareFrame.index\n",
    "compareFrame.index = list(range(1,len(compareFrame)+1))"
   ]
  },
  {
   "cell_type": "code",
   "execution_count": null,
   "metadata": {},
   "outputs": [],
   "source": [
    "sns.lineplot(data= [\n",
    "    compareFrame[compareFrame.Date >'2020-04-01'].train_real, \n",
    "    compareFrame[compareFrame.Date >='2020-07-01'].test_real,\n",
    "    compareFrame[compareFrame.Date >'2020-04-01'].train_prd, \n",
    "    compareFrame[compareFrame.Date >='2020-07-01'].test_prd, \n",
    "])"
   ]
  },
  {
   "cell_type": "code",
   "execution_count": null,
   "metadata": {},
   "outputs": [],
   "source": []
  }
 ],
 "metadata": {
  "file_extension": ".py",
  "kernelspec": {
   "display_name": "Python 3",
   "language": "python",
   "name": "python3"
  },
  "language_info": {
   "codemirror_mode": {
    "name": "ipython",
    "version": 3
   },
   "file_extension": ".py",
   "mimetype": "text/x-python",
   "name": "python",
   "nbconvert_exporter": "python",
   "pygments_lexer": "ipython3",
   "version": "3.7.3"
  },
  "mimetype": "text/x-python",
  "name": "python",
  "npconvert_exporter": "python",
  "pygments_lexer": "ipython3",
  "toc": {
   "base_numbering": 1,
   "nav_menu": {},
   "number_sections": false,
   "sideBar": true,
   "skip_h1_title": false,
   "title_cell": "Table of Contents",
   "title_sidebar": "Contents",
   "toc_cell": false,
   "toc_position": {},
   "toc_section_display": true,
   "toc_window_display": false
  },
  "version": 3
 },
 "nbformat": 4,
 "nbformat_minor": 2
}
