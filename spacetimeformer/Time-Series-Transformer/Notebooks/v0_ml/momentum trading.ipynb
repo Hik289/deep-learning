{
 "cells": [
  {
   "cell_type": "markdown",
   "metadata": {},
   "source": [
    "# Momentum Trading"
   ]
  },
  {
   "cell_type": "code",
   "execution_count": 1,
   "metadata": {},
   "outputs": [],
   "source": [
    "import time_series_transform as tst\n",
    "import pandas as pd\n",
    "import numpy as np\n",
    "from matplotlib import pyplot as plt\n",
    "from time_series_transform.transform_core_api.util import *\n",
    "from time_series_transform.stock_transform.util import *\n"
   ]
  },
  {
   "cell_type": "code",
   "execution_count": 2,
   "metadata": {
    "scrolled": true
   },
   "outputs": [],
   "source": [
    "tickList = [\n",
    "    'GOOGL'\n",
    "]\n",
    "pe = tst.Portfolio_Extractor(tickList,'yahoo')\n",
    "port = pe.get_portfolio_date('2010-06-24','2020-07-30')\n",
    "port.remove_different_date()"
   ]
  },
  {
   "cell_type": "code",
   "execution_count": 3,
   "metadata": {},
   "outputs": [],
   "source": [
    "def rolling_std(arr,windowSize):\n",
    "    df = pd.DataFrame(arr,columns = ['tmp'])\n",
    "    return df.tmp.rolling(windowSize).std().values"
   ]
  },
  {
   "cell_type": "code",
   "execution_count": 4,
   "metadata": {
    "scrolled": false
   },
   "outputs": [],
   "source": [
    "labels = []\n",
    "colList = ['Open', 'High', 'Low', 'Close']\n",
    "for c in colList:\n",
    "    port.make_technical_indicator(c,f'{c}_wavelet',wavelet_denoising,wavelet = 'haar')\n",
    "    port.make_technical_indicator(c,f'{c}_gma150',geometric_ma,windowSize = 150)\n",
    "    port.make_technical_indicator(c,f'{c}_gma10',geometric_ma,windowSize = 10)\n",
    "    port.make_technical_indicator(c,f'{c}_std10',rolling_std,windowSize = 10)\n",
    "    port.make_technical_indicator(c,f'{c}_std50',rolling_std,windowSize = 50)\n",
    "    for t in tickList:\n",
    "        labels.extend([\n",
    "            f'{t}_{c}',\n",
    "            f'{t}_{c}_wavelet',\n",
    "            f'{t}_{c}_gma50',\n",
    "            f'{t}_{c}_gma10',\n",
    "            f'{t}_{c}_william',\n",
    "            f'{t}_{c}_std10',\n",
    "            f'{t}_{c}_std50',\n",
    "            f'{t}_{c}_so',\n",
    "        ])\n",
    "# port.make_technical_indicator('Close',f'william',williams_r)\n",
    "port.make_technical_indicator('Close',f'macd',macd,return_diff=True)\n",
    "port.make_technical_indicator('Close',f'so',stochastic_oscillator) "
   ]
  },
  {
   "cell_type": "code",
   "execution_count": 5,
   "metadata": {
    "scrolled": true
   },
   "outputs": [],
   "source": [
    "df = port.get_portfolio_dataFrame()\n",
    "ptspd = tst.Pandas_Time_Series_Panel_Dataset(df)\n",
    "ptspd =ptspd.expand_dataFrame_by_category('Date','symbol')\n",
    "ptspd = ptspd.make_slide_window('Date',30).make_lead_column('Date','Close_GOOGL',1)\n",
    "df = ptspd.df\n",
    "df = df.drop(['Dividends_GOOGL','Stock Splits_GOOGL'],axis =1)\n",
    "df=df.sort_values('Date')"
   ]
  },
  {
   "cell_type": "code",
   "execution_count": 6,
   "metadata": {},
   "outputs": [],
   "source": [
    "df['trmin'] = df[[\"Close_GOOGL_lead1\",\"Close_GOOGL\"]].min(axis =1)\n",
    "df['trmax'] = df[[\"Close_GOOGL_lead1\",\"Close_GOOGL\"]].max(axis =1)\n",
    "df['tr'] = (df[\"Close_GOOGL\"] - df[\"trmin\"])/(df['trmax'] - df['trmin'])\n",
    "df[\"momentum\"] = df[\"Close_GOOGL_lead1\"] - df[\"Close_GOOGL\"]\n",
    "df[\"momentum\"] = df[\"momentum\"].apply(lambda x: 1 if x > 0 else 0)\n",
    "df = df.dropna()"
   ]
  },
  {
   "cell_type": "code",
   "execution_count": 7,
   "metadata": {},
   "outputs": [
    {
     "data": {
      "text/plain": [
       "0    1246\n",
       "1    1115\n",
       "Name: tr, dtype: int64"
      ]
     },
     "execution_count": 7,
     "metadata": {},
     "output_type": "execute_result"
    }
   ],
   "source": [
    "df['tr'] = df.tr.apply(lambda x: 1 if x > 0.5 else 0)\n",
    "df.tr.value_counts()"
   ]
  },
  {
   "cell_type": "code",
   "execution_count": 8,
   "metadata": {},
   "outputs": [],
   "source": [
    "train = df[df.Date <= '2020-06-30'].sort_values('Date')\n",
    "test = df[df.Date > '2020-06-30'].sort_values('Date')\n",
    "trainX = train.drop(['Date','Close_GOOGL_lead1','momentum','tr','trmin','trmax'],axis = 1)\n",
    "trainY = train[\"tr\"]\n",
    "testX = test.drop(['Date','Close_GOOGL_lead1','momentum','tr','trmin','trmax'],axis = 1)\n",
    "testY = test[\"tr\"]"
   ]
  },
  {
   "cell_type": "markdown",
   "metadata": {},
   "source": [
    "# Machine Learning"
   ]
  },
  {
   "cell_type": "code",
   "execution_count": 9,
   "metadata": {},
   "outputs": [],
   "source": [
    "from sklearn.ensemble import RandomForestRegressor,RandomForestClassifier\n",
    "from sklearn.tree import DecisionTreeRegressor,DecisionTreeClassifier\n",
    "from sklearn.svm import SVR,SVC\n",
    "from sklearn.decomposition import PCA\n",
    "from sklearn.preprocessing import StandardScaler,MinMaxScaler,Normalizer\n",
    "from sklearn.pipeline import Pipeline\n",
    "from sklearn.metrics import mean_squared_error,confusion_matrix\n",
    "from sklearn.model_selection import TimeSeriesSplit,RandomizedSearchCV\n",
    "from scipy.stats import uniform"
   ]
  },
  {
   "cell_type": "code",
   "execution_count": 23,
   "metadata": {},
   "outputs": [],
   "source": [
    "pip = Pipeline([\n",
    "    ('std',StandardScaler()),\n",
    "    ('pca',PCA(10,whiten = False)),\n",
    "    ('svm',SVC(C = 0.5,kernel = 'poly',degree = 3))\n",
    "])\n",
    "hparam = {\n",
    "    'pca__n_components':np.arange(2,50,dtype='int'),\n",
    "    'svm__C':uniform(loc=2, scale=6),\n",
    "    'svm__degree':np.arange(4,10,dtype='int'),\n",
    "}\n",
    "ranCV = RandomizedSearchCV(pip,hparam,\n",
    "                           30,\n",
    "                           scoring = 'f1',\n",
    "                           cv = TimeSeriesSplit(2),\n",
    "                           n_jobs = -1,\n",
    "                           verbose = 50)"
   ]
  },
  {
   "cell_type": "code",
   "execution_count": 24,
   "metadata": {
    "scrolled": true
   },
   "outputs": [
    {
     "name": "stdout",
     "output_type": "stream",
     "text": [
      "Fitting 2 folds for each of 30 candidates, totalling 60 fits\n",
      "[Parallel(n_jobs=-1)]: Using backend LokyBackend with 4 concurrent workers.\n",
      "[Parallel(n_jobs=-1)]: Done   1 tasks      | elapsed:    1.1s\n",
      "[Parallel(n_jobs=-1)]: Done   2 tasks      | elapsed:    1.8s\n",
      "[Parallel(n_jobs=-1)]: Done   3 tasks      | elapsed:    2.9s\n",
      "[Parallel(n_jobs=-1)]: Done   4 tasks      | elapsed:    3.7s\n",
      "[Parallel(n_jobs=-1)]: Done   5 tasks      | elapsed:    4.5s\n",
      "[Parallel(n_jobs=-1)]: Done   6 tasks      | elapsed:    6.2s\n",
      "[Parallel(n_jobs=-1)]: Done   7 tasks      | elapsed:    7.2s\n",
      "[Parallel(n_jobs=-1)]: Done   8 tasks      | elapsed:    7.8s\n",
      "[Parallel(n_jobs=-1)]: Done   9 tasks      | elapsed:    9.1s\n",
      "[Parallel(n_jobs=-1)]: Done  10 tasks      | elapsed:    9.6s\n",
      "[Parallel(n_jobs=-1)]: Done  11 tasks      | elapsed:   10.5s\n",
      "[Parallel(n_jobs=-1)]: Done  12 tasks      | elapsed:   12.3s\n",
      "[Parallel(n_jobs=-1)]: Done  13 tasks      | elapsed:   12.8s\n",
      "[Parallel(n_jobs=-1)]: Done  14 tasks      | elapsed:   13.3s\n",
      "[Parallel(n_jobs=-1)]: Done  15 tasks      | elapsed:   14.2s\n",
      "[Parallel(n_jobs=-1)]: Done  16 tasks      | elapsed:   15.5s\n",
      "[Parallel(n_jobs=-1)]: Done  17 tasks      | elapsed:   16.1s\n",
      "[Parallel(n_jobs=-1)]: Done  18 tasks      | elapsed:   16.6s\n",
      "[Parallel(n_jobs=-1)]: Done  19 tasks      | elapsed:   17.9s\n",
      "[Parallel(n_jobs=-1)]: Done  20 tasks      | elapsed:   18.7s\n",
      "[Parallel(n_jobs=-1)]: Done  21 tasks      | elapsed:   19.5s\n",
      "[Parallel(n_jobs=-1)]: Done  22 tasks      | elapsed:   20.7s\n",
      "[Parallel(n_jobs=-1)]: Done  23 tasks      | elapsed:   21.2s\n",
      "[Parallel(n_jobs=-1)]: Done  24 tasks      | elapsed:   21.7s\n",
      "[Parallel(n_jobs=-1)]: Done  25 tasks      | elapsed:   22.3s\n",
      "[Parallel(n_jobs=-1)]: Done  26 tasks      | elapsed:   23.8s\n",
      "[Parallel(n_jobs=-1)]: Done  27 tasks      | elapsed:   24.2s\n",
      "[Parallel(n_jobs=-1)]: Done  28 tasks      | elapsed:   24.7s\n",
      "[Parallel(n_jobs=-1)]: Done  29 tasks      | elapsed:   27.3s\n",
      "[Parallel(n_jobs=-1)]: Done  30 tasks      | elapsed:   29.8s\n",
      "[Parallel(n_jobs=-1)]: Done  31 tasks      | elapsed:   30.5s\n",
      "[Parallel(n_jobs=-1)]: Done  32 tasks      | elapsed:   32.2s\n",
      "[Parallel(n_jobs=-1)]: Done  33 tasks      | elapsed:   35.0s\n",
      "[Parallel(n_jobs=-1)]: Done  34 tasks      | elapsed:   35.8s\n",
      "[Parallel(n_jobs=-1)]: Done  35 tasks      | elapsed:   36.9s\n",
      "[Parallel(n_jobs=-1)]: Done  36 tasks      | elapsed:   38.9s\n",
      "[Parallel(n_jobs=-1)]: Done  37 tasks      | elapsed:   40.5s\n",
      "[Parallel(n_jobs=-1)]: Done  38 tasks      | elapsed:   42.0s\n",
      "[Parallel(n_jobs=-1)]: Done  39 tasks      | elapsed:   42.9s\n",
      "[Parallel(n_jobs=-1)]: Done  40 tasks      | elapsed:   44.1s\n",
      "[Parallel(n_jobs=-1)]: Done  41 tasks      | elapsed:   45.1s\n",
      "[Parallel(n_jobs=-1)]: Done  42 tasks      | elapsed:   46.8s\n",
      "[Parallel(n_jobs=-1)]: Done  43 tasks      | elapsed:   47.4s\n",
      "[Parallel(n_jobs=-1)]: Done  44 tasks      | elapsed:   49.1s\n",
      "[Parallel(n_jobs=-1)]: Done  45 tasks      | elapsed:   49.7s\n",
      "[Parallel(n_jobs=-1)]: Done  46 tasks      | elapsed:   51.4s\n",
      "[Parallel(n_jobs=-1)]: Done  47 tasks      | elapsed:   52.8s\n",
      "[Parallel(n_jobs=-1)]: Done  48 tasks      | elapsed:   54.3s\n",
      "[Parallel(n_jobs=-1)]: Done  49 tasks      | elapsed:   54.7s\n",
      "[Parallel(n_jobs=-1)]: Done  50 tasks      | elapsed:   56.1s\n",
      "[Parallel(n_jobs=-1)]: Done  51 tasks      | elapsed:   57.0s\n",
      "[Parallel(n_jobs=-1)]: Done  52 tasks      | elapsed:   58.5s\n",
      "[Parallel(n_jobs=-1)]: Done  53 tasks      | elapsed:   59.0s\n",
      "[Parallel(n_jobs=-1)]: Done  55 out of  60 | elapsed:  1.0min remaining:    5.6s\n",
      "[Parallel(n_jobs=-1)]: Done  57 out of  60 | elapsed:  1.1min remaining:    3.3s\n",
      "[Parallel(n_jobs=-1)]: Done  60 out of  60 | elapsed:  1.2min finished\n"
     ]
    },
    {
     "data": {
      "text/plain": [
       "RandomizedSearchCV(cv=TimeSeriesSplit(max_train_size=None, n_splits=2),\n",
       "                   error_score=nan,\n",
       "                   estimator=Pipeline(memory=None,\n",
       "                                      steps=[('std',\n",
       "                                              StandardScaler(copy=True,\n",
       "                                                             with_mean=True,\n",
       "                                                             with_std=True)),\n",
       "                                             ('pca',\n",
       "                                              PCA(copy=True,\n",
       "                                                  iterated_power='auto',\n",
       "                                                  n_components=10,\n",
       "                                                  random_state=None,\n",
       "                                                  svd_solver='auto', tol=0.0,\n",
       "                                                  whiten=False)),\n",
       "                                             ('svm',\n",
       "                                              SVC(C=0.5, break_ties=False,\n",
       "                                                  cache_size=...\n",
       "                   param_distributions={'pca__n_components': array([ 2,  3,  4,  5,  6,  7,  8,  9, 10, 11, 12, 13, 14, 15, 16, 17, 18,\n",
       "       19, 20, 21, 22, 23, 24, 25, 26, 27, 28, 29, 30, 31, 32, 33, 34, 35,\n",
       "       36, 37, 38, 39, 40, 41, 42, 43, 44, 45, 46, 47, 48, 49]),\n",
       "                                        'svm__C': <scipy.stats._distn_infrastructure.rv_frozen object at 0x0000017D152564A8>,\n",
       "                                        'svm__degree': array([4, 5, 6, 7, 8, 9])},\n",
       "                   pre_dispatch='2*n_jobs', random_state=None, refit=True,\n",
       "                   return_train_score=False, scoring='f1', verbose=50)"
      ]
     },
     "execution_count": 24,
     "metadata": {},
     "output_type": "execute_result"
    }
   ],
   "source": [
    "ranCV.fit(trainX,trainY)"
   ]
  },
  {
   "cell_type": "code",
   "execution_count": 25,
   "metadata": {},
   "outputs": [
    {
     "name": "stdout",
     "output_type": "stream",
     "text": [
      "[[ 0 11]\n",
      " [ 0  8]]\n"
     ]
    }
   ],
   "source": [
    "print(confusion_matrix(testY,ranCV.predict(testX)))\n",
    "prd = pd.DataFrame(ranCV.predict(testX),columns = ['prd'])"
   ]
  },
  {
   "cell_type": "code",
   "execution_count": 26,
   "metadata": {},
   "outputs": [],
   "source": [
    "def make_momentum(predList):\n",
    "    resList = []\n",
    "    for i in predList:\n",
    "        if i > 0.5:\n",
    "            resList.append(0)\n",
    "        else:\n",
    "            resList.append(1)\n",
    "#         meanList.append(i)\n",
    "    return resList\n",
    "# prd['momentum']=make_momentum(testY.tolist())\n",
    "prd['momentum']=make_momentum(prd.prd.tolist())"
   ]
  },
  {
   "cell_type": "code",
   "execution_count": 27,
   "metadata": {},
   "outputs": [
    {
     "data": {
      "text/plain": [
       "<matplotlib.axes._subplots.AxesSubplot at 0x17d1527d240>"
      ]
     },
     "execution_count": 27,
     "metadata": {},
     "output_type": "execute_result"
    },
    {
     "data": {
      "image/png": "[encoded data removed]",
      "text/plain": [
       "<Figure size 432x288 with 1 Axes>"
      ]
     },
     "metadata": {
      "needs_background": "light"
     },
     "output_type": "display_data"
    }
   ],
   "source": [
    "prd.prd.plot()"
   ]
  },
  {
   "cell_type": "code",
   "execution_count": 28,
   "metadata": {},
   "outputs": [],
   "source": [
    "prd['actual_momentum'] =  df[df.Date > '2020-06-30'].momentum.values\n",
    "prd['Date'] =  df[df.Date > '2020-06-30'].Date.values\n",
    "prd['Close'] = testX['Close_GOOGL'].values\n",
    "prd = prd.sort_values('Date')"
   ]
  },
  {
   "cell_type": "code",
   "execution_count": 29,
   "metadata": {
    "scrolled": false
   },
   "outputs": [],
   "source": [
    "def make_signale(momentumList):\n",
    "    signal = []\n",
    "    lastStatus = None\n",
    "    for i in momentumList:\n",
    "        if i == 1:\n",
    "            tmp = 'buy'\n",
    "        else:\n",
    "            tmp = 'sell'\n",
    "        if len(signal) == 0:\n",
    "            if tmp == 'sell':\n",
    "                signal.append('hold')\n",
    "            else:\n",
    "                signal.append(tmp)\n",
    "        else:\n",
    "            if tmp == lastStatus:\n",
    "                signal.append('hold')\n",
    "            else:\n",
    "                signal.append(tmp)\n",
    "        lastStatus = tmp\n",
    "    return signal\n",
    "prd['signal'] = make_signale(prd.momentum.tolist())"
   ]
  },
  {
   "cell_type": "code",
   "execution_count": 30,
   "metadata": {
    "scrolled": false
   },
   "outputs": [
    {
     "data": {
      "image/png": "[encoded data removed]",
      "text/plain": [
       "<Figure size 1080x720 with 1 Axes>"
      ]
     },
     "metadata": {
      "needs_background": "light"
     },
     "output_type": "display_data"
    }
   ],
   "source": [
    "plt.figure(figsize=(15,10))\n",
    "plt.plot(prd.Close.values)\n",
    "for ix,v in enumerate(prd[['Close','signal']].values):\n",
    "    if v[1] == 'buy':\n",
    "        buy = plt.plot(ix,v[0],'x',label = 'buy')\n",
    "    elif v[1] == 'sell':\n",
    "        plt.plot(ix,v[0],'o',label='sell')\n",
    "plt.legend(('Close','buy','sell'))\n",
    "plt.show()"
   ]
  },
  {
   "cell_type": "code",
   "execution_count": 21,
   "metadata": {},
   "outputs": [],
   "source": [
    "def profit_eval(prdDf):\n",
    "    tmp = prdDf[prd.signal != 'hold'].sort_values('Date')[['signal','Close']]\n",
    "    tmp = tmp.to_records()\n",
    "    buy,sell = 0,0\n",
    "    for ix,v in enumerate(tmp):\n",
    "        if ix+1 == len(tmp) and tmp[ix][1] == 'buy':\n",
    "            continue\n",
    "        if tmp[ix][1] == 'buy':\n",
    "            buy += tmp[ix][2]\n",
    "        elif tmp[ix][1] == 'sell':\n",
    "            sell += tmp[ix][2]\n",
    "    return (sell-buy)/buy"
   ]
  },
  {
   "cell_type": "code",
   "execution_count": 22,
   "metadata": {},
   "outputs": [
    {
     "data": {
      "text/plain": [
       "0.0332316227461859"
      ]
     },
     "execution_count": 22,
     "metadata": {},
     "output_type": "execute_result"
    }
   ],
   "source": [
    "profit_eval(prd)"
   ]
  },
  {
   "cell_type": "markdown",
   "metadata": {},
   "source": [
    "# Neural Network"
   ]
  },
  {
   "cell_type": "code",
   "execution_count": 24,
   "metadata": {},
   "outputs": [],
   "source": [
    "import tensorflow as tf\n",
    "from sklearn.feature_selection import SelectKBest,chi2,f_regression"
   ]
  },
  {
   "cell_type": "code",
   "execution_count": 25,
   "metadata": {},
   "outputs": [],
   "source": [
    "std = StandardScaler()\n",
    "tX = std.fit_transform(trainX)\n",
    "dataset = tf.data.Dataset.from_tensor_slices((tX, trainY.values))\n",
    "dataset = dataset.shuffle(100)"
   ]
  },
  {
   "cell_type": "code",
   "execution_count": 95,
   "metadata": {},
   "outputs": [],
   "source": [
    "def get_compiled_model():\n",
    "    model = tf.keras.Sequential([\n",
    "#         tf.keras.layers.Dense(500, activation='relu'),\n",
    "#         tf.keras.layers.LayerNormalization(),\n",
    "        tf.keras.layers.Dense(10, activation='sigmoid'),\n",
    "        tf.keras.layers.Dense(1,'sigmoid')\n",
    "      ])\n",
    "\n",
    "    model.compile(optimizer=tf.keras.optimizers.Nadam(0.1,decay= 0.001),\n",
    "                loss=tf.keras.losses.BinaryCrossentropy(),\n",
    "                metrics=['accuracy'])\n",
    "    return model"
   ]
  },
  {
   "cell_type": "code",
   "execution_count": 96,
   "metadata": {
    "scrolled": true
   },
   "outputs": [
    {
     "name": "stdout",
     "output_type": "stream",
     "text": [
      "Train on 2340 samples, validate on 24 samples\n",
      "Epoch 1/50\n",
      "2340/2340 [==============================] - 1s 465us/sample - loss: 0.7034 - accuracy: 0.5385 - val_loss: 0.7018 - val_accuracy: 0.5833\n",
      "Epoch 2/50\n",
      "2340/2340 [==============================] - 0s 166us/sample - loss: 0.6963 - accuracy: 0.5474 - val_loss: 0.7014 - val_accuracy: 0.5833\n",
      "Epoch 3/50\n",
      "2340/2340 [==============================] - 0s 164us/sample - loss: 0.6999 - accuracy: 0.5415 - val_loss: 0.8275 - val_accuracy: 0.5833\n",
      "Epoch 4/50\n",
      "2340/2340 [==============================] - 0s 205us/sample - loss: 0.6990 - accuracy: 0.5235 - val_loss: 0.6818 - val_accuracy: 0.5833\n",
      "Epoch 5/50\n",
      "2340/2340 [==============================] - 0s 169us/sample - loss: 0.6984 - accuracy: 0.5355 - val_loss: 0.7069 - val_accuracy: 0.5833\n",
      "Epoch 6/50\n",
      "2340/2340 [==============================] - 0s 161us/sample - loss: 0.6984 - accuracy: 0.5269 - val_loss: 0.7000 - val_accuracy: 0.4167\n",
      "Epoch 7/50\n",
      "2340/2340 [==============================] - 0s 207us/sample - loss: 0.6941 - accuracy: 0.5419 - val_loss: 0.7664 - val_accuracy: 0.4167\n",
      "Epoch 8/50\n",
      "2340/2340 [==============================] - 0s 175us/sample - loss: 0.6985 - accuracy: 0.5359 - val_loss: 0.7607 - val_accuracy: 0.4167\n",
      "Epoch 9/50\n",
      "2340/2340 [==============================] - 1s 313us/sample - loss: 0.6955 - accuracy: 0.5346 - val_loss: 0.7210 - val_accuracy: 0.5833\n",
      "Epoch 10/50\n",
      "2340/2340 [==============================] - 0s 163us/sample - loss: 0.6969 - accuracy: 0.5355 - val_loss: 0.7253 - val_accuracy: 0.4167\n",
      "Epoch 11/50\n",
      "2340/2340 [==============================] - 1s 313us/sample - loss: 0.6951 - accuracy: 0.5252 - val_loss: 0.6870 - val_accuracy: 0.5833\n",
      "Epoch 12/50\n",
      "2340/2340 [==============================] - 1s 277us/sample - loss: 0.6942 - accuracy: 0.5338 - val_loss: 0.8779 - val_accuracy: 0.5833\n",
      "Epoch 13/50\n",
      "2340/2340 [==============================] - 1s 363us/sample - loss: 0.6971 - accuracy: 0.5333 - val_loss: 0.7506 - val_accuracy: 0.4167\n",
      "Epoch 14/50\n",
      "2340/2340 [==============================] - 1s 410us/sample - loss: 0.6960 - accuracy: 0.5393 - val_loss: 0.7402 - val_accuracy: 0.5833\n",
      "Epoch 15/50\n",
      "2340/2340 [==============================] - 0s 176us/sample - loss: 0.6983 - accuracy: 0.5299 - val_loss: 0.6860 - val_accuracy: 0.5000\n",
      "Epoch 16/50\n",
      "2340/2340 [==============================] - 1s 436us/sample - loss: 0.6923 - accuracy: 0.5440 - val_loss: 0.7268 - val_accuracy: 0.4167\n",
      "Epoch 17/50\n",
      "2340/2340 [==============================] - 1s 272us/sample - loss: 0.6951 - accuracy: 0.5316 - val_loss: 0.7796 - val_accuracy: 0.5833\n",
      "Epoch 18/50\n",
      "2340/2340 [==============================] - 1s 230us/sample - loss: 0.6952 - accuracy: 0.5295 - val_loss: 0.6794 - val_accuracy: 0.5833\n",
      "Epoch 19/50\n",
      "2340/2340 [==============================] - 1s 303us/sample - loss: 0.6916 - accuracy: 0.5462 - val_loss: 0.6830 - val_accuracy: 0.5833\n",
      "Epoch 20/50\n",
      "2340/2340 [==============================] - 1s 348us/sample - loss: 0.6919 - accuracy: 0.5504 - val_loss: 0.7595 - val_accuracy: 0.5833\n",
      "Epoch 21/50\n",
      "2340/2340 [==============================] - 1s 415us/sample - loss: 0.6883 - accuracy: 0.5436 - val_loss: 0.6795 - val_accuracy: 0.5833\n",
      "Epoch 22/50\n",
      "2340/2340 [==============================] - 0s 200us/sample - loss: 0.6944 - accuracy: 0.5402 - val_loss: 0.7550 - val_accuracy: 0.4167\n",
      "Epoch 23/50\n",
      "2340/2340 [==============================] - 1s 321us/sample - loss: 0.6910 - accuracy: 0.5342 - val_loss: 1.2533 - val_accuracy: 0.4167\n",
      "Epoch 24/50\n",
      "2340/2340 [==============================] - 1s 404us/sample - loss: 0.6951 - accuracy: 0.5487 - val_loss: 0.6853 - val_accuracy: 0.5833\n",
      "Epoch 25/50\n",
      "2340/2340 [==============================] - 1s 312us/sample - loss: 0.7010 - accuracy: 0.5218 - val_loss: 0.6955 - val_accuracy: 0.4167\n",
      "Epoch 26/50\n",
      "2340/2340 [==============================] - 0s 186us/sample - loss: 0.6914 - accuracy: 0.5509 - val_loss: 0.6805 - val_accuracy: 0.5833\n",
      "Epoch 27/50\n",
      "2340/2340 [==============================] - 0s 157us/sample - loss: 0.6925 - accuracy: 0.5423 - val_loss: 0.6899 - val_accuracy: 0.5833\n",
      "Epoch 28/50\n",
      "2340/2340 [==============================] - 0s 174us/sample - loss: 0.6872 - accuracy: 0.5581 - val_loss: 0.8581 - val_accuracy: 0.5833\n",
      "Epoch 29/50\n",
      "2340/2340 [==============================] - 1s 219us/sample - loss: 0.6909 - accuracy: 0.5560 - val_loss: 0.9475 - val_accuracy: 0.4167\n",
      "Epoch 30/50\n",
      "2340/2340 [==============================] - 0s 202us/sample - loss: 0.6933 - accuracy: 0.5479 - val_loss: 0.7529 - val_accuracy: 0.5833\n",
      "Epoch 31/50\n",
      "2340/2340 [==============================] - 1s 234us/sample - loss: 0.6870 - accuracy: 0.5564 - val_loss: 0.7123 - val_accuracy: 0.5833\n",
      "Epoch 32/50\n",
      "2340/2340 [==============================] - 1s 236us/sample - loss: 0.6919 - accuracy: 0.5423 - val_loss: 0.6895 - val_accuracy: 0.5833\n",
      "Epoch 33/50\n",
      "2340/2340 [==============================] - 1s 492us/sample - loss: 0.6866 - accuracy: 0.5594 - val_loss: 0.7162 - val_accuracy: 0.4167\n",
      "Epoch 34/50\n",
      "2340/2340 [==============================] - 1s 512us/sample - loss: 0.6896 - accuracy: 0.5363 - val_loss: 0.7271 - val_accuracy: 0.4167\n",
      "Epoch 35/50\n",
      "2340/2340 [==============================] - 1s 296us/sample - loss: 0.6881 - accuracy: 0.5568 - val_loss: 0.8012 - val_accuracy: 0.4167\n",
      "Epoch 36/50\n",
      "2340/2340 [==============================] - 1s 278us/sample - loss: 0.6984 - accuracy: 0.5295 - val_loss: 0.6824 - val_accuracy: 0.5833\n",
      "Epoch 37/50\n",
      "2340/2340 [==============================] - 1s 253us/sample - loss: 0.6942 - accuracy: 0.5406 - val_loss: 0.8592 - val_accuracy: 0.4167\n",
      "Epoch 38/50\n",
      "2340/2340 [==============================] - 0s 212us/sample - loss: 0.6907 - accuracy: 0.5483 - val_loss: 0.7703 - val_accuracy: 0.5833\n",
      "Epoch 39/50\n",
      "2340/2340 [==============================] - 1s 219us/sample - loss: 0.6877 - accuracy: 0.5534 - val_loss: 0.6952 - val_accuracy: 0.5833\n",
      "Epoch 40/50\n",
      "2340/2340 [==============================] - 1s 329us/sample - loss: 0.6899 - accuracy: 0.5483 - val_loss: 0.7086 - val_accuracy: 0.4167\n",
      "Epoch 41/50\n",
      "2340/2340 [==============================] - 1s 604us/sample - loss: 0.6843 - accuracy: 0.5645 - val_loss: 0.6763 - val_accuracy: 0.5833\n",
      "Epoch 42/50\n",
      "2340/2340 [==============================] - 1s 279us/sample - loss: 0.6900 - accuracy: 0.5483 - val_loss: 0.7144 - val_accuracy: 0.5833\n",
      "Epoch 43/50\n",
      "2340/2340 [==============================] - 1s 330us/sample - loss: 0.6946 - accuracy: 0.5500 - val_loss: 0.6760 - val_accuracy: 0.5833\n",
      "Epoch 44/50\n",
      "2340/2340 [==============================] - 0s 195us/sample - loss: 0.6905 - accuracy: 0.5474 - val_loss: 0.6931 - val_accuracy: 0.5417\n",
      "Epoch 45/50\n",
      "2340/2340 [==============================] - 0s 173us/sample - loss: 0.6948 - accuracy: 0.5479 - val_loss: 0.8429 - val_accuracy: 0.5833\n",
      "Epoch 46/50\n",
      " 608/2340 [======>.......................] - ETA: 0s - loss: 0.6893 - accuracy: 0.5773"
     ]
    },
    {
     "ename": "KeyboardInterrupt",
     "evalue": "",
     "output_type": "error",
     "traceback": [
      "\u001b[1;31m---------------------------------------------------------------------------\u001b[0m",
      "\u001b[1;31mKeyboardInterrupt\u001b[0m                         Traceback (most recent call last)",
      "\u001b[1;32m<ipython-input-96-375904abdb50>\u001b[0m in \u001b[0;36m<module>\u001b[1;34m\u001b[0m\n\u001b[0;32m      1\u001b[0m \u001b[0mmodel\u001b[0m \u001b[1;33m=\u001b[0m \u001b[0mget_compiled_model\u001b[0m\u001b[1;33m(\u001b[0m\u001b[1;33m)\u001b[0m\u001b[1;33m\u001b[0m\u001b[1;33m\u001b[0m\u001b[0m\n\u001b[1;32m----> 2\u001b[1;33m \u001b[0mmodel\u001b[0m\u001b[1;33m.\u001b[0m\u001b[0mfit\u001b[0m\u001b[1;33m(\u001b[0m\u001b[0mx\u001b[0m\u001b[1;33m=\u001b[0m\u001b[0mtX\u001b[0m\u001b[1;33m,\u001b[0m\u001b[0my\u001b[0m\u001b[1;33m=\u001b[0m\u001b[0mtrainY\u001b[0m\u001b[1;33m.\u001b[0m\u001b[0mvalues\u001b[0m\u001b[1;33m,\u001b[0m \u001b[0mepochs\u001b[0m\u001b[1;33m=\u001b[0m\u001b[1;36m50\u001b[0m\u001b[1;33m,\u001b[0m\u001b[0mvalidation_split\u001b[0m\u001b[1;33m=\u001b[0m \u001b[1;36m0.01\u001b[0m\u001b[1;33m)\u001b[0m\u001b[1;33m\u001b[0m\u001b[1;33m\u001b[0m\u001b[0m\n\u001b[0m",
      "\u001b[1;32m~\\Anaconda3\\lib\\site-packages\\tensorflow_core\\python\\keras\\engine\\training.py\u001b[0m in \u001b[0;36mfit\u001b[1;34m(self, x, y, batch_size, epochs, verbose, callbacks, validation_split, validation_data, shuffle, class_weight, sample_weight, initial_epoch, steps_per_epoch, validation_steps, validation_freq, max_queue_size, workers, use_multiprocessing, **kwargs)\u001b[0m\n\u001b[0;32m    817\u001b[0m         \u001b[0mmax_queue_size\u001b[0m\u001b[1;33m=\u001b[0m\u001b[0mmax_queue_size\u001b[0m\u001b[1;33m,\u001b[0m\u001b[1;33m\u001b[0m\u001b[1;33m\u001b[0m\u001b[0m\n\u001b[0;32m    818\u001b[0m         \u001b[0mworkers\u001b[0m\u001b[1;33m=\u001b[0m\u001b[0mworkers\u001b[0m\u001b[1;33m,\u001b[0m\u001b[1;33m\u001b[0m\u001b[1;33m\u001b[0m\u001b[0m\n\u001b[1;32m--> 819\u001b[1;33m         use_multiprocessing=use_multiprocessing)\n\u001b[0m\u001b[0;32m    820\u001b[0m \u001b[1;33m\u001b[0m\u001b[0m\n\u001b[0;32m    821\u001b[0m   def evaluate(self,\n",
      "\u001b[1;32m~\\Anaconda3\\lib\\site-packages\\tensorflow_core\\python\\keras\\engine\\training_v2.py\u001b[0m in \u001b[0;36mfit\u001b[1;34m(self, model, x, y, batch_size, epochs, verbose, callbacks, validation_split, validation_data, shuffle, class_weight, sample_weight, initial_epoch, steps_per_epoch, validation_steps, validation_freq, max_queue_size, workers, use_multiprocessing, **kwargs)\u001b[0m\n\u001b[0;32m    340\u001b[0m                 \u001b[0mmode\u001b[0m\u001b[1;33m=\u001b[0m\u001b[0mModeKeys\u001b[0m\u001b[1;33m.\u001b[0m\u001b[0mTRAIN\u001b[0m\u001b[1;33m,\u001b[0m\u001b[1;33m\u001b[0m\u001b[1;33m\u001b[0m\u001b[0m\n\u001b[0;32m    341\u001b[0m                 \u001b[0mtraining_context\u001b[0m\u001b[1;33m=\u001b[0m\u001b[0mtraining_context\u001b[0m\u001b[1;33m,\u001b[0m\u001b[1;33m\u001b[0m\u001b[1;33m\u001b[0m\u001b[0m\n\u001b[1;32m--> 342\u001b[1;33m                 total_epochs=epochs)\n\u001b[0m\u001b[0;32m    343\u001b[0m             \u001b[0mcbks\u001b[0m\u001b[1;33m.\u001b[0m\u001b[0mmake_logs\u001b[0m\u001b[1;33m(\u001b[0m\u001b[0mmodel\u001b[0m\u001b[1;33m,\u001b[0m \u001b[0mepoch_logs\u001b[0m\u001b[1;33m,\u001b[0m \u001b[0mtraining_result\u001b[0m\u001b[1;33m,\u001b[0m \u001b[0mModeKeys\u001b[0m\u001b[1;33m.\u001b[0m\u001b[0mTRAIN\u001b[0m\u001b[1;33m)\u001b[0m\u001b[1;33m\u001b[0m\u001b[1;33m\u001b[0m\u001b[0m\n\u001b[0;32m    344\u001b[0m \u001b[1;33m\u001b[0m\u001b[0m\n",
      "\u001b[1;32m~\\Anaconda3\\lib\\site-packages\\tensorflow_core\\python\\keras\\engine\\training_v2.py\u001b[0m in \u001b[0;36mrun_one_epoch\u001b[1;34m(model, iterator, execution_function, dataset_size, batch_size, strategy, steps_per_epoch, num_samples, mode, training_context, total_epochs)\u001b[0m\n\u001b[0;32m    126\u001b[0m         step=step, mode=mode, size=current_batch_size) as batch_logs:\n\u001b[0;32m    127\u001b[0m       \u001b[1;32mtry\u001b[0m\u001b[1;33m:\u001b[0m\u001b[1;33m\u001b[0m\u001b[1;33m\u001b[0m\u001b[0m\n\u001b[1;32m--> 128\u001b[1;33m         \u001b[0mbatch_outs\u001b[0m \u001b[1;33m=\u001b[0m \u001b[0mexecution_function\u001b[0m\u001b[1;33m(\u001b[0m\u001b[0miterator\u001b[0m\u001b[1;33m)\u001b[0m\u001b[1;33m\u001b[0m\u001b[1;33m\u001b[0m\u001b[0m\n\u001b[0m\u001b[0;32m    129\u001b[0m       \u001b[1;32mexcept\u001b[0m \u001b[1;33m(\u001b[0m\u001b[0mStopIteration\u001b[0m\u001b[1;33m,\u001b[0m \u001b[0merrors\u001b[0m\u001b[1;33m.\u001b[0m\u001b[0mOutOfRangeError\u001b[0m\u001b[1;33m)\u001b[0m\u001b[1;33m:\u001b[0m\u001b[1;33m\u001b[0m\u001b[1;33m\u001b[0m\u001b[0m\n\u001b[0;32m    130\u001b[0m         \u001b[1;31m# TODO(kaftan): File bug about tf function and errors.OutOfRangeError?\u001b[0m\u001b[1;33m\u001b[0m\u001b[1;33m\u001b[0m\u001b[1;33m\u001b[0m\u001b[0m\n",
      "\u001b[1;32m~\\Anaconda3\\lib\\site-packages\\tensorflow_core\\python\\keras\\engine\\training_v2_utils.py\u001b[0m in \u001b[0;36mexecution_function\u001b[1;34m(input_fn)\u001b[0m\n\u001b[0;32m     96\u001b[0m     \u001b[1;31m# `numpy` translates Tensors to values in Eager mode.\u001b[0m\u001b[1;33m\u001b[0m\u001b[1;33m\u001b[0m\u001b[1;33m\u001b[0m\u001b[0m\n\u001b[0;32m     97\u001b[0m     return nest.map_structure(_non_none_constant_value,\n\u001b[1;32m---> 98\u001b[1;33m                               distributed_function(input_fn))\n\u001b[0m\u001b[0;32m     99\u001b[0m \u001b[1;33m\u001b[0m\u001b[0m\n\u001b[0;32m    100\u001b[0m   \u001b[1;32mreturn\u001b[0m \u001b[0mexecution_function\u001b[0m\u001b[1;33m\u001b[0m\u001b[1;33m\u001b[0m\u001b[0m\n",
      "\u001b[1;32m~\\Anaconda3\\lib\\site-packages\\tensorflow_core\\python\\eager\\def_function.py\u001b[0m in \u001b[0;36m__call__\u001b[1;34m(self, *args, **kwds)\u001b[0m\n\u001b[0;32m    566\u001b[0m         \u001b[0mxla_context\u001b[0m\u001b[1;33m.\u001b[0m\u001b[0mExit\u001b[0m\u001b[1;33m(\u001b[0m\u001b[1;33m)\u001b[0m\u001b[1;33m\u001b[0m\u001b[1;33m\u001b[0m\u001b[0m\n\u001b[0;32m    567\u001b[0m     \u001b[1;32melse\u001b[0m\u001b[1;33m:\u001b[0m\u001b[1;33m\u001b[0m\u001b[1;33m\u001b[0m\u001b[0m\n\u001b[1;32m--> 568\u001b[1;33m       \u001b[0mresult\u001b[0m \u001b[1;33m=\u001b[0m \u001b[0mself\u001b[0m\u001b[1;33m.\u001b[0m\u001b[0m_call\u001b[0m\u001b[1;33m(\u001b[0m\u001b[1;33m*\u001b[0m\u001b[0margs\u001b[0m\u001b[1;33m,\u001b[0m \u001b[1;33m**\u001b[0m\u001b[0mkwds\u001b[0m\u001b[1;33m)\u001b[0m\u001b[1;33m\u001b[0m\u001b[1;33m\u001b[0m\u001b[0m\n\u001b[0m\u001b[0;32m    569\u001b[0m \u001b[1;33m\u001b[0m\u001b[0m\n\u001b[0;32m    570\u001b[0m     \u001b[1;32mif\u001b[0m \u001b[0mtracing_count\u001b[0m \u001b[1;33m==\u001b[0m \u001b[0mself\u001b[0m\u001b[1;33m.\u001b[0m\u001b[0m_get_tracing_count\u001b[0m\u001b[1;33m(\u001b[0m\u001b[1;33m)\u001b[0m\u001b[1;33m:\u001b[0m\u001b[1;33m\u001b[0m\u001b[1;33m\u001b[0m\u001b[0m\n",
      "\u001b[1;32m~\\Anaconda3\\lib\\site-packages\\tensorflow_core\\python\\eager\\def_function.py\u001b[0m in \u001b[0;36m_call\u001b[1;34m(self, *args, **kwds)\u001b[0m\n\u001b[0;32m    597\u001b[0m       \u001b[1;31m# In this case we have created variables on the first call, so we run the\u001b[0m\u001b[1;33m\u001b[0m\u001b[1;33m\u001b[0m\u001b[1;33m\u001b[0m\u001b[0m\n\u001b[0;32m    598\u001b[0m       \u001b[1;31m# defunned version which is guaranteed to never create variables.\u001b[0m\u001b[1;33m\u001b[0m\u001b[1;33m\u001b[0m\u001b[1;33m\u001b[0m\u001b[0m\n\u001b[1;32m--> 599\u001b[1;33m       \u001b[1;32mreturn\u001b[0m \u001b[0mself\u001b[0m\u001b[1;33m.\u001b[0m\u001b[0m_stateless_fn\u001b[0m\u001b[1;33m(\u001b[0m\u001b[1;33m*\u001b[0m\u001b[0margs\u001b[0m\u001b[1;33m,\u001b[0m \u001b[1;33m**\u001b[0m\u001b[0mkwds\u001b[0m\u001b[1;33m)\u001b[0m  \u001b[1;31m# pylint: disable=not-callable\u001b[0m\u001b[1;33m\u001b[0m\u001b[1;33m\u001b[0m\u001b[0m\n\u001b[0m\u001b[0;32m    600\u001b[0m     \u001b[1;32melif\u001b[0m \u001b[0mself\u001b[0m\u001b[1;33m.\u001b[0m\u001b[0m_stateful_fn\u001b[0m \u001b[1;32mis\u001b[0m \u001b[1;32mnot\u001b[0m \u001b[1;32mNone\u001b[0m\u001b[1;33m:\u001b[0m\u001b[1;33m\u001b[0m\u001b[1;33m\u001b[0m\u001b[0m\n\u001b[0;32m    601\u001b[0m       \u001b[1;31m# Release the lock early so that multiple threads can perform the call\u001b[0m\u001b[1;33m\u001b[0m\u001b[1;33m\u001b[0m\u001b[1;33m\u001b[0m\u001b[0m\n",
      "\u001b[1;32m~\\Anaconda3\\lib\\site-packages\\tensorflow_core\\python\\eager\\function.py\u001b[0m in \u001b[0;36m__call__\u001b[1;34m(self, *args, **kwargs)\u001b[0m\n\u001b[0;32m   2361\u001b[0m     \u001b[1;32mwith\u001b[0m \u001b[0mself\u001b[0m\u001b[1;33m.\u001b[0m\u001b[0m_lock\u001b[0m\u001b[1;33m:\u001b[0m\u001b[1;33m\u001b[0m\u001b[1;33m\u001b[0m\u001b[0m\n\u001b[0;32m   2362\u001b[0m       \u001b[0mgraph_function\u001b[0m\u001b[1;33m,\u001b[0m \u001b[0margs\u001b[0m\u001b[1;33m,\u001b[0m \u001b[0mkwargs\u001b[0m \u001b[1;33m=\u001b[0m \u001b[0mself\u001b[0m\u001b[1;33m.\u001b[0m\u001b[0m_maybe_define_function\u001b[0m\u001b[1;33m(\u001b[0m\u001b[0margs\u001b[0m\u001b[1;33m,\u001b[0m \u001b[0mkwargs\u001b[0m\u001b[1;33m)\u001b[0m\u001b[1;33m\u001b[0m\u001b[1;33m\u001b[0m\u001b[0m\n\u001b[1;32m-> 2363\u001b[1;33m     \u001b[1;32mreturn\u001b[0m \u001b[0mgraph_function\u001b[0m\u001b[1;33m.\u001b[0m\u001b[0m_filtered_call\u001b[0m\u001b[1;33m(\u001b[0m\u001b[0margs\u001b[0m\u001b[1;33m,\u001b[0m \u001b[0mkwargs\u001b[0m\u001b[1;33m)\u001b[0m  \u001b[1;31m# pylint: disable=protected-access\u001b[0m\u001b[1;33m\u001b[0m\u001b[1;33m\u001b[0m\u001b[0m\n\u001b[0m\u001b[0;32m   2364\u001b[0m \u001b[1;33m\u001b[0m\u001b[0m\n\u001b[0;32m   2365\u001b[0m   \u001b[1;33m@\u001b[0m\u001b[0mproperty\u001b[0m\u001b[1;33m\u001b[0m\u001b[1;33m\u001b[0m\u001b[0m\n",
      "\u001b[1;32m~\\Anaconda3\\lib\\site-packages\\tensorflow_core\\python\\eager\\function.py\u001b[0m in \u001b[0;36m_filtered_call\u001b[1;34m(self, args, kwargs)\u001b[0m\n\u001b[0;32m   1609\u001b[0m          if isinstance(t, (ops.Tensor,\n\u001b[0;32m   1610\u001b[0m                            resource_variable_ops.BaseResourceVariable))),\n\u001b[1;32m-> 1611\u001b[1;33m         self.captured_inputs)\n\u001b[0m\u001b[0;32m   1612\u001b[0m \u001b[1;33m\u001b[0m\u001b[0m\n\u001b[0;32m   1613\u001b[0m   \u001b[1;32mdef\u001b[0m \u001b[0m_call_flat\u001b[0m\u001b[1;33m(\u001b[0m\u001b[0mself\u001b[0m\u001b[1;33m,\u001b[0m \u001b[0margs\u001b[0m\u001b[1;33m,\u001b[0m \u001b[0mcaptured_inputs\u001b[0m\u001b[1;33m,\u001b[0m \u001b[0mcancellation_manager\u001b[0m\u001b[1;33m=\u001b[0m\u001b[1;32mNone\u001b[0m\u001b[1;33m)\u001b[0m\u001b[1;33m:\u001b[0m\u001b[1;33m\u001b[0m\u001b[1;33m\u001b[0m\u001b[0m\n",
      "\u001b[1;32m~\\Anaconda3\\lib\\site-packages\\tensorflow_core\\python\\eager\\function.py\u001b[0m in \u001b[0;36m_call_flat\u001b[1;34m(self, args, captured_inputs, cancellation_manager)\u001b[0m\n\u001b[0;32m   1690\u001b[0m       \u001b[1;31m# No tape is watching; skip to running the function.\u001b[0m\u001b[1;33m\u001b[0m\u001b[1;33m\u001b[0m\u001b[1;33m\u001b[0m\u001b[0m\n\u001b[0;32m   1691\u001b[0m       return self._build_call_outputs(self._inference_function.call(\n\u001b[1;32m-> 1692\u001b[1;33m           ctx, args, cancellation_manager=cancellation_manager))\n\u001b[0m\u001b[0;32m   1693\u001b[0m     forward_backward = self._select_forward_and_backward_functions(\n\u001b[0;32m   1694\u001b[0m         \u001b[0margs\u001b[0m\u001b[1;33m,\u001b[0m\u001b[1;33m\u001b[0m\u001b[1;33m\u001b[0m\u001b[0m\n",
      "\u001b[1;32m~\\Anaconda3\\lib\\site-packages\\tensorflow_core\\python\\eager\\function.py\u001b[0m in \u001b[0;36mcall\u001b[1;34m(self, ctx, args, cancellation_manager)\u001b[0m\n\u001b[0;32m    543\u001b[0m               \u001b[0minputs\u001b[0m\u001b[1;33m=\u001b[0m\u001b[0margs\u001b[0m\u001b[1;33m,\u001b[0m\u001b[1;33m\u001b[0m\u001b[1;33m\u001b[0m\u001b[0m\n\u001b[0;32m    544\u001b[0m               \u001b[0mattrs\u001b[0m\u001b[1;33m=\u001b[0m\u001b[1;33m(\u001b[0m\u001b[1;34m\"executor_type\"\u001b[0m\u001b[1;33m,\u001b[0m \u001b[0mexecutor_type\u001b[0m\u001b[1;33m,\u001b[0m \u001b[1;34m\"config_proto\"\u001b[0m\u001b[1;33m,\u001b[0m \u001b[0mconfig\u001b[0m\u001b[1;33m)\u001b[0m\u001b[1;33m,\u001b[0m\u001b[1;33m\u001b[0m\u001b[1;33m\u001b[0m\u001b[0m\n\u001b[1;32m--> 545\u001b[1;33m               ctx=ctx)\n\u001b[0m\u001b[0;32m    546\u001b[0m         \u001b[1;32melse\u001b[0m\u001b[1;33m:\u001b[0m\u001b[1;33m\u001b[0m\u001b[1;33m\u001b[0m\u001b[0m\n\u001b[0;32m    547\u001b[0m           outputs = execute.execute_with_cancellation(\n",
      "\u001b[1;32m~\\Anaconda3\\lib\\site-packages\\tensorflow_core\\python\\eager\\execute.py\u001b[0m in \u001b[0;36mquick_execute\u001b[1;34m(op_name, num_outputs, inputs, attrs, ctx, name)\u001b[0m\n\u001b[0;32m     59\u001b[0m     tensors = pywrap_tensorflow.TFE_Py_Execute(ctx._handle, device_name,\n\u001b[0;32m     60\u001b[0m                                                \u001b[0mop_name\u001b[0m\u001b[1;33m,\u001b[0m \u001b[0minputs\u001b[0m\u001b[1;33m,\u001b[0m \u001b[0mattrs\u001b[0m\u001b[1;33m,\u001b[0m\u001b[1;33m\u001b[0m\u001b[1;33m\u001b[0m\u001b[0m\n\u001b[1;32m---> 61\u001b[1;33m                                                num_outputs)\n\u001b[0m\u001b[0;32m     62\u001b[0m   \u001b[1;32mexcept\u001b[0m \u001b[0mcore\u001b[0m\u001b[1;33m.\u001b[0m\u001b[0m_NotOkStatusException\u001b[0m \u001b[1;32mas\u001b[0m \u001b[0me\u001b[0m\u001b[1;33m:\u001b[0m\u001b[1;33m\u001b[0m\u001b[1;33m\u001b[0m\u001b[0m\n\u001b[0;32m     63\u001b[0m     \u001b[1;32mif\u001b[0m \u001b[0mname\u001b[0m \u001b[1;32mis\u001b[0m \u001b[1;32mnot\u001b[0m \u001b[1;32mNone\u001b[0m\u001b[1;33m:\u001b[0m\u001b[1;33m\u001b[0m\u001b[1;33m\u001b[0m\u001b[0m\n",
      "\u001b[1;31mKeyboardInterrupt\u001b[0m: "
     ]
    }
   ],
   "source": [
    "model = get_compiled_model()\n",
    "model.fit(x=tX,y=trainY.values, epochs=50,validation_split= 0.01)"
   ]
  },
  {
   "cell_type": "code",
   "execution_count": 92,
   "metadata": {},
   "outputs": [],
   "source": [
    "ttX = std.transform(testX)\n",
    "prd = pd.DataFrame(model.predict(ttX),columns = ['prd'])\n",
    "prd['momentum']=make_momentum(testY.tolist(),prd.prd.tolist())"
   ]
  },
  {
   "cell_type": "code",
   "execution_count": 93,
   "metadata": {},
   "outputs": [],
   "source": [
    "prd['Date'] =  df[df.Date > '2020-06-30'].Date.values\n",
    "prd['Close'] = testX['Close_GOOGL'].values\n",
    "prd = prd.sort_values('Date')\n",
    "prd['signal'] = make_signale(prd.momentum.tolist())"
   ]
  },
  {
   "cell_type": "code",
   "execution_count": 94,
   "metadata": {},
   "outputs": [
    {
     "data": {
      "image/png": "[encoded data removed]",
      "text/plain": [
       "<Figure size 1080x720 with 1 Axes>"
      ]
     },
     "metadata": {
      "needs_background": "light"
     },
     "output_type": "display_data"
    }
   ],
   "source": [
    "plt.figure(figsize=(15,10))\n",
    "plt.plot(prd.Close.values)\n",
    "for ix,v in enumerate(prd[['Close','signal']].values):\n",
    "    if v[1] == 'buy':\n",
    "        buy = plt.plot(ix,v[0],'x',label = 'buy')\n",
    "    elif v[1] == 'sell':\n",
    "        plt.plot(ix,v[0],'o',label='sell')\n",
    "plt.legend(('Close','buy','sell'))\n",
    "plt.show()"
   ]
  },
  {
   "cell_type": "code",
   "execution_count": 74,
   "metadata": {},
   "outputs": [
    {
     "data": {
      "text/plain": [
       "0.08519417475728149"
      ]
     },
     "execution_count": 74,
     "metadata": {},
     "output_type": "execute_result"
    }
   ],
   "source": [
    "profit_eval(prd)"
   ]
  },
  {
   "cell_type": "code",
   "execution_count": 75,
   "metadata": {},
   "outputs": [
    {
     "data": {
      "text/plain": [
       "<matplotlib.axes._subplots.AxesSubplot at 0x1cd9972bc18>"
      ]
     },
     "execution_count": 75,
     "metadata": {},
     "output_type": "execute_result"
    },
    {
     "data": {
      "image/png": "[encoded data removed]",
      "text/plain": [
       "<Figure size 432x288 with 1 Axes>"
      ]
     },
     "metadata": {
      "needs_background": "light"
     },
     "output_type": "display_data"
    }
   ],
   "source": [
    "prd.prd.plot()"
   ]
  },
  {
   "cell_type": "code",
   "execution_count": null,
   "metadata": {},
   "outputs": [],
   "source": []
  },
  {
   "cell_type": "code",
   "execution_count": null,
   "metadata": {},
   "outputs": [],
   "source": []
  },
  {
   "cell_type": "code",
   "execution_count": null,
   "metadata": {},
   "outputs": [],
   "source": []
  }
 ],
 "metadata": {
  "file_extension": ".py",
  "kernelspec": {
   "display_name": "Python 3",
   "language": "python",
   "name": "python3"
  },
  "language_info": {
   "codemirror_mode": {
    "name": "ipython",
    "version": 3
   },
   "file_extension": ".py",
   "mimetype": "text/x-python",
   "name": "python",
   "nbconvert_exporter": "python",
   "pygments_lexer": "ipython3",
   "version": "3.7.3"
  },
  "mimetype": "text/x-python",
  "name": "python",
  "npconvert_exporter": "python",
  "pygments_lexer": "ipython3",
  "toc": {
   "base_numbering": 1,
   "nav_menu": {},
   "number_sections": true,
   "sideBar": true,
   "skip_h1_title": false,
   "title_cell": "Table of Contents",
   "title_sidebar": "Contents",
   "toc_cell": false,
   "toc_position": {},
   "toc_section_display": true,
   "toc_window_display": false
  },
  "version": 3
 },
 "nbformat": 4,
 "nbformat_minor": 2
}
