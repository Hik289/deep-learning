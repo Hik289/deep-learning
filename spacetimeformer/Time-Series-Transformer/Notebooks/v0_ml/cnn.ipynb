{
 "cells": [
  {
   "cell_type": "code",
   "execution_count": 2,
   "metadata": {},
   "outputs": [],
   "source": [
    "import pandas as pd\n",
    "import numpy as np\n",
    "from time_series_transform.tensorflow_adopter import *\n",
    "import time_series_transform.base as base\n",
    "from time_series_transform.time_series_transformer import *\n",
    "from sklearn.preprocessing import StandardScaler\n",
    "from time_series_transform.tensorflow_adopter import *\n",
    "from time_series_transform.stock_transform.base import *\n",
    "from time_series_transform.stock_transform.stock_extractor import Portfolio_Extractor,Stock_Extractor\n",
    "from time_series_transform.util import *\n",
    "from matplotlib import pyplot as plt"
   ]
  },
  {
   "cell_type": "code",
   "execution_count": 9,
   "metadata": {
    "scrolled": true
   },
   "outputs": [],
   "source": [
    "tickList = [\n",
    "#     '^GSPC',\n",
    "#     \"CL=F\",\n",
    "#     'CNY=X',\n",
    "#     'JPY=X',\n",
    "#     'GBPUSD=X',\n",
    "#     'EURUSD=X'\n",
    "    '2610.TW',\n",
    "    '2618.TW',\n",
    "    '2636.TW',\n",
    "    '5607.TW',\n",
    "]\n",
    "pe = Portfolio_Extractor(tickList,'yahoo')\n",
    "port = pe.get_portfolio_date('2000-06-24','2020-06-24')\n",
    "port.remove_different_date()"
   ]
  },
  {
   "cell_type": "code",
   "execution_count": 12,
   "metadata": {
    "scrolled": true
   },
   "outputs": [],
   "source": [
    "labels = []\n",
    "colList = ['Open', 'High', 'Low', 'Close']\n",
    "for c in colList:\n",
    "    port.make_technical_indicator(c,f'{c}_ma5',moving_average,windowSize = 5)\n",
    "    port.make_technical_indicator(c,f'{c}_ma10',moving_average,windowSize = 10)\n",
    "    port.make_technical_indicator(c,f'{c}_ema10',ema,span = 10)\n",
    "#     port.make_technical_indicator(c,'wavelet_1',wavelet_denoising,wavelet='haar')\n",
    "#     port.make_technical_indicator(f\"{c}_ma5\",'wavelet_1',wavelet_denoising,wavelet='haar')\n",
    "#     port.make_technical_indicator(f\"{c}_ma10\",'wavelet_1',wavelet_denoising,wavelet='haar')\n",
    "#     port.make_technical_indicator(f\"{c}_wavelet_1\",'wavelet_1',wavelet_denoising,wavelet='haar')\n",
    "#     port.make_technical_indicator(f\"{c}_ma5_wavelet_1\",'1',wavelet_denoising,wavelet='haar')\n",
    "#     port.make_technical_indicator(f\"{c}_ma10_wavelet_1\",'1',wavelet_denoising,wavelet='haar')\n",
    "#     port.make_technical_indicator(f\"{c}_wavelet_1\",'1',wavelet_denoising,wavelet='haar')\n",
    "    \n",
    "    for t in tickList:\n",
    "        labels.extend([f'{t}_{c}',f'{t}_{c}_ma5',f'{t}_{c}_ma10',f'{t}_{c}_ema10'])"
   ]
  },
  {
   "cell_type": "code",
   "execution_count": 13,
   "metadata": {},
   "outputs": [],
   "source": [
    "df = port.get_portfolio_dataFrame()"
   ]
  },
  {
   "cell_type": "code",
   "execution_count": 17,
   "metadata": {},
   "outputs": [],
   "source": [
    "trainDate = list(range(500,2500))\n",
    "valDate = list(range(2500,2600))\n",
    "testDate = list(range(2700,2710))\n",
    "WINDOW_SIZE = 30\n",
    "resDf = port.get_portfolio_dataFrame()\n",
    "psd = Pandas_Time_Series_Tensor_Dataset(resDf)\n",
    "timeSeriesDic = psd.expand_dataFrame_by_date('symbol','Date',True,False,True)"
   ]
  },
  {
   "cell_type": "code",
   "execution_count": 18,
   "metadata": {
    "scrolled": true
   },
   "outputs": [],
   "source": [
    "for i,v in enumerate(labels):\n",
    "    if i == 0:\n",
    "        psd.set_config(\n",
    "            name = f'sequence',\n",
    "            colNames = list(map(lambda x: f'{v}_{str(x)}',trainDate)),\n",
    "            tensorType = 'sequence',\n",
    "            sequence_stack = None,\n",
    "            isResponseVar = False,\n",
    "            windowSize = WINDOW_SIZE,\n",
    "            seqSize = 1837,\n",
    "            outType = np.float32\n",
    "        )\n",
    "    else:\n",
    "        psd.set_config(\n",
    "            name = f'{v}_sequence',\n",
    "            colNames = list(map(lambda x: f'{v}_{str(x)}',trainDate)),\n",
    "            tensorType = 'sequence',\n",
    "            sequence_stack = \"sequence\",\n",
    "            isResponseVar = False,\n",
    "            windowSize = WINDOW_SIZE,\n",
    "            seqSize = 1837,\n",
    "            outType = np.float32\n",
    "        )\n",
    "\n",
    "for step in range(1):\n",
    "    if step == 0:\n",
    "        psd.set_config(\n",
    "            name = 'label',\n",
    "            colNames = list(map(lambda x: f'2710.TW_Close_{str(x)}',trainDate)),\n",
    "            tensorType = 'label',\n",
    "            sequence_stack = None,\n",
    "            isResponseVar = True,\n",
    "            windowSize = WINDOW_SIZE,\n",
    "            seqSize = 1837,\n",
    "            outType = np.float32\n",
    "        )\n",
    "    else:\n",
    "        psd.set_config(\n",
    "            name = f'label_{step}',\n",
    "            colNames = list(map(lambda x: f'2710.TW_Close_{str(x)}',map(lambda x: x+step ,trainDate))),\n",
    "            tensorType = 'label',\n",
    "            sequence_stack = 'label',\n",
    "            isResponseVar = True,\n",
    "            windowSize = WINDOW_SIZE,\n",
    "            seqSize = 1837,\n",
    "            outType = np.float32\n",
    "        )        "
   ]
  },
  {
   "cell_type": "code",
   "execution_count": 22,
   "metadata": {},
   "outputs": [
    {
     "ename": "KeyError",
     "evalue": "'2710.TW_Close_500'",
     "output_type": "error",
     "traceback": [
      "\u001b[1;31m---------------------------------------------------------------------------\u001b[0m",
      "\u001b[1;31mKeyError\u001b[0m                                  Traceback (most recent call last)",
      "\u001b[1;32m<ipython-input-22-b32dffa67422>\u001b[0m in \u001b[0;36m<module>\u001b[1;34m\u001b[0m\n\u001b[0;32m      1\u001b[0m \u001b[0mgen\u001b[0m \u001b[1;33m=\u001b[0m \u001b[0mpsd\u001b[0m\u001b[1;33m.\u001b[0m\u001b[0mmake_data_generator\u001b[0m\u001b[1;33m(\u001b[0m\u001b[1;33m)\u001b[0m\u001b[1;33m\u001b[0m\u001b[1;33m\u001b[0m\u001b[0m\n\u001b[1;32m----> 2\u001b[1;33m \u001b[0mnext\u001b[0m\u001b[1;33m(\u001b[0m\u001b[0mgen\u001b[0m\u001b[1;33m)\u001b[0m\u001b[1;33m\u001b[0m\u001b[1;33m\u001b[0m\u001b[0m\n\u001b[0m",
      "\u001b[1;32m~\\Documents\\Kaggle\\M5\\time_series_transform\\time_series_transformer.py\u001b[0m in \u001b[0;36mmake_data_generator\u001b[1;34m(self)\u001b[0m\n\u001b[0;32m    116\u001b[0m         \u001b[0mdata\u001b[0m \u001b[1;33m=\u001b[0m \u001b[0mself\u001b[0m\u001b[1;33m.\u001b[0m\u001b[0mdf\u001b[0m\u001b[1;33m.\u001b[0m\u001b[0mto_dict\u001b[0m\u001b[1;33m(\u001b[0m\u001b[1;34m'records'\u001b[0m\u001b[1;33m)\u001b[0m\u001b[1;33m\u001b[0m\u001b[1;33m\u001b[0m\u001b[0m\n\u001b[0;32m    117\u001b[0m         \u001b[1;32mfor\u001b[0m \u001b[0mi\u001b[0m \u001b[1;32min\u001b[0m \u001b[0mdata\u001b[0m\u001b[1;33m:\u001b[0m\u001b[1;33m\u001b[0m\u001b[1;33m\u001b[0m\u001b[0m\n\u001b[1;32m--> 118\u001b[1;33m             \u001b[0mres\u001b[0m \u001b[1;33m=\u001b[0m \u001b[0mself\u001b[0m\u001b[1;33m.\u001b[0m\u001b[0m_make_time_series_dataset\u001b[0m\u001b[1;33m(\u001b[0m\u001b[0mi\u001b[0m\u001b[1;33m)\u001b[0m\u001b[1;33m\u001b[0m\u001b[1;33m\u001b[0m\u001b[0m\n\u001b[0m\u001b[0;32m    119\u001b[0m             \u001b[0mXtensor\u001b[0m \u001b[1;33m=\u001b[0m \u001b[1;33m{\u001b[0m\u001b[1;33m}\u001b[0m\u001b[1;33m\u001b[0m\u001b[1;33m\u001b[0m\u001b[0m\n\u001b[0;32m    120\u001b[0m             \u001b[0mYtensor\u001b[0m \u001b[1;33m=\u001b[0m \u001b[1;32mNone\u001b[0m\u001b[1;33m\u001b[0m\u001b[1;33m\u001b[0m\u001b[0m\n",
      "\u001b[1;32m~\\Documents\\Kaggle\\M5\\time_series_transform\\time_series_transformer.py\u001b[0m in \u001b[0;36m_make_time_series_dataset\u001b[1;34m(self, data)\u001b[0m\n\u001b[0;32m     87\u001b[0m         \u001b[1;32mfor\u001b[0m \u001b[0mi\u001b[0m \u001b[1;32min\u001b[0m \u001b[0mself\u001b[0m\u001b[1;33m.\u001b[0m\u001b[0mconfig\u001b[0m\u001b[1;33m:\u001b[0m\u001b[1;33m\u001b[0m\u001b[1;33m\u001b[0m\u001b[0m\n\u001b[0;32m     88\u001b[0m             process_data = self._dict_keys_values(\n\u001b[1;32m---> 89\u001b[1;33m                 data, self.config[i]['colNames'])\n\u001b[0m\u001b[0;32m     90\u001b[0m             tsf = Time_Series_Tensor_Factory(\n\u001b[0;32m     91\u001b[0m                 \u001b[0mprocess_data\u001b[0m\u001b[1;33m,\u001b[0m\u001b[1;33m\u001b[0m\u001b[1;33m\u001b[0m\u001b[0m\n",
      "\u001b[1;32m~\\Documents\\Kaggle\\M5\\time_series_transform\\time_series_transformer.py\u001b[0m in \u001b[0;36m_dict_keys_values\u001b[1;34m(self, data, keys)\u001b[0m\n\u001b[0;32m     80\u001b[0m         \u001b[0mres\u001b[0m \u001b[1;33m=\u001b[0m \u001b[1;33m[\u001b[0m\u001b[1;33m]\u001b[0m\u001b[1;33m\u001b[0m\u001b[1;33m\u001b[0m\u001b[0m\n\u001b[0;32m     81\u001b[0m         \u001b[1;32mfor\u001b[0m \u001b[0mk\u001b[0m \u001b[1;32min\u001b[0m \u001b[0mkeys\u001b[0m\u001b[1;33m:\u001b[0m\u001b[1;33m\u001b[0m\u001b[1;33m\u001b[0m\u001b[0m\n\u001b[1;32m---> 82\u001b[1;33m             \u001b[0mres\u001b[0m\u001b[1;33m.\u001b[0m\u001b[0mappend\u001b[0m\u001b[1;33m(\u001b[0m\u001b[0mdata\u001b[0m\u001b[1;33m[\u001b[0m\u001b[0mk\u001b[0m\u001b[1;33m]\u001b[0m\u001b[1;33m)\u001b[0m\u001b[1;33m\u001b[0m\u001b[1;33m\u001b[0m\u001b[0m\n\u001b[0m\u001b[0;32m     83\u001b[0m         \u001b[1;32mreturn\u001b[0m \u001b[0mnp\u001b[0m\u001b[1;33m.\u001b[0m\u001b[0marray\u001b[0m\u001b[1;33m(\u001b[0m\u001b[0mres\u001b[0m\u001b[1;33m)\u001b[0m\u001b[1;33m\u001b[0m\u001b[1;33m\u001b[0m\u001b[0m\n\u001b[0;32m     84\u001b[0m \u001b[1;33m\u001b[0m\u001b[0m\n",
      "\u001b[1;31mKeyError\u001b[0m: '2710.TW_Close_500'"
     ]
    }
   ],
   "source": [
    "gen = psd.make_data_generator()\n",
    "next(gen)"
   ]
  },
  {
   "cell_type": "code",
   "execution_count": 19,
   "metadata": {},
   "outputs": [
    {
     "ename": "KeyError",
     "evalue": "'2710.TW_Close_500'",
     "output_type": "error",
     "traceback": [
      "\u001b[1;31m---------------------------------------------------------------------------\u001b[0m",
      "\u001b[1;31mKeyError\u001b[0m                                  Traceback (most recent call last)",
      "\u001b[1;32m<ipython-input-19-979028904152>\u001b[0m in \u001b[0;36m<module>\u001b[1;34m\u001b[0m\n\u001b[0;32m      1\u001b[0m \u001b[0mgen\u001b[0m \u001b[1;33m=\u001b[0m \u001b[0mpsd\u001b[0m\u001b[1;33m.\u001b[0m\u001b[0mmake_data_generator\u001b[0m\u001b[1;33m(\u001b[0m\u001b[1;33m)\u001b[0m\u001b[1;33m\u001b[0m\u001b[1;33m\u001b[0m\u001b[0m\n\u001b[0;32m      2\u001b[0m \u001b[0mtfg\u001b[0m \u001b[1;33m=\u001b[0m \u001b[0mTFRecord_Writer\u001b[0m\u001b[1;33m(\u001b[0m\u001b[1;34m'abc.tfRecord'\u001b[0m\u001b[1;33m)\u001b[0m\u001b[1;33m\u001b[0m\u001b[1;33m\u001b[0m\u001b[0m\n\u001b[1;32m----> 3\u001b[1;33m \u001b[0mtfg\u001b[0m\u001b[1;33m.\u001b[0m\u001b[0mwrite_tfRecord\u001b[0m\u001b[1;33m(\u001b[0m\u001b[0mgen\u001b[0m\u001b[1;33m)\u001b[0m\u001b[1;33m\u001b[0m\u001b[1;33m\u001b[0m\u001b[0m\n\u001b[0m\u001b[0;32m      4\u001b[0m \u001b[0mdtypeRecord_train\u001b[0m \u001b[1;33m=\u001b[0m \u001b[0mtfg\u001b[0m\u001b[1;33m.\u001b[0m\u001b[0mget_tfRecord_dtype\u001b[0m\u001b[1;33m(\u001b[0m\u001b[1;33m)\u001b[0m\u001b[1;33m\u001b[0m\u001b[1;33m\u001b[0m\u001b[0m\n",
      "\u001b[1;32m~\\Documents\\Kaggle\\M5\\time_series_transform\\tensorflow_adopter.py\u001b[0m in \u001b[0;36mwrite_tfRecord\u001b[1;34m(self, data)\u001b[0m\n\u001b[0;32m     53\u001b[0m         \"\"\"\n\u001b[0;32m     54\u001b[0m         \u001b[1;32mwith\u001b[0m \u001b[0mtf\u001b[0m\u001b[1;33m.\u001b[0m\u001b[0mio\u001b[0m\u001b[1;33m.\u001b[0m\u001b[0mTFRecordWriter\u001b[0m\u001b[1;33m(\u001b[0m\u001b[0mself\u001b[0m\u001b[1;33m.\u001b[0m\u001b[0mfileName\u001b[0m\u001b[1;33m,\u001b[0m\u001b[0mself\u001b[0m\u001b[1;33m.\u001b[0m\u001b[0m_compression_type\u001b[0m\u001b[1;33m)\u001b[0m \u001b[1;32mas\u001b[0m \u001b[0mwriter\u001b[0m\u001b[1;33m:\u001b[0m\u001b[1;33m\u001b[0m\u001b[1;33m\u001b[0m\u001b[0m\n\u001b[1;32m---> 55\u001b[1;33m             \u001b[1;32mfor\u001b[0m \u001b[0mX\u001b[0m\u001b[1;33m,\u001b[0m\u001b[0my\u001b[0m \u001b[1;32min\u001b[0m \u001b[0mdata\u001b[0m\u001b[1;33m:\u001b[0m\u001b[1;33m\u001b[0m\u001b[1;33m\u001b[0m\u001b[0m\n\u001b[0m\u001b[0;32m     56\u001b[0m                 \u001b[0mX\u001b[0m\u001b[1;33m[\u001b[0m\u001b[1;34m'label'\u001b[0m\u001b[1;33m]\u001b[0m \u001b[1;33m=\u001b[0m \u001b[0my\u001b[0m\u001b[1;33m\u001b[0m\u001b[1;33m\u001b[0m\u001b[0m\n\u001b[0;32m     57\u001b[0m                 \u001b[0mvalueDict\u001b[0m \u001b[1;33m=\u001b[0m \u001b[0mself\u001b[0m\u001b[1;33m.\u001b[0m\u001b[0m_valueDict_builder\u001b[0m\u001b[1;33m(\u001b[0m\u001b[0mX\u001b[0m\u001b[1;33m)\u001b[0m\u001b[1;33m\u001b[0m\u001b[1;33m\u001b[0m\u001b[0m\n",
      "\u001b[1;32m~\\Documents\\Kaggle\\M5\\time_series_transform\\time_series_transformer.py\u001b[0m in \u001b[0;36mmake_data_generator\u001b[1;34m(self)\u001b[0m\n\u001b[0;32m    116\u001b[0m         \u001b[0mdata\u001b[0m \u001b[1;33m=\u001b[0m \u001b[0mself\u001b[0m\u001b[1;33m.\u001b[0m\u001b[0mdf\u001b[0m\u001b[1;33m.\u001b[0m\u001b[0mto_dict\u001b[0m\u001b[1;33m(\u001b[0m\u001b[1;34m'records'\u001b[0m\u001b[1;33m)\u001b[0m\u001b[1;33m\u001b[0m\u001b[1;33m\u001b[0m\u001b[0m\n\u001b[0;32m    117\u001b[0m         \u001b[1;32mfor\u001b[0m \u001b[0mi\u001b[0m \u001b[1;32min\u001b[0m \u001b[0mdata\u001b[0m\u001b[1;33m:\u001b[0m\u001b[1;33m\u001b[0m\u001b[1;33m\u001b[0m\u001b[0m\n\u001b[1;32m--> 118\u001b[1;33m             \u001b[0mres\u001b[0m \u001b[1;33m=\u001b[0m \u001b[0mself\u001b[0m\u001b[1;33m.\u001b[0m\u001b[0m_make_time_series_dataset\u001b[0m\u001b[1;33m(\u001b[0m\u001b[0mi\u001b[0m\u001b[1;33m)\u001b[0m\u001b[1;33m\u001b[0m\u001b[1;33m\u001b[0m\u001b[0m\n\u001b[0m\u001b[0;32m    119\u001b[0m             \u001b[0mXtensor\u001b[0m \u001b[1;33m=\u001b[0m \u001b[1;33m{\u001b[0m\u001b[1;33m}\u001b[0m\u001b[1;33m\u001b[0m\u001b[1;33m\u001b[0m\u001b[0m\n\u001b[0;32m    120\u001b[0m             \u001b[0mYtensor\u001b[0m \u001b[1;33m=\u001b[0m \u001b[1;32mNone\u001b[0m\u001b[1;33m\u001b[0m\u001b[1;33m\u001b[0m\u001b[0m\n",
      "\u001b[1;32m~\\Documents\\Kaggle\\M5\\time_series_transform\\time_series_transformer.py\u001b[0m in \u001b[0;36m_make_time_series_dataset\u001b[1;34m(self, data)\u001b[0m\n\u001b[0;32m     87\u001b[0m         \u001b[1;32mfor\u001b[0m \u001b[0mi\u001b[0m \u001b[1;32min\u001b[0m \u001b[0mself\u001b[0m\u001b[1;33m.\u001b[0m\u001b[0mconfig\u001b[0m\u001b[1;33m:\u001b[0m\u001b[1;33m\u001b[0m\u001b[1;33m\u001b[0m\u001b[0m\n\u001b[0;32m     88\u001b[0m             process_data = self._dict_keys_values(\n\u001b[1;32m---> 89\u001b[1;33m                 data, self.config[i]['colNames'])\n\u001b[0m\u001b[0;32m     90\u001b[0m             tsf = Time_Series_Tensor_Factory(\n\u001b[0;32m     91\u001b[0m                 \u001b[0mprocess_data\u001b[0m\u001b[1;33m,\u001b[0m\u001b[1;33m\u001b[0m\u001b[1;33m\u001b[0m\u001b[0m\n",
      "\u001b[1;32m~\\Documents\\Kaggle\\M5\\time_series_transform\\time_series_transformer.py\u001b[0m in \u001b[0;36m_dict_keys_values\u001b[1;34m(self, data, keys)\u001b[0m\n\u001b[0;32m     80\u001b[0m         \u001b[0mres\u001b[0m \u001b[1;33m=\u001b[0m \u001b[1;33m[\u001b[0m\u001b[1;33m]\u001b[0m\u001b[1;33m\u001b[0m\u001b[1;33m\u001b[0m\u001b[0m\n\u001b[0;32m     81\u001b[0m         \u001b[1;32mfor\u001b[0m \u001b[0mk\u001b[0m \u001b[1;32min\u001b[0m \u001b[0mkeys\u001b[0m\u001b[1;33m:\u001b[0m\u001b[1;33m\u001b[0m\u001b[1;33m\u001b[0m\u001b[0m\n\u001b[1;32m---> 82\u001b[1;33m             \u001b[0mres\u001b[0m\u001b[1;33m.\u001b[0m\u001b[0mappend\u001b[0m\u001b[1;33m(\u001b[0m\u001b[0mdata\u001b[0m\u001b[1;33m[\u001b[0m\u001b[0mk\u001b[0m\u001b[1;33m]\u001b[0m\u001b[1;33m)\u001b[0m\u001b[1;33m\u001b[0m\u001b[1;33m\u001b[0m\u001b[0m\n\u001b[0m\u001b[0;32m     83\u001b[0m         \u001b[1;32mreturn\u001b[0m \u001b[0mnp\u001b[0m\u001b[1;33m.\u001b[0m\u001b[0marray\u001b[0m\u001b[1;33m(\u001b[0m\u001b[0mres\u001b[0m\u001b[1;33m)\u001b[0m\u001b[1;33m\u001b[0m\u001b[1;33m\u001b[0m\u001b[0m\n\u001b[0;32m     84\u001b[0m \u001b[1;33m\u001b[0m\u001b[0m\n",
      "\u001b[1;31mKeyError\u001b[0m: '2710.TW_Close_500'"
     ]
    }
   ],
   "source": [
    "gen = psd.make_data_generator()\n",
    "tfg = TFRecord_Writer('abc.tfRecord')\n",
    "tfg.write_tfRecord(gen)\n",
    "dtypeRecord_train = tfg.get_tfRecord_dtype()"
   ]
  },
  {
   "cell_type": "code",
   "execution_count": 12,
   "metadata": {
    "scrolled": true
   },
   "outputs": [],
   "source": [
    "psd = Pandas_Time_Series_Tensor_Dataset(resDf)\n",
    "timeSeriesDic = psd.expand_dataFrame_by_date('symbol','Date',True,False,True)\n",
    "for i,v in enumerate(labels):\n",
    "    if i == 0:\n",
    "        psd.set_config(\n",
    "            name = f'sequence',\n",
    "            colNames = list(map(lambda x: f'{v}_{str(x)}',valDate)),\n",
    "            tensorType = 'sequence',\n",
    "            sequence_stack = None,\n",
    "            isResponseVar = False,\n",
    "            windowSize = WINDOW_SIZE,\n",
    "            seqSize = 1837,\n",
    "            outType = np.float32\n",
    "        )\n",
    "    else:\n",
    "        psd.set_config(\n",
    "            name = f'{v}_sequence',\n",
    "            colNames = list(map(lambda x: f'{v}_{str(x)}',valDate)),\n",
    "            tensorType = 'sequence',\n",
    "            sequence_stack = \"sequence\",\n",
    "            isResponseVar = False,\n",
    "            windowSize = WINDOW_SIZE,\n",
    "            seqSize = 1837,\n",
    "            outType = np.float32\n",
    "        )\n",
    "\n",
    "for step in range(1):\n",
    "    if step == 0:\n",
    "        psd.set_config(\n",
    "            name = 'label',\n",
    "            colNames = list(map(lambda x: f'^GSPC_Close_{str(x)}',valDate)),\n",
    "            tensorType = 'label',\n",
    "            sequence_stack = None,\n",
    "            isResponseVar = True,\n",
    "            windowSize = WINDOW_SIZE,\n",
    "            seqSize = 1837,\n",
    "            outType = np.float32\n",
    "        )\n",
    "    else:\n",
    "        psd.set_config(\n",
    "            name = f'label_{step}',\n",
    "            colNames = list(map(lambda x: f'^GSPC_Close_{str(x)}',map(lambda x: x+step ,valDate))),\n",
    "            tensorType = 'label',\n",
    "            sequence_stack = 'label',\n",
    "            isResponseVar = True,\n",
    "            windowSize = WINDOW_SIZE,\n",
    "            seqSize = 1837,\n",
    "            outType = np.float32\n",
    "        )     "
   ]
  },
  {
   "cell_type": "code",
   "execution_count": 13,
   "metadata": {
    "scrolled": true
   },
   "outputs": [],
   "source": [
    "gen = psd.make_data_generator()\n",
    "tfg = TFRecord_Writer('abc_val.tfRecord')\n",
    "tfg.write_tfRecord(gen)\n",
    "dtypeRecord_val = tfg.get_tfRecord_dtype()"
   ]
  },
  {
   "cell_type": "code",
   "execution_count": 14,
   "metadata": {},
   "outputs": [],
   "source": [
    "tfr_train = TFRecord_Reader('abc.tfRecord',dtypeRecord_train)\n",
    "tfr_val = TFRecord_Reader('abc_val.tfRecord',dtypeRecord_val)"
   ]
  },
  {
   "cell_type": "code",
   "execution_count": 15,
   "metadata": {},
   "outputs": [],
   "source": [
    "def data_transform(X):\n",
    "    # we only use the current week day and current price as feature\n",
    "    # ignore the rest of data within the window since the change is very limited.\n",
    "    X['current'] = X['sequence'][:,:-28,:]\n",
    "    X['past'] = X['sequence'][:,-28:,:]\n",
    "    Y = X['label']\n",
    "    return (X,Y)"
   ]
  },
  {
   "cell_type": "code",
   "execution_count": 16,
   "metadata": {},
   "outputs": [],
   "source": [
    "EVALUATION_INTERVAL = 250\n",
    "Validation_STEP =  250\n",
    "EPOCHS = 100\n",
    "\n",
    "\n",
    "train_dataset = tfr_train.make_tfDataset()\n",
    "val_dataset = tfr_val.make_tfDataset()\n",
    "batchsize = 1000\n",
    "\n",
    "train_dataset = train_dataset.unbatch().batch(3000).map(data_transform).\\\n",
    "prefetch(tf.data.experimental.AUTOTUNE).repeat()\n",
    "val_dataset = val_dataset.unbatch().batch(3000).map(data_transform).\\\n",
    "prefetch(tf.data.experimental.AUTOTUNE).repeat()"
   ]
  },
  {
   "cell_type": "code",
   "execution_count": 35,
   "metadata": {},
   "outputs": [],
   "source": [
    "def create_attention_model():\n",
    "    seq_input = tf.keras.layers.Input(shape=(WINDOW_SIZE,len(labels)),name = 'sequence')\n",
    "    \n",
    "    #1d cnn\n",
    "    seq = tf.keras.layers.BatchNormalization()(seq_input)\n",
    "    seq = tf.keras.layers.Conv1D(30,11,activation = 'elu')(seq)\n",
    "    seq = tf.keras.layers.MaxPooling1D(2)(seq)\n",
    "    seq = tf.keras.layers.GRU(10)(seq)\n",
    "    seq = tf.keras.layers.Flatten()(seq)  \n",
    "    seq = tf.keras.layers.Dropout(0.2)(seq)\n",
    "    seq = tf.keras.layers.Dense(30,'relu')(seq)\n",
    "    seq = tf.keras.layers.Dropout(0.3)(seq)\n",
    "    seq = tf.keras.layers.Dense(5,'relu')(seq)\n",
    "    seq = tf.keras.layers.Dense(1)(seq)\n",
    "    \n",
    "\n",
    "    \n",
    "    lstm_embed = tf.keras.models.Model({\n",
    "        \"sequence\":seq_input\n",
    "                                       },\n",
    "                                       seq)\n",
    "\n",
    "    rmse = tf.keras.metrics.RootMeanSquaredError()\n",
    "    msle = tf.keras.losses.MeanSquaredLogarithmicError()\n",
    "    huber = tf.keras.losses.Huber()\n",
    "    adam = tf.keras.optimizers.Adam(lr = 0.02,\n",
    "                                    decay = 0.0001,\n",
    "                                    amsgrad = True\n",
    "                                   )\n",
    "    rmsp = tf.keras.optimizers.RMSprop(learning_rate=0.01, \n",
    "                                       rho=0.9)\n",
    "\n",
    "\n",
    "    lstm_embed.compile(optimizer=adam, \n",
    "                       loss='mse',\n",
    "                       metrics = ['mae','mse',rmse\n",
    "                                 ]\n",
    "                      )\n",
    "    return lstm_embed"
   ]
  },
  {
   "cell_type": "code",
   "execution_count": 36,
   "metadata": {
    "scrolled": true
   },
   "outputs": [
    {
     "data": {
      "image/png": "[encoded data removed]",
      "text/plain": [
       "<IPython.core.display.Image object>"
      ]
     },
     "execution_count": 36,
     "metadata": {},
     "output_type": "execute_result"
    }
   ],
   "source": [
    "model = create_attention_model()\n",
    "tf.keras.utils.plot_model(\n",
    "    model, show_shapes=True, show_layer_names=True,\n",
    "    rankdir='TB', expand_nested=False, dpi=96\n",
    ")"
   ]
  },
  {
   "cell_type": "code",
   "execution_count": 37,
   "metadata": {
    "scrolled": true
   },
   "outputs": [
    {
     "name": "stdout",
     "output_type": "stream",
     "text": [
      "Train for 1 steps, validate for 1 steps\n",
      "Epoch 1/500\n",
      "1/1 - 5s - loss: 3219269.5000 - mae: 1774.7644 - mse: 3219269.5000 - root_mean_squared_error: 1794.2323 - val_loss: 4651395.5000 - val_mae: 2156.5713 - val_mse: 4651395.5000 - val_root_mean_squared_error: 2156.7095\n",
      "Epoch 2/500\n",
      "1/1 - 0s - loss: 3217748.5000 - mae: 1774.3525 - mse: 3217748.5000 - root_mean_squared_error: 1793.8083 - val_loss: 4649984.0000 - val_mae: 2156.2439 - val_mse: 4649984.0000 - val_root_mean_squared_error: 2156.3821\n",
      "Epoch 3/500\n",
      "1/1 - 0s - loss: 3215449.7500 - mae: 1773.6868 - mse: 3215449.7500 - root_mean_squared_error: 1793.1675 - val_loss: 4647632.0000 - val_mae: 2155.6987 - val_mse: 4647632.0000 - val_root_mean_squared_error: 2155.8367\n",
      "Epoch 4/500\n",
      "1/1 - 0s - loss: 3213474.2500 - mae: 1773.1449 - mse: 3213474.2500 - root_mean_squared_error: 1792.6166 - val_loss: 4643543.5000 - val_mae: 2154.7498 - val_mse: 4643543.5000 - val_root_mean_squared_error: 2154.8882\n",
      "Epoch 5/500\n",
      "1/1 - 0s - loss: 3211433.0000 - mae: 1772.5739 - mse: 3211433.0000 - root_mean_squared_error: 1792.0471 - val_loss: 4641329.0000 - val_mae: 2154.2361 - val_mse: 4641329.0000 - val_root_mean_squared_error: 2154.3743\n",
      "Epoch 6/500\n",
      "1/1 - 0s - loss: 3208404.0000 - mae: 1771.7461 - mse: 3208404.0000 - root_mean_squared_error: 1791.2018 - val_loss: 4636419.0000 - val_mae: 2153.0959 - val_mse: 4636419.0000 - val_root_mean_squared_error: 2153.2346\n",
      "Epoch 7/500\n",
      "1/1 - 0s - loss: 3205171.2500 - mae: 1770.8490 - mse: 3205171.2500 - root_mean_squared_error: 1790.2992 - val_loss: 4632945.5000 - val_mae: 2152.2893 - val_mse: 4632945.5000 - val_root_mean_squared_error: 2152.4277\n",
      "Epoch 8/500\n",
      "1/1 - 0s - loss: 3201359.2500 - mae: 1769.7587 - mse: 3201359.2500 - root_mean_squared_error: 1789.2343 - val_loss: 4628925.5000 - val_mae: 2151.3555 - val_mse: 4628925.5000 - val_root_mean_squared_error: 2151.4939\n",
      "Epoch 9/500\n",
      "1/1 - 0s - loss: 3196412.5000 - mae: 1768.3065 - mse: 3196412.5000 - root_mean_squared_error: 1787.8513 - val_loss: 4623752.0000 - val_mae: 2150.1536 - val_mse: 4623752.0000 - val_root_mean_squared_error: 2150.2913\n",
      "Epoch 10/500\n",
      "1/1 - 0s - loss: 3191500.2500 - mae: 1766.9391 - mse: 3191500.2500 - root_mean_squared_error: 1786.4771 - val_loss: 4616693.0000 - val_mae: 2148.5107 - val_mse: 4616693.0000 - val_root_mean_squared_error: 2148.6492\n",
      "Epoch 11/500\n",
      "1/1 - 0s - loss: 3185195.7500 - mae: 1765.0911 - mse: 3185195.7500 - root_mean_squared_error: 1784.7117 - val_loss: 4601811.0000 - val_mae: 2145.0442 - val_mse: 4601811.0000 - val_root_mean_squared_error: 2145.1831\n",
      "Epoch 12/500\n",
      "1/1 - 0s - loss: 3176087.0000 - mae: 1762.4568 - mse: 3176087.0000 - root_mean_squared_error: 1782.1580 - val_loss: 4592042.5000 - val_mae: 2142.7661 - val_mse: 4592042.5000 - val_root_mean_squared_error: 2142.9053\n",
      "Epoch 13/500\n",
      "1/1 - 0s - loss: 3168078.7500 - mae: 1760.1812 - mse: 3168078.7500 - root_mean_squared_error: 1779.9098 - val_loss: 4580902.5000 - val_mae: 2140.1650 - val_mse: 4580902.5000 - val_root_mean_squared_error: 2140.3042\n",
      "Epoch 14/500\n",
      "1/1 - 0s - loss: 3158350.5000 - mae: 1757.4255 - mse: 3158350.5000 - root_mean_squared_error: 1777.1748 - val_loss: 4571835.0000 - val_mae: 2138.0391 - val_mse: 4571835.0000 - val_root_mean_squared_error: 2138.1851\n",
      "Epoch 15/500\n",
      "1/1 - 0s - loss: 3144792.2500 - mae: 1753.5151 - mse: 3144792.2500 - root_mean_squared_error: 1773.3562 - val_loss: 4565371.5000 - val_mae: 2136.5334 - val_mse: 4565371.5000 - val_root_mean_squared_error: 2136.6731\n",
      "Epoch 16/500\n",
      "1/1 - 0s - loss: 3130323.7500 - mae: 1749.3724 - mse: 3130323.7500 - root_mean_squared_error: 1769.2721 - val_loss: 4545881.0000 - val_mae: 2131.9805 - val_mse: 4545881.0000 - val_root_mean_squared_error: 2132.1072\n",
      "Epoch 17/500\n",
      "1/1 - 0s - loss: 3114671.2500 - mae: 1744.9233 - mse: 3114671.2500 - root_mean_squared_error: 1764.8431 - val_loss: 4505417.5000 - val_mae: 2122.4565 - val_mse: 4505417.5000 - val_root_mean_squared_error: 2122.5969\n",
      "Epoch 18/500\n",
      "1/1 - 0s - loss: 3095919.0000 - mae: 1739.4590 - mse: 3095919.0000 - root_mean_squared_error: 1759.5223 - val_loss: 4483530.5000 - val_mae: 2117.2942 - val_mse: 4483530.5000 - val_root_mean_squared_error: 2117.4348\n",
      "Epoch 19/500\n",
      "1/1 - 0s - loss: 3076564.5000 - mae: 1733.8193 - mse: 3076564.5000 - root_mean_squared_error: 1754.0138 - val_loss: 4459356.0000 - val_mae: 2111.5774 - val_mse: 4459356.0000 - val_root_mean_squared_error: 2111.7188\n",
      "Epoch 20/500\n",
      "1/1 - 0s - loss: 3054767.0000 - mae: 1727.4413 - mse: 3054767.0000 - root_mean_squared_error: 1747.7892 - val_loss: 4432624.0000 - val_mae: 2105.2383 - val_mse: 4432624.0000 - val_root_mean_squared_error: 2105.3799\n",
      "Epoch 21/500\n",
      "1/1 - 0s - loss: 3029987.2500 - mae: 1719.9645 - mse: 3029987.2500 - root_mean_squared_error: 1740.6859 - val_loss: 4383711.0000 - val_mae: 2093.5771 - val_mse: 4383711.0000 - val_root_mean_squared_error: 2093.7314\n",
      "Epoch 22/500\n",
      "1/1 - 0s - loss: 2998176.0000 - mae: 1710.6178 - mse: 2998176.0000 - root_mean_squared_error: 1731.5242 - val_loss: 4307840.5000 - val_mae: 2075.3899 - val_mse: 4307840.5000 - val_root_mean_squared_error: 2075.5337\n",
      "Epoch 23/500\n",
      "1/1 - 0s - loss: 2969361.2500 - mae: 1701.6675 - mse: 2969361.2500 - root_mean_squared_error: 1723.1835 - val_loss: 4263056.5000 - val_mae: 2064.5725 - val_mse: 4263056.5000 - val_root_mean_squared_error: 2064.7170\n",
      "Epoch 24/500\n",
      "1/1 - 0s - loss: 2932728.5000 - mae: 1690.9183 - mse: 2932728.5000 - root_mean_squared_error: 1712.5211 - val_loss: 4214220.5000 - val_mae: 2052.7119 - val_mse: 4214220.5000 - val_root_mean_squared_error: 2052.8567\n",
      "Epoch 25/500\n",
      "1/1 - 0s - loss: 2891827.5000 - mae: 1678.4994 - mse: 2891827.5000 - root_mean_squared_error: 1700.5375 - val_loss: 4161124.0000 - val_mae: 2039.7373 - val_mse: 4161124.0000 - val_root_mean_squared_error: 2039.8833\n",
      "Epoch 26/500\n",
      "1/1 - 0s - loss: 2851143.0000 - mae: 1666.0295 - mse: 2851143.0000 - root_mean_squared_error: 1688.5328 - val_loss: 4103561.5000 - val_mae: 2025.5779 - val_mse: 4103561.5000 - val_root_mean_squared_error: 2025.7250\n",
      "Epoch 27/500\n",
      "1/1 - 0s - loss: 2802430.0000 - mae: 1650.8442 - mse: 2802430.0000 - root_mean_squared_error: 1674.0460 - val_loss: 4041327.0000 - val_mae: 2010.1571 - val_mse: 4041327.0000 - val_root_mean_squared_error: 2010.3052\n",
      "Epoch 28/500\n",
      "1/1 - 0s - loss: 2738791.5000 - mae: 1632.0531 - mse: 2738791.5000 - root_mean_squared_error: 1654.9294 - val_loss: 3974237.7500 - val_mae: 1993.3995 - val_mse: 3974237.7500 - val_root_mean_squared_error: 1993.5491\n",
      "Epoch 29/500\n",
      "1/1 - 0s - loss: 2678334.7500 - mae: 1613.8931 - mse: 2678334.7500 - root_mean_squared_error: 1636.5619 - val_loss: 3902118.7500 - val_mae: 1975.2274 - val_mse: 3902118.7500 - val_root_mean_squared_error: 1975.3782\n",
      "Epoch 30/500\n",
      "1/1 - 0s - loss: 2607845.0000 - mae: 1592.0674 - mse: 2607845.0000 - root_mean_squared_error: 1614.8823 - val_loss: 3824791.7500 - val_mae: 1955.5553 - val_mse: 3824791.7500 - val_root_mean_squared_error: 1955.7075\n",
      "Epoch 31/500\n",
      "1/1 - 0s - loss: 2542497.2500 - mae: 1571.1550 - mse: 2542497.2500 - root_mean_squared_error: 1594.5210 - val_loss: 3742122.5000 - val_mae: 1934.3027 - val_mse: 3742122.5000 - val_root_mean_squared_error: 1934.4567\n",
      "Epoch 32/500\n",
      "1/1 - 0s - loss: 2472959.0000 - mae: 1548.6776 - mse: 2472959.0000 - root_mean_squared_error: 1572.5645 - val_loss: 3654011.0000 - val_mae: 1911.3911 - val_mse: 3654011.0000 - val_root_mean_squared_error: 1911.5468\n",
      "Epoch 33/500\n",
      "1/1 - 0s - loss: 2387355.7500 - mae: 1521.3804 - mse: 2387355.7500 - root_mean_squared_error: 1545.1071 - val_loss: 3560164.7500 - val_mae: 1886.6819 - val_mse: 3560164.7500 - val_root_mean_squared_error: 1886.8398\n",
      "Epoch 34/500\n",
      "1/1 - 1s - loss: 2298878.2500 - mae: 1490.8278 - mse: 2298878.2500 - root_mean_squared_error: 1516.2052 - val_loss: 3460312.5000 - val_mae: 1860.0314 - val_mse: 3460312.5000 - val_root_mean_squared_error: 1860.1915\n",
      "Epoch 35/500\n",
      "1/1 - 0s - loss: 2205505.5000 - mae: 1460.1923 - mse: 2205505.5000 - root_mean_squared_error: 1485.0945 - val_loss: 3354687.7500 - val_mae: 1831.4181 - val_mse: 3354687.7500 - val_root_mean_squared_error: 1831.5807\n",
      "Epoch 36/500\n",
      "1/1 - 0s - loss: 2118158.0000 - mae: 1428.3065 - mse: 2118158.0000 - root_mean_squared_error: 1455.3893 - val_loss: 3243337.7500 - val_mae: 1800.7616 - val_mse: 3243337.7500 - val_root_mean_squared_error: 1800.9269\n"
     ]
    },
    {
     "name": "stdout",
     "output_type": "stream",
     "text": [
      "Epoch 37/500\n",
      "1/1 - 0s - loss: 2029383.0000 - mae: 1396.2019 - mse: 2029383.0000 - root_mean_squared_error: 1424.5641 - val_loss: 3126368.2500 - val_mae: 1767.9855 - val_mse: 3126368.2500 - val_root_mean_squared_error: 1768.1539\n",
      "Epoch 38/500\n",
      "1/1 - 0s - loss: 1921043.2500 - mae: 1355.2711 - mse: 1921043.2500 - root_mean_squared_error: 1386.0171 - val_loss: 3003911.0000 - val_mae: 1733.0077 - val_mse: 3003911.0000 - val_root_mean_squared_error: 1733.1794\n",
      "Epoch 39/500\n",
      "1/1 - 0s - loss: 1810788.1250 - mae: 1313.2855 - mse: 1810788.1250 - root_mean_squared_error: 1345.6553 - val_loss: 2876159.0000 - val_mae: 1695.7487 - val_mse: 2876159.0000 - val_root_mean_squared_error: 1695.9242\n",
      "Epoch 40/500\n",
      "1/1 - 0s - loss: 1709130.5000 - mae: 1273.8634 - mse: 1709130.5000 - root_mean_squared_error: 1307.3372 - val_loss: 2743406.7500 - val_mae: 1656.1434 - val_mse: 2743406.7500 - val_root_mean_squared_error: 1656.3232\n",
      "Epoch 41/500\n",
      "1/1 - 0s - loss: 1609567.1250 - mae: 1231.5726 - mse: 1609567.1250 - root_mean_squared_error: 1268.6871 - val_loss: 2606049.7500 - val_mae: 1614.1420 - val_mse: 2606049.7500 - val_root_mean_squared_error: 1614.3264\n",
      "Epoch 42/500\n",
      "1/1 - 0s - loss: 1506825.7500 - mae: 1189.7012 - mse: 1506825.7500 - root_mean_squared_error: 1227.5283 - val_loss: 2464561.0000 - val_mae: 1569.7023 - val_mse: 2464561.0000 - val_root_mean_squared_error: 1569.8921\n",
      "Epoch 43/500\n",
      "1/1 - 0s - loss: 1371130.3750 - mae: 1132.3679 - mse: 1371130.3750 - root_mean_squared_error: 1170.9528 - val_loss: 2293431.5000 - val_mae: 1514.1853 - val_mse: 2293431.5000 - val_root_mean_squared_error: 1514.4080\n",
      "Epoch 44/500\n",
      "1/1 - 0s - loss: 1252860.7500 - mae: 1076.4775 - mse: 1252860.7500 - root_mean_squared_error: 1119.3126 - val_loss: 1956684.7500 - val_mae: 1398.6027 - val_mse: 1956684.7500 - val_root_mean_squared_error: 1398.8154\n",
      "Epoch 45/500\n",
      "1/1 - 0s - loss: 1132596.5000 - mae: 1018.1307 - mse: 1132596.5000 - root_mean_squared_error: 1064.2352 - val_loss: 1798604.5000 - val_mae: 1340.8986 - val_mse: 1798604.5000 - val_root_mean_squared_error: 1341.1206\n",
      "Epoch 46/500\n",
      "1/1 - 0s - loss: 1004026.1250 - mae: 951.8892 - mse: 1004026.1250 - root_mean_squared_error: 1002.0110 - val_loss: 1640063.0000 - val_mae: 1280.4169 - val_mse: 1640063.0000 - val_root_mean_squared_error: 1280.6494\n",
      "Epoch 47/500\n",
      "1/1 - 0s - loss: 916552.3125 - mae: 900.7591 - mse: 916552.3125 - root_mean_squared_error: 957.3674 - val_loss: 1482259.5000 - val_mae: 1217.2362 - val_mse: 1482259.5000 - val_root_mean_squared_error: 1217.4808\n",
      "Epoch 48/500\n",
      "1/1 - 0s - loss: 811136.9375 - mae: 841.0802 - mse: 811136.9375 - root_mean_squared_error: 900.6314 - val_loss: 1326308.6250 - val_mae: 1151.3961 - val_mse: 1326308.6250 - val_root_mean_squared_error: 1151.6548\n",
      "Epoch 49/500\n",
      "1/1 - 0s - loss: 702354.7500 - mae: 773.2642 - mse: 702354.7500 - root_mean_squared_error: 838.0661 - val_loss: 1173416.1250 - val_mae: 1082.9683 - val_mse: 1173416.1250 - val_root_mean_squared_error: 1083.2433\n",
      "Epoch 50/500\n",
      "1/1 - 0s - loss: 619125.1875 - mae: 713.8603 - mse: 619125.1875 - root_mean_squared_error: 786.8451 - val_loss: 1025320.3125 - val_mae: 1012.2867 - val_mse: 1025320.3125 - val_root_mean_squared_error: 1012.5810\n",
      "Epoch 51/500\n",
      "1/1 - 0s - loss: 518098.2500 - mae: 645.0690 - mse: 518098.2500 - root_mean_squared_error: 719.7904 - val_loss: 883275.8125 - val_mae: 939.5105 - val_mse: 883275.8125 - val_root_mean_squared_error: 939.8275\n",
      "Epoch 52/500\n",
      "1/1 - 0s - loss: 422234.6875 - mae: 564.7509 - mse: 422234.6875 - root_mean_squared_error: 649.7959 - val_loss: 748893.5625 - val_mae: 865.0420 - val_mse: 748893.5625 - val_root_mean_squared_error: 865.3864\n",
      "Epoch 53/500\n",
      "1/1 - 0s - loss: 364857.3438 - mae: 516.8567 - mse: 364857.3438 - root_mean_squared_error: 604.0342 - val_loss: 623963.8750 - val_mae: 789.5366 - val_mse: 623963.8750 - val_root_mean_squared_error: 789.9138\n",
      "Epoch 54/500\n",
      "1/1 - 0s - loss: 293687.1250 - mae: 456.4374 - mse: 293687.1250 - root_mean_squared_error: 541.9291 - val_loss: 509775.9375 - val_mae: 713.5686 - val_mse: 509775.9375 - val_root_mean_squared_error: 713.9860\n",
      "Epoch 55/500\n",
      "1/1 - 0s - loss: 266835.6875 - mae: 422.9377 - mse: 266835.6875 - root_mean_squared_error: 516.5614 - val_loss: 407762.2188 - val_mae: 638.0959 - val_mse: 407762.2188 - val_root_mean_squared_error: 638.5626\n",
      "Epoch 56/500\n",
      "1/1 - 0s - loss: 219011.5000 - mae: 378.9805 - mse: 219011.5000 - root_mean_squared_error: 467.9866 - val_loss: 318876.1562 - val_mae: 564.1635 - val_mse: 318876.1562 - val_root_mean_squared_error: 564.6912\n",
      "Epoch 57/500\n",
      "1/1 - 0s - loss: 211972.7031 - mae: 377.1773 - mse: 211972.7031 - root_mean_squared_error: 460.4049 - val_loss: 243098.2812 - val_mae: 492.4455 - val_mse: 243098.2812 - val_root_mean_squared_error: 493.0500\n",
      "Epoch 58/500\n",
      "1/1 - 0s - loss: 204335.5000 - mae: 363.8306 - mse: 204335.5000 - root_mean_squared_error: 452.0349 - val_loss: 180590.7812 - val_mae: 424.2582 - val_mse: 180590.7812 - val_root_mean_squared_error: 424.9597\n",
      "Epoch 59/500\n",
      "1/1 - 0s - loss: 194457.3594 - mae: 356.1479 - mse: 194457.3594 - root_mean_squared_error: 440.9732 - val_loss: 131209.0312 - val_mae: 361.4046 - val_mse: 131209.0312 - val_root_mean_squared_error: 362.2279\n",
      "Epoch 60/500\n",
      "1/1 - 0s - loss: 210619.5000 - mae: 371.1417 - mse: 210619.5000 - root_mean_squared_error: 458.9330 - val_loss: 93892.2500 - val_mae: 305.4448 - val_mse: 93892.2500 - val_root_mean_squared_error: 306.4184\n",
      "Epoch 61/500\n",
      "1/1 - 0s - loss: 228232.7656 - mae: 379.5441 - mse: 228232.7656 - root_mean_squared_error: 477.7371 - val_loss: 66954.4609 - val_mae: 257.6018 - val_mse: 66954.4609 - val_root_mean_squared_error: 258.7556\n",
      "Epoch 62/500\n",
      "1/1 - 1s - loss: 230350.2188 - mae: 385.5126 - mse: 230350.2188 - root_mean_squared_error: 479.9482 - val_loss: 48715.3828 - val_mae: 219.3619 - val_mse: 48715.3828 - val_root_mean_squared_error: 220.7156\n",
      "Epoch 63/500\n",
      "1/1 - 0s - loss: 256731.7812 - mae: 407.4006 - mse: 256731.7812 - root_mean_squared_error: 506.6871 - val_loss: 37197.0391 - val_mae: 191.3146 - val_mse: 37197.0391 - val_root_mean_squared_error: 192.8653\n",
      "Epoch 64/500\n",
      "1/1 - 0s - loss: 257670.5000 - mae: 405.9353 - mse: 257670.5000 - root_mean_squared_error: 507.6125 - val_loss: 30384.7969 - val_mae: 172.5950 - val_mse: 30384.7969 - val_root_mean_squared_error: 174.3123\n",
      "Epoch 65/500\n",
      "1/1 - 0s - loss: 253282.9375 - mae: 408.4680 - mse: 253282.9375 - root_mean_squared_error: 503.2722 - val_loss: 27130.9180 - val_mae: 162.8962 - val_mse: 27130.9180 - val_root_mean_squared_error: 164.7147\n",
      "Epoch 66/500\n",
      "1/1 - 0s - loss: 301513.6875 - mae: 438.4799 - mse: 301513.6875 - root_mean_squared_error: 549.1026 - val_loss: 27059.7754 - val_mae: 162.6777 - val_mse: 27059.7754 - val_root_mean_squared_error: 164.4986\n",
      "Epoch 67/500\n",
      "1/1 - 0s - loss: 291798.3750 - mae: 438.4200 - mse: 291798.3750 - root_mean_squared_error: 540.1837 - val_loss: 29574.9727 - val_mae: 170.2328 - val_mse: 29574.9727 - val_root_mean_squared_error: 171.9738\n",
      "Epoch 68/500\n",
      "1/1 - 0s - loss: 289337.5000 - mae: 427.4688 - mse: 289337.5000 - root_mean_squared_error: 537.9010 - val_loss: 34792.7734 - val_mae: 184.9244 - val_mse: 34792.7734 - val_root_mean_squared_error: 186.5282\n",
      "Epoch 69/500\n",
      "1/1 - 0s - loss: 259508.6406 - mae: 408.2560 - mse: 259508.6406 - root_mean_squared_error: 509.4199 - val_loss: 42449.1875 - val_mae: 204.5811 - val_mse: 42449.1875 - val_root_mean_squared_error: 206.0320\n",
      "Epoch 70/500\n",
      "1/1 - 0s - loss: 258918.4062 - mae: 403.5532 - mse: 258918.4062 - root_mean_squared_error: 508.8403 - val_loss: 52762.5664 - val_mae: 228.4006 - val_mse: 52762.5664 - val_root_mean_squared_error: 229.7010\n",
      "Epoch 71/500\n",
      "1/1 - 0s - loss: 267915.7500 - mae: 418.6233 - mse: 267915.7500 - root_mean_squared_error: 517.6058 - val_loss: 65989.5391 - val_mae: 255.7221 - val_mse: 65989.5391 - val_root_mean_squared_error: 256.8843\n",
      "Epoch 72/500\n",
      "1/1 - 0s - loss: 225088.6562 - mae: 387.5551 - mse: 225088.6562 - root_mean_squared_error: 474.4351 - val_loss: 81708.5859 - val_mae: 284.8032 - val_mse: 81708.5859 - val_root_mean_squared_error: 285.8471\n",
      "Epoch 73/500\n",
      "1/1 - 0s - loss: 243961.5000 - mae: 397.5583 - mse: 243961.5000 - root_mean_squared_error: 493.9246 - val_loss: 99719.7500 - val_mae: 314.8397 - val_mse: 99719.7500 - val_root_mean_squared_error: 315.7843\n"
     ]
    },
    {
     "name": "stdout",
     "output_type": "stream",
     "text": [
      "Epoch 74/500\n",
      "1/1 - 0s - loss: 213487.9375 - mae: 372.8830 - mse: 213487.9375 - root_mean_squared_error: 462.0475 - val_loss: 119608.2266 - val_mae: 344.9819 - val_mse: 119608.2266 - val_root_mean_squared_error: 345.8442\n",
      "Epoch 75/500\n",
      "1/1 - 0s - loss: 224188.8281 - mae: 378.8315 - mse: 224188.8281 - root_mean_squared_error: 473.4858 - val_loss: 141169.7969 - val_mae: 374.9321 - val_mse: 141169.7969 - val_root_mean_squared_error: 375.7257\n",
      "Epoch 76/500\n",
      "1/1 - 0s - loss: 206850.8281 - mae: 369.1823 - mse: 206850.8281 - root_mean_squared_error: 454.8086 - val_loss: 163522.4219 - val_mae: 403.6418 - val_mse: 163522.4219 - val_root_mean_squared_error: 404.3791\n",
      "Epoch 77/500\n",
      "1/1 - 0s - loss: 202494.2188 - mae: 356.5979 - mse: 202494.2188 - root_mean_squared_error: 449.9936 - val_loss: 185516.1562 - val_mae: 430.0237 - val_mse: 185516.1562 - val_root_mean_squared_error: 430.7159\n",
      "Epoch 78/500\n",
      "1/1 - 0s - loss: 185865.4219 - mae: 351.5231 - mse: 185865.4219 - root_mean_squared_error: 431.1211 - val_loss: 206910.4531 - val_mae: 454.2188 - val_mse: 206910.4531 - val_root_mean_squared_error: 454.8741\n",
      "Epoch 79/500\n",
      "1/1 - 0s - loss: 199491.7969 - mae: 359.3927 - mse: 199491.7969 - root_mean_squared_error: 446.6451 - val_loss: 227450.7812 - val_mae: 476.2930 - val_mse: 227450.7812 - val_root_mean_squared_error: 476.9180\n",
      "Epoch 80/500\n",
      "1/1 - 0s - loss: 195997.0312 - mae: 359.2698 - mse: 195997.0312 - root_mean_squared_error: 442.7155 - val_loss: 246434.6875 - val_mae: 495.8214 - val_mse: 246434.6875 - val_root_mean_squared_error: 496.4219\n",
      "Epoch 81/500\n",
      "1/1 - 0s - loss: 198982.9531 - mae: 364.7815 - mse: 198982.9531 - root_mean_squared_error: 446.0750 - val_loss: 262988.2188 - val_mae: 512.2425 - val_mse: 262988.2188 - val_root_mean_squared_error: 512.8238\n",
      "Epoch 82/500\n",
      "1/1 - 0s - loss: 217678.7031 - mae: 377.6164 - mse: 217678.7031 - root_mean_squared_error: 466.5605 - val_loss: 277590.3438 - val_mae: 526.3027 - val_mse: 277590.3438 - val_root_mean_squared_error: 526.8684\n",
      "Epoch 83/500\n",
      "1/1 - 0s - loss: 184824.5000 - mae: 349.2415 - mse: 184824.5000 - root_mean_squared_error: 429.9122 - val_loss: 289574.5000 - val_mae: 537.5674 - val_mse: 289574.5000 - val_root_mean_squared_error: 538.1213\n",
      "Epoch 84/500\n",
      "1/1 - 0s - loss: 205772.2656 - mae: 367.7452 - mse: 205772.2656 - root_mean_squared_error: 453.6213 - val_loss: 298786.0625 - val_mae: 546.0680 - val_mse: 298786.0625 - val_root_mean_squared_error: 546.6133\n",
      "Epoch 85/500\n",
      "1/1 - 0s - loss: 207488.7969 - mae: 369.3061 - mse: 207488.7969 - root_mean_squared_error: 455.5094 - val_loss: 304800.4375 - val_mae: 551.5475 - val_mse: 304800.4375 - val_root_mean_squared_error: 552.0873\n",
      "Epoch 86/500\n",
      "1/1 - 0s - loss: 210681.3594 - mae: 371.9073 - mse: 210681.3594 - root_mean_squared_error: 459.0004 - val_loss: 307771.9375 - val_mae: 554.2347 - val_mse: 307771.9375 - val_root_mean_squared_error: 554.7720\n",
      "Epoch 87/500\n",
      "1/1 - 0s - loss: 211391.1094 - mae: 378.6738 - mse: 211391.1094 - root_mean_squared_error: 459.7729 - val_loss: 307905.6875 - val_mae: 554.3553 - val_mse: 307905.6875 - val_root_mean_squared_error: 554.8925\n",
      "Epoch 88/500\n",
      "1/1 - 0s - loss: 214275.9531 - mae: 376.2015 - mse: 214275.9531 - root_mean_squared_error: 462.8995 - val_loss: 305541.3438 - val_mae: 552.2188 - val_mse: 305541.3438 - val_root_mean_squared_error: 552.7579\n",
      "Epoch 89/500\n",
      "1/1 - 0s - loss: 198876.5156 - mae: 360.6456 - mse: 198876.5156 - root_mean_squared_error: 445.9557 - val_loss: 301062.5000 - val_mae: 548.1484 - val_mse: 301062.5000 - val_root_mean_squared_error: 548.6917\n",
      "Epoch 90/500\n",
      "1/1 - 0s - loss: 204597.4531 - mae: 365.5603 - mse: 204597.4531 - root_mean_squared_error: 452.3245 - val_loss: 294726.4375 - val_mae: 542.3381 - val_mse: 294726.4375 - val_root_mean_squared_error: 542.8871\n",
      "Epoch 91/500\n",
      "1/1 - 0s - loss: 210069.5312 - mae: 373.4893 - mse: 210069.5312 - root_mean_squared_error: 458.3334 - val_loss: 286654.6875 - val_mae: 534.8447 - val_mse: 286654.6875 - val_root_mean_squared_error: 535.4014\n",
      "Epoch 92/500\n",
      "1/1 - 0s - loss: 207149.6094 - mae: 368.6299 - mse: 207149.6094 - root_mean_squared_error: 455.1369 - val_loss: 277691.3750 - val_mae: 526.3987 - val_mse: 277691.3750 - val_root_mean_squared_error: 526.9643\n",
      "Epoch 93/500\n",
      "1/1 - 0s - loss: 202141.5625 - mae: 363.9841 - mse: 202141.5625 - root_mean_squared_error: 449.6016 - val_loss: 268048.1562 - val_mae: 517.1580 - val_mse: 268048.1562 - val_root_mean_squared_error: 517.7336\n",
      "Epoch 94/500\n",
      "1/1 - 0s - loss: 201353.4688 - mae: 365.2175 - mse: 201353.4688 - root_mean_squared_error: 448.7243 - val_loss: 258165.9219 - val_mae: 507.5137 - val_mse: 258165.9219 - val_root_mean_squared_error: 508.1003\n",
      "Epoch 95/500\n",
      "1/1 - 0s - loss: 191826.9062 - mae: 357.5098 - mse: 191826.9062 - root_mean_squared_error: 437.9805 - val_loss: 247582.2344 - val_mae: 496.9774 - val_mse: 247582.2344 - val_root_mean_squared_error: 497.5764\n",
      "Epoch 96/500\n",
      "1/1 - 0s - loss: 190962.3594 - mae: 351.8932 - mse: 190962.3594 - root_mean_squared_error: 436.9924 - val_loss: 237077.3438 - val_mae: 486.2938 - val_mse: 237077.3438 - val_root_mean_squared_error: 486.9059\n",
      "Epoch 97/500\n",
      "1/1 - 0s - loss: 206491.2656 - mae: 369.3869 - mse: 206491.2656 - root_mean_squared_error: 454.4131 - val_loss: 227162.3750 - val_mae: 475.9902 - val_mse: 227162.3750 - val_root_mean_squared_error: 476.6155\n",
      "Epoch 98/500\n",
      "1/1 - 0s - loss: 192863.4219 - mae: 352.3364 - mse: 192863.4219 - root_mean_squared_error: 439.1622 - val_loss: 217512.2500 - val_mae: 465.7430 - val_mse: 217512.2500 - val_root_mean_squared_error: 466.3821\n",
      "Epoch 99/500\n",
      "1/1 - 0s - loss: 210262.7344 - mae: 376.2604 - mse: 210262.7344 - root_mean_squared_error: 458.5442 - val_loss: 208248.2344 - val_mae: 455.6890 - val_mse: 208248.2344 - val_root_mean_squared_error: 456.3422\n",
      "Epoch 100/500\n",
      "1/1 - 0s - loss: 191217.2812 - mae: 357.2796 - mse: 191217.2812 - root_mean_squared_error: 437.2840 - val_loss: 200089.4219 - val_mae: 446.6471 - val_mse: 200089.4219 - val_root_mean_squared_error: 447.3136\n",
      "Epoch 101/500\n",
      "1/1 - 0s - loss: 193602.3438 - mae: 355.6953 - mse: 193602.3438 - root_mean_squared_error: 440.0027 - val_loss: 192690.6250 - val_mae: 438.2863 - val_mse: 192690.6250 - val_root_mean_squared_error: 438.9654\n",
      "Epoch 102/500\n",
      "1/1 - 0s - loss: 192276.9375 - mae: 358.4726 - mse: 192276.9375 - root_mean_squared_error: 438.4940 - val_loss: 185768.7344 - val_mae: 430.3173 - val_mse: 185768.7344 - val_root_mean_squared_error: 431.0090\n",
      "Epoch 103/500\n",
      "1/1 - 0s - loss: 196118.3438 - mae: 355.9856 - mse: 196118.3438 - root_mean_squared_error: 442.8525 - val_loss: 179938.3125 - val_mae: 423.4886 - val_mse: 179938.3125 - val_root_mean_squared_error: 424.1914\n",
      "Epoch 104/500\n",
      "1/1 - 0s - loss: 191297.2344 - mae: 349.0628 - mse: 191297.2344 - root_mean_squared_error: 437.3754 - val_loss: 175272.3438 - val_mae: 417.9433 - val_mse: 175272.3438 - val_root_mean_squared_error: 418.6554\n",
      "Epoch 105/500\n",
      "1/1 - 0s - loss: 190110.4062 - mae: 354.2392 - mse: 190110.4062 - root_mean_squared_error: 436.0165 - val_loss: 171778.5781 - val_mae: 413.7425 - val_mse: 171778.5781 - val_root_mean_squared_error: 414.4618\n",
      "Epoch 106/500\n",
      "1/1 - 0s - loss: 195098.8281 - mae: 351.0948 - mse: 195098.8281 - root_mean_squared_error: 441.6999 - val_loss: 169309.6406 - val_mae: 410.7480 - val_mse: 169309.6406 - val_root_mean_squared_error: 411.4725\n",
      "Epoch 107/500\n",
      "1/1 - 0s - loss: 182469.1562 - mae: 344.5264 - mse: 182469.1562 - root_mean_squared_error: 427.1641 - val_loss: 167773.4375 - val_mae: 408.8737 - val_mse: 167773.4375 - val_root_mean_squared_error: 409.6016\n",
      "Epoch 108/500\n",
      "1/1 - 0s - loss: 197894.3906 - mae: 356.2151 - mse: 197894.3906 - root_mean_squared_error: 444.8532 - val_loss: 167631.3438 - val_mae: 408.6999 - val_mse: 167631.3438 - val_root_mean_squared_error: 409.4281\n",
      "Epoch 109/500\n",
      "1/1 - 0s - loss: 176009.2656 - mae: 340.9838 - mse: 176009.2656 - root_mean_squared_error: 419.5346 - val_loss: 168461.2500 - val_mae: 409.7139 - val_mse: 168461.2500 - val_root_mean_squared_error: 410.4403\n",
      "Epoch 110/500\n",
      "1/1 - 0s - loss: 194203.2344 - mae: 355.2681 - mse: 194203.2344 - root_mean_squared_error: 440.6850 - val_loss: 170336.1719 - val_mae: 411.9956 - val_mse: 170336.1719 - val_root_mean_squared_error: 412.7180\n",
      "Epoch 111/500\n",
      "1/1 - 0s - loss: 197750.0625 - mae: 362.7702 - mse: 197750.0625 - root_mean_squared_error: 444.6910 - val_loss: 173457.9531 - val_mae: 415.7670 - val_mse: 173457.9531 - val_root_mean_squared_error: 416.4828\n"
     ]
    },
    {
     "name": "stdout",
     "output_type": "stream",
     "text": [
      "Epoch 112/500\n",
      "1/1 - 0s - loss: 188677.7500 - mae: 352.6904 - mse: 188677.7500 - root_mean_squared_error: 434.3705 - val_loss: 177704.7500 - val_mae: 420.8432 - val_mse: 177704.7500 - val_root_mean_squared_error: 421.5504\n",
      "Epoch 113/500\n",
      "1/1 - 0s - loss: 193052.4375 - mae: 349.1149 - mse: 193052.4375 - root_mean_squared_error: 439.3773 - val_loss: 182326.3750 - val_mae: 426.2987 - val_mse: 182326.3750 - val_root_mean_squared_error: 426.9969\n",
      "Epoch 114/500\n",
      "1/1 - 0s - loss: 183640.4844 - mae: 350.4381 - mse: 183640.4844 - root_mean_squared_error: 428.5330 - val_loss: 186515.4062 - val_mae: 431.1840 - val_mse: 186515.4062 - val_root_mean_squared_error: 431.8743\n",
      "Epoch 115/500\n",
      "1/1 - 0s - loss: 204454.5312 - mae: 363.8333 - mse: 204454.5312 - root_mean_squared_error: 452.1665 - val_loss: 190511.7344 - val_mae: 435.7935 - val_mse: 190511.7344 - val_root_mean_squared_error: 436.4765\n",
      "Epoch 116/500\n",
      "Restoring model weights from the end of the best epoch.\n",
      "1/1 - 0s - loss: 185124.8594 - mae: 351.7031 - mse: 185124.8594 - root_mean_squared_error: 430.2614 - val_loss: 194234.2500 - val_mae: 440.0438 - val_mse: 194234.2500 - val_root_mean_squared_error: 440.7202\n",
      "Epoch 00116: early stopping\n"
     ]
    },
    {
     "data": {
      "text/plain": [
       "<tensorflow.python.keras.callbacks.History at 0x1ce22145ac8>"
      ]
     },
     "execution_count": 37,
     "metadata": {},
     "output_type": "execute_result"
    }
   ],
   "source": [
    "early_stopping = tf.keras.callbacks.EarlyStopping(\n",
    "    monitor='val_mse',\n",
    "    min_delta=0.001, \n",
    "    patience=50, \n",
    "    verbose=1, \n",
    "    mode='auto',\n",
    "    baseline=None, \n",
    "    restore_best_weights=True\n",
    ")\n",
    "model.fit(train_dataset,\n",
    "          epochs=500,\n",
    "          verbose = 2,\n",
    "          validation_data = val_dataset,\n",
    "          validation_steps=1,\n",
    "          steps_per_epoch=1,\n",
    "          callbacks= [early_stopping]\n",
    "     )"
   ]
  },
  {
   "cell_type": "code",
   "execution_count": 38,
   "metadata": {},
   "outputs": [],
   "source": [
    "prd = model.predict(train_dataset,steps = 1)\n",
    "val_prd = model.predict(val_dataset, steps=1)"
   ]
  },
  {
   "cell_type": "code",
   "execution_count": 39,
   "metadata": {},
   "outputs": [],
   "source": [
    "def plot_diff(prcd,resDf,label,step):\n",
    "    real = resDf[list(map(lambda x: f'^GSPC_Close_{x}',label))].transpose().values\n",
    "    plotDf = pd.DataFrame(real[step:]).tail(len(prcd[step]))\n",
    "    plotDf['prd_Close'] = prcd[step]\n",
    "    return plotDf\n",
    "def plot_diff(prcd,resDf,label,step):\n",
    "    real = resDf[list(map(lambda x: f'^GSPC_Close_{x}',label))].transpose().values\n",
    "    plotDf = pd.DataFrame(real).tail(len(prcd))\n",
    "    plotDf['prd_Close'] = prcd\n",
    "    return plotDf"
   ]
  },
  {
   "cell_type": "code",
   "execution_count": 40,
   "metadata": {
    "scrolled": true
   },
   "outputs": [
    {
     "data": {
      "text/plain": [
       "<matplotlib.axes._subplots.AxesSubplot at 0x1ce29860198>"
      ]
     },
     "execution_count": 40,
     "metadata": {},
     "output_type": "execute_result"
    },
    {
     "data": {
      "image/png": "[encoded data removed]",
      "text/plain": [
       "<Figure size 432x288 with 1 Axes>"
      ]
     },
     "metadata": {
      "needs_background": "light"
     },
     "output_type": "display_data"
    }
   ],
   "source": [
    "\n",
    "plotDf = plot_diff(prd,psd.df,trainDate,0)\n",
    "plotDf.plot()"
   ]
  },
  {
   "cell_type": "code",
   "execution_count": 41,
   "metadata": {},
   "outputs": [
    {
     "data": {
      "text/plain": [
       "<matplotlib.axes._subplots.AxesSubplot at 0x1cd88bf6d68>"
      ]
     },
     "execution_count": 41,
     "metadata": {},
     "output_type": "execute_result"
    },
    {
     "data": {
      "image/png": "[encoded data removed]",
      "text/plain": [
       "<Figure size 432x288 with 1 Axes>"
      ]
     },
     "metadata": {
      "needs_background": "light"
     },
     "output_type": "display_data"
    }
   ],
   "source": [
    "plotDf = plot_diff(val_prd,psd.df,valDate,20)\n",
    "plotDf.plot()"
   ]
  },
  {
   "cell_type": "code",
   "execution_count": 21,
   "metadata": {},
   "outputs": [],
   "source": [
    "tpsd = Pandas_Time_Series_Tensor_Dataset(df)\n",
    "timeSeriesDic = tpsd.expand_dataFrame_by_date('symbol','Date')\n",
    "for i,v in enumerate(labels):\n",
    "    if i == 0:\n",
    "        tpsd.set_config(\n",
    "            name = f'sequence',\n",
    "            colNames = list(map(lambda x: f'{v}_{str(x)}',testDate)),\n",
    "            tensorType = 'sequence',\n",
    "            sequence_stack = None,\n",
    "            isResponseVar = False,\n",
    "            windowSize = WINDOW_SIZE,\n",
    "            seqSize = 1837,\n",
    "            outType = np.float32\n",
    "        )\n",
    "    else:\n",
    "        tpsd.set_config(\n",
    "            name = f'{v}_sequence',\n",
    "            colNames = list(map(lambda x: f'{v}_{str(x)}',testDate)),\n",
    "            tensorType = 'sequence',\n",
    "            sequence_stack = \"sequence\",\n",
    "            isResponseVar = False,\n",
    "            windowSize = WINDOW_SIZE,\n",
    "            seqSize = 1837,\n",
    "            outType = np.float32\n",
    "        )\n",
    "        \n",
    "tpsd.set_config(\n",
    "    name = 'label',\n",
    "    colNames = list(map(lambda x: f'sp500_Close_{str(x)}',testDate)),\n",
    "    tensorType = 'label',\n",
    "    sequence_stack = None,\n",
    "    isResponseVar = True,\n",
    "    windowSize = WINDOW_SIZE,\n",
    "    seqSize = 1837,\n",
    "    outType = np.float32\n",
    ")"
   ]
  },
  {
   "cell_type": "code",
   "execution_count": 22,
   "metadata": {
    "scrolled": true
   },
   "outputs": [],
   "source": [
    "tgen = psd.make_data_generator()\n",
    "test_prediction = model.predict(tgen)"
   ]
  },
  {
   "cell_type": "code",
   "execution_count": 23,
   "metadata": {
    "scrolled": true
   },
   "outputs": [
    {
     "ename": "KeyError",
     "evalue": "\"None of [Index(['sp500_Close_4900', 'sp500_Close_4901', 'sp500_Close_4902',\\n       'sp500_Close_4903', 'sp500_Close_4904', 'sp500_Close_4905',\\n       'sp500_Close_4906', 'sp500_Close_4907', 'sp500_Close_4908',\\n       'sp500_Close_4909', 'sp500_Close_4910', 'sp500_Close_4911',\\n       'sp500_Close_4912', 'sp500_Close_4913', 'sp500_Close_4914',\\n       'sp500_Close_4915', 'sp500_Close_4916', 'sp500_Close_4917',\\n       'sp500_Close_4918', 'sp500_Close_4919', 'sp500_Close_4920',\\n       'sp500_Close_4921', 'sp500_Close_4922', 'sp500_Close_4923',\\n       'sp500_Close_4924', 'sp500_Close_4925', 'sp500_Close_4926',\\n       'sp500_Close_4927', 'sp500_Close_4928', 'sp500_Close_4929',\\n       'sp500_Close_4930', 'sp500_Close_4931', 'sp500_Close_4932',\\n       'sp500_Close_4933', 'sp500_Close_4934', 'sp500_Close_4935',\\n       'sp500_Close_4936', 'sp500_Close_4937', 'sp500_Close_4938',\\n       'sp500_Close_4939', 'sp500_Close_4940', 'sp500_Close_4941',\\n       'sp500_Close_4942', 'sp500_Close_4943', 'sp500_Close_4944',\\n       'sp500_Close_4945', 'sp500_Close_4946', 'sp500_Close_4947',\\n       'sp500_Close_4948', 'sp500_Close_4949', 'sp500_Close_4950',\\n       'sp500_Close_4951', 'sp500_Close_4952', 'sp500_Close_4953',\\n       'sp500_Close_4954', 'sp500_Close_4955', 'sp500_Close_4956',\\n       'sp500_Close_4957', 'sp500_Close_4958', 'sp500_Close_4959',\\n       'sp500_Close_4960', 'sp500_Close_4961', 'sp500_Close_4962',\\n       'sp500_Close_4963', 'sp500_Close_4964', 'sp500_Close_4965',\\n       'sp500_Close_4966', 'sp500_Close_4967', 'sp500_Close_4968',\\n       'sp500_Close_4969', 'sp500_Close_4970', 'sp500_Close_4971',\\n       'sp500_Close_4972', 'sp500_Close_4973', 'sp500_Close_4974',\\n       'sp500_Close_4975', 'sp500_Close_4976', 'sp500_Close_4977',\\n       'sp500_Close_4978', 'sp500_Close_4979', 'sp500_Close_4980',\\n       'sp500_Close_4981', 'sp500_Close_4982', 'sp500_Close_4983',\\n       'sp500_Close_4984', 'sp500_Close_4985', 'sp500_Close_4986',\\n       'sp500_Close_4987', 'sp500_Close_4988', 'sp500_Close_4989',\\n       'sp500_Close_4990', 'sp500_Close_4991', 'sp500_Close_4992',\\n       'sp500_Close_4993', 'sp500_Close_4994', 'sp500_Close_4995',\\n       'sp500_Close_4996', 'sp500_Close_4997', 'sp500_Close_4998',\\n       'sp500_Close_4999'],\\n      dtype='object')] are in the [columns]\"",
     "output_type": "error",
     "traceback": [
      "\u001b[1;31m---------------------------------------------------------------------------\u001b[0m",
      "\u001b[1;31mKeyError\u001b[0m                                  Traceback (most recent call last)",
      "\u001b[1;32m<ipython-input-23-f6e69ff475d6>\u001b[0m in \u001b[0;36m<module>\u001b[1;34m\u001b[0m\n\u001b[1;32m----> 1\u001b[1;33m \u001b[0mplotDf\u001b[0m \u001b[1;33m=\u001b[0m \u001b[0mplot_diff\u001b[0m\u001b[1;33m(\u001b[0m\u001b[0mtest_prediction\u001b[0m\u001b[1;33m,\u001b[0m\u001b[0mtpsd\u001b[0m\u001b[1;33m.\u001b[0m\u001b[0mdf\u001b[0m\u001b[1;33m,\u001b[0m\u001b[0mtestDate\u001b[0m\u001b[1;33m)\u001b[0m\u001b[1;33m\u001b[0m\u001b[1;33m\u001b[0m\u001b[0m\n\u001b[0m\u001b[0;32m      2\u001b[0m \u001b[0mplotDf\u001b[0m\u001b[1;33m.\u001b[0m\u001b[0mplot\u001b[0m\u001b[1;33m(\u001b[0m\u001b[1;33m)\u001b[0m\u001b[1;33m\u001b[0m\u001b[1;33m\u001b[0m\u001b[0m\n",
      "\u001b[1;32m<ipython-input-17-2b060b40f2d3>\u001b[0m in \u001b[0;36mplot_diff\u001b[1;34m(prcd, resDf, label)\u001b[0m\n\u001b[0;32m      1\u001b[0m \u001b[1;32mdef\u001b[0m \u001b[0mplot_diff\u001b[0m\u001b[1;33m(\u001b[0m\u001b[0mprcd\u001b[0m\u001b[1;33m,\u001b[0m\u001b[0mresDf\u001b[0m\u001b[1;33m,\u001b[0m\u001b[0mlabel\u001b[0m\u001b[1;33m)\u001b[0m\u001b[1;33m:\u001b[0m\u001b[1;33m\u001b[0m\u001b[1;33m\u001b[0m\u001b[0m\n\u001b[1;32m----> 2\u001b[1;33m     \u001b[0mreal\u001b[0m \u001b[1;33m=\u001b[0m \u001b[0mresDf\u001b[0m\u001b[1;33m[\u001b[0m\u001b[0mlist\u001b[0m\u001b[1;33m(\u001b[0m\u001b[0mmap\u001b[0m\u001b[1;33m(\u001b[0m\u001b[1;32mlambda\u001b[0m \u001b[0mx\u001b[0m\u001b[1;33m:\u001b[0m \u001b[1;34mf'sp500_Close_{x}'\u001b[0m\u001b[1;33m,\u001b[0m\u001b[0mlabel\u001b[0m\u001b[1;33m)\u001b[0m\u001b[1;33m)\u001b[0m\u001b[1;33m]\u001b[0m\u001b[1;33m.\u001b[0m\u001b[0mtranspose\u001b[0m\u001b[1;33m(\u001b[0m\u001b[1;33m)\u001b[0m\u001b[1;33m.\u001b[0m\u001b[0mvalues\u001b[0m\u001b[1;33m\u001b[0m\u001b[1;33m\u001b[0m\u001b[0m\n\u001b[0m\u001b[0;32m      3\u001b[0m     \u001b[0mplotDf\u001b[0m \u001b[1;33m=\u001b[0m \u001b[0mpd\u001b[0m\u001b[1;33m.\u001b[0m\u001b[0mDataFrame\u001b[0m\u001b[1;33m(\u001b[0m\u001b[0mreal\u001b[0m\u001b[1;33m)\u001b[0m\u001b[1;33m.\u001b[0m\u001b[0mtail\u001b[0m\u001b[1;33m(\u001b[0m\u001b[0mlen\u001b[0m\u001b[1;33m(\u001b[0m\u001b[0mprcd\u001b[0m\u001b[1;33m)\u001b[0m\u001b[1;33m)\u001b[0m\u001b[1;33m\u001b[0m\u001b[1;33m\u001b[0m\u001b[0m\n\u001b[0;32m      4\u001b[0m     \u001b[0mprint\u001b[0m\u001b[1;33m(\u001b[0m\u001b[0mplotDf\u001b[0m\u001b[1;33m.\u001b[0m\u001b[0mshape\u001b[0m\u001b[1;33m)\u001b[0m\u001b[1;33m\u001b[0m\u001b[1;33m\u001b[0m\u001b[0m\n\u001b[0;32m      5\u001b[0m     \u001b[0mplotDf\u001b[0m\u001b[1;33m[\u001b[0m\u001b[1;34m'prd_Close'\u001b[0m\u001b[1;33m]\u001b[0m \u001b[1;33m=\u001b[0m \u001b[0mprcd\u001b[0m\u001b[1;33m\u001b[0m\u001b[1;33m\u001b[0m\u001b[0m\n",
      "\u001b[1;32m~\\Anaconda3\\lib\\site-packages\\pandas\\core\\frame.py\u001b[0m in \u001b[0;36m__getitem__\u001b[1;34m(self, key)\u001b[0m\n\u001b[0;32m   2804\u001b[0m             \u001b[1;32mif\u001b[0m \u001b[0mis_iterator\u001b[0m\u001b[1;33m(\u001b[0m\u001b[0mkey\u001b[0m\u001b[1;33m)\u001b[0m\u001b[1;33m:\u001b[0m\u001b[1;33m\u001b[0m\u001b[1;33m\u001b[0m\u001b[0m\n\u001b[0;32m   2805\u001b[0m                 \u001b[0mkey\u001b[0m \u001b[1;33m=\u001b[0m \u001b[0mlist\u001b[0m\u001b[1;33m(\u001b[0m\u001b[0mkey\u001b[0m\u001b[1;33m)\u001b[0m\u001b[1;33m\u001b[0m\u001b[1;33m\u001b[0m\u001b[0m\n\u001b[1;32m-> 2806\u001b[1;33m             \u001b[0mindexer\u001b[0m \u001b[1;33m=\u001b[0m \u001b[0mself\u001b[0m\u001b[1;33m.\u001b[0m\u001b[0mloc\u001b[0m\u001b[1;33m.\u001b[0m\u001b[0m_get_listlike_indexer\u001b[0m\u001b[1;33m(\u001b[0m\u001b[0mkey\u001b[0m\u001b[1;33m,\u001b[0m \u001b[0maxis\u001b[0m\u001b[1;33m=\u001b[0m\u001b[1;36m1\u001b[0m\u001b[1;33m,\u001b[0m \u001b[0mraise_missing\u001b[0m\u001b[1;33m=\u001b[0m\u001b[1;32mTrue\u001b[0m\u001b[1;33m)\u001b[0m\u001b[1;33m[\u001b[0m\u001b[1;36m1\u001b[0m\u001b[1;33m]\u001b[0m\u001b[1;33m\u001b[0m\u001b[1;33m\u001b[0m\u001b[0m\n\u001b[0m\u001b[0;32m   2807\u001b[0m \u001b[1;33m\u001b[0m\u001b[0m\n\u001b[0;32m   2808\u001b[0m         \u001b[1;31m# take() does not accept boolean indexers\u001b[0m\u001b[1;33m\u001b[0m\u001b[1;33m\u001b[0m\u001b[1;33m\u001b[0m\u001b[0m\n",
      "\u001b[1;32m~\\Anaconda3\\lib\\site-packages\\pandas\\core\\indexing.py\u001b[0m in \u001b[0;36m_get_listlike_indexer\u001b[1;34m(self, key, axis, raise_missing)\u001b[0m\n\u001b[0;32m   1551\u001b[0m \u001b[1;33m\u001b[0m\u001b[0m\n\u001b[0;32m   1552\u001b[0m         self._validate_read_indexer(\n\u001b[1;32m-> 1553\u001b[1;33m             \u001b[0mkeyarr\u001b[0m\u001b[1;33m,\u001b[0m \u001b[0mindexer\u001b[0m\u001b[1;33m,\u001b[0m \u001b[0mo\u001b[0m\u001b[1;33m.\u001b[0m\u001b[0m_get_axis_number\u001b[0m\u001b[1;33m(\u001b[0m\u001b[0maxis\u001b[0m\u001b[1;33m)\u001b[0m\u001b[1;33m,\u001b[0m \u001b[0mraise_missing\u001b[0m\u001b[1;33m=\u001b[0m\u001b[0mraise_missing\u001b[0m\u001b[1;33m\u001b[0m\u001b[1;33m\u001b[0m\u001b[0m\n\u001b[0m\u001b[0;32m   1554\u001b[0m         )\n\u001b[0;32m   1555\u001b[0m         \u001b[1;32mreturn\u001b[0m \u001b[0mkeyarr\u001b[0m\u001b[1;33m,\u001b[0m \u001b[0mindexer\u001b[0m\u001b[1;33m\u001b[0m\u001b[1;33m\u001b[0m\u001b[0m\n",
      "\u001b[1;32m~\\Anaconda3\\lib\\site-packages\\pandas\\core\\indexing.py\u001b[0m in \u001b[0;36m_validate_read_indexer\u001b[1;34m(self, key, indexer, axis, raise_missing)\u001b[0m\n\u001b[0;32m   1638\u001b[0m             \u001b[1;32mif\u001b[0m \u001b[0mmissing\u001b[0m \u001b[1;33m==\u001b[0m \u001b[0mlen\u001b[0m\u001b[1;33m(\u001b[0m\u001b[0mindexer\u001b[0m\u001b[1;33m)\u001b[0m\u001b[1;33m:\u001b[0m\u001b[1;33m\u001b[0m\u001b[1;33m\u001b[0m\u001b[0m\n\u001b[0;32m   1639\u001b[0m                 \u001b[0maxis_name\u001b[0m \u001b[1;33m=\u001b[0m \u001b[0mself\u001b[0m\u001b[1;33m.\u001b[0m\u001b[0mobj\u001b[0m\u001b[1;33m.\u001b[0m\u001b[0m_get_axis_name\u001b[0m\u001b[1;33m(\u001b[0m\u001b[0maxis\u001b[0m\u001b[1;33m)\u001b[0m\u001b[1;33m\u001b[0m\u001b[1;33m\u001b[0m\u001b[0m\n\u001b[1;32m-> 1640\u001b[1;33m                 \u001b[1;32mraise\u001b[0m \u001b[0mKeyError\u001b[0m\u001b[1;33m(\u001b[0m\u001b[1;34mf\"None of [{key}] are in the [{axis_name}]\"\u001b[0m\u001b[1;33m)\u001b[0m\u001b[1;33m\u001b[0m\u001b[1;33m\u001b[0m\u001b[0m\n\u001b[0m\u001b[0;32m   1641\u001b[0m \u001b[1;33m\u001b[0m\u001b[0m\n\u001b[0;32m   1642\u001b[0m             \u001b[1;31m# We (temporarily) allow for some missing keys with .loc, except in\u001b[0m\u001b[1;33m\u001b[0m\u001b[1;33m\u001b[0m\u001b[1;33m\u001b[0m\u001b[0m\n",
      "\u001b[1;31mKeyError\u001b[0m: \"None of [Index(['sp500_Close_4900', 'sp500_Close_4901', 'sp500_Close_4902',\\n       'sp500_Close_4903', 'sp500_Close_4904', 'sp500_Close_4905',\\n       'sp500_Close_4906', 'sp500_Close_4907', 'sp500_Close_4908',\\n       'sp500_Close_4909', 'sp500_Close_4910', 'sp500_Close_4911',\\n       'sp500_Close_4912', 'sp500_Close_4913', 'sp500_Close_4914',\\n       'sp500_Close_4915', 'sp500_Close_4916', 'sp500_Close_4917',\\n       'sp500_Close_4918', 'sp500_Close_4919', 'sp500_Close_4920',\\n       'sp500_Close_4921', 'sp500_Close_4922', 'sp500_Close_4923',\\n       'sp500_Close_4924', 'sp500_Close_4925', 'sp500_Close_4926',\\n       'sp500_Close_4927', 'sp500_Close_4928', 'sp500_Close_4929',\\n       'sp500_Close_4930', 'sp500_Close_4931', 'sp500_Close_4932',\\n       'sp500_Close_4933', 'sp500_Close_4934', 'sp500_Close_4935',\\n       'sp500_Close_4936', 'sp500_Close_4937', 'sp500_Close_4938',\\n       'sp500_Close_4939', 'sp500_Close_4940', 'sp500_Close_4941',\\n       'sp500_Close_4942', 'sp500_Close_4943', 'sp500_Close_4944',\\n       'sp500_Close_4945', 'sp500_Close_4946', 'sp500_Close_4947',\\n       'sp500_Close_4948', 'sp500_Close_4949', 'sp500_Close_4950',\\n       'sp500_Close_4951', 'sp500_Close_4952', 'sp500_Close_4953',\\n       'sp500_Close_4954', 'sp500_Close_4955', 'sp500_Close_4956',\\n       'sp500_Close_4957', 'sp500_Close_4958', 'sp500_Close_4959',\\n       'sp500_Close_4960', 'sp500_Close_4961', 'sp500_Close_4962',\\n       'sp500_Close_4963', 'sp500_Close_4964', 'sp500_Close_4965',\\n       'sp500_Close_4966', 'sp500_Close_4967', 'sp500_Close_4968',\\n       'sp500_Close_4969', 'sp500_Close_4970', 'sp500_Close_4971',\\n       'sp500_Close_4972', 'sp500_Close_4973', 'sp500_Close_4974',\\n       'sp500_Close_4975', 'sp500_Close_4976', 'sp500_Close_4977',\\n       'sp500_Close_4978', 'sp500_Close_4979', 'sp500_Close_4980',\\n       'sp500_Close_4981', 'sp500_Close_4982', 'sp500_Close_4983',\\n       'sp500_Close_4984', 'sp500_Close_4985', 'sp500_Close_4986',\\n       'sp500_Close_4987', 'sp500_Close_4988', 'sp500_Close_4989',\\n       'sp500_Close_4990', 'sp500_Close_4991', 'sp500_Close_4992',\\n       'sp500_Close_4993', 'sp500_Close_4994', 'sp500_Close_4995',\\n       'sp500_Close_4996', 'sp500_Close_4997', 'sp500_Close_4998',\\n       'sp500_Close_4999'],\\n      dtype='object')] are in the [columns]\""
     ]
    }
   ],
   "source": [
    "plotDf = plot_diff(test_prediction,tpsd.df,testDate)\n",
    "plotDf.plot()"
   ]
  },
  {
   "cell_type": "code",
   "execution_count": 24,
   "metadata": {
    "scrolled": true
   },
   "outputs": [
    {
     "ename": "AttributeError",
     "evalue": "'DataFrame' object has no attribute 'prd_High'",
     "output_type": "error",
     "traceback": [
      "\u001b[1;31m---------------------------------------------------------------------------\u001b[0m",
      "\u001b[1;31mAttributeError\u001b[0m                            Traceback (most recent call last)",
      "\u001b[1;32m<ipython-input-24-e9dfad5372d1>\u001b[0m in \u001b[0;36m<module>\u001b[1;34m\u001b[0m\n\u001b[0;32m      1\u001b[0m \u001b[1;32mfrom\u001b[0m \u001b[0msklearn\u001b[0m\u001b[1;33m.\u001b[0m\u001b[0mmetrics\u001b[0m \u001b[1;32mimport\u001b[0m \u001b[0mmean_squared_error\u001b[0m\u001b[1;33m\u001b[0m\u001b[1;33m\u001b[0m\u001b[0m\n\u001b[1;32m----> 2\u001b[1;33m \u001b[0mnp\u001b[0m\u001b[1;33m.\u001b[0m\u001b[0msqrt\u001b[0m\u001b[1;33m(\u001b[0m\u001b[0mmean_squared_error\u001b[0m\u001b[1;33m(\u001b[0m\u001b[0mplotDf\u001b[0m\u001b[1;33m[\u001b[0m\u001b[1;36m0\u001b[0m\u001b[1;33m]\u001b[0m\u001b[1;33m,\u001b[0m\u001b[0mplotDf\u001b[0m\u001b[1;33m.\u001b[0m\u001b[0mprd_High\u001b[0m\u001b[1;33m)\u001b[0m\u001b[1;33m)\u001b[0m\u001b[1;33m\u001b[0m\u001b[1;33m\u001b[0m\u001b[0m\n\u001b[0m",
      "\u001b[1;32m~\\Anaconda3\\lib\\site-packages\\pandas\\core\\generic.py\u001b[0m in \u001b[0;36m__getattr__\u001b[1;34m(self, name)\u001b[0m\n\u001b[0;32m   5272\u001b[0m             \u001b[1;32mif\u001b[0m \u001b[0mself\u001b[0m\u001b[1;33m.\u001b[0m\u001b[0m_info_axis\u001b[0m\u001b[1;33m.\u001b[0m\u001b[0m_can_hold_identifiers_and_holds_name\u001b[0m\u001b[1;33m(\u001b[0m\u001b[0mname\u001b[0m\u001b[1;33m)\u001b[0m\u001b[1;33m:\u001b[0m\u001b[1;33m\u001b[0m\u001b[1;33m\u001b[0m\u001b[0m\n\u001b[0;32m   5273\u001b[0m                 \u001b[1;32mreturn\u001b[0m \u001b[0mself\u001b[0m\u001b[1;33m[\u001b[0m\u001b[0mname\u001b[0m\u001b[1;33m]\u001b[0m\u001b[1;33m\u001b[0m\u001b[1;33m\u001b[0m\u001b[0m\n\u001b[1;32m-> 5274\u001b[1;33m             \u001b[1;32mreturn\u001b[0m \u001b[0mobject\u001b[0m\u001b[1;33m.\u001b[0m\u001b[0m__getattribute__\u001b[0m\u001b[1;33m(\u001b[0m\u001b[0mself\u001b[0m\u001b[1;33m,\u001b[0m \u001b[0mname\u001b[0m\u001b[1;33m)\u001b[0m\u001b[1;33m\u001b[0m\u001b[1;33m\u001b[0m\u001b[0m\n\u001b[0m\u001b[0;32m   5275\u001b[0m \u001b[1;33m\u001b[0m\u001b[0m\n\u001b[0;32m   5276\u001b[0m     \u001b[1;32mdef\u001b[0m \u001b[0m__setattr__\u001b[0m\u001b[1;33m(\u001b[0m\u001b[0mself\u001b[0m\u001b[1;33m,\u001b[0m \u001b[0mname\u001b[0m\u001b[1;33m:\u001b[0m \u001b[0mstr\u001b[0m\u001b[1;33m,\u001b[0m \u001b[0mvalue\u001b[0m\u001b[1;33m)\u001b[0m \u001b[1;33m->\u001b[0m \u001b[1;32mNone\u001b[0m\u001b[1;33m:\u001b[0m\u001b[1;33m\u001b[0m\u001b[1;33m\u001b[0m\u001b[0m\n",
      "\u001b[1;31mAttributeError\u001b[0m: 'DataFrame' object has no attribute 'prd_High'"
     ]
    }
   ],
   "source": [
    "from sklearn.metrics import mean_squared_error\n",
    "np.sqrt(mean_squared_error(plotDf[0],plotDf.prd_High))"
   ]
  },
  {
   "cell_type": "code",
   "execution_count": null,
   "metadata": {},
   "outputs": [],
   "source": []
  },
  {
   "cell_type": "code",
   "execution_count": null,
   "metadata": {},
   "outputs": [],
   "source": []
  }
 ],
 "metadata": {
  "file_extension": ".py",
  "kernelspec": {
   "display_name": "Python 3",
   "language": "python",
   "name": "python3"
  },
  "language_info": {
   "codemirror_mode": {
    "name": "ipython",
    "version": 3
   },
   "file_extension": ".py",
   "mimetype": "text/x-python",
   "name": "python",
   "nbconvert_exporter": "python",
   "pygments_lexer": "ipython3",
   "version": "3.7.3"
  },
  "mimetype": "text/x-python",
  "name": "python",
  "npconvert_exporter": "python",
  "pygments_lexer": "ipython3",
  "toc": {
   "base_numbering": 1,
   "nav_menu": {},
   "number_sections": true,
   "sideBar": true,
   "skip_h1_title": false,
   "title_cell": "Table of Contents",
   "title_sidebar": "Contents",
   "toc_cell": false,
   "toc_position": {},
   "toc_section_display": true,
   "toc_window_display": false
  },
  "version": 3
 },
 "nbformat": 4,
 "nbformat_minor": 2
}
