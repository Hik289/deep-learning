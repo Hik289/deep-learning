{
 "cells": [
  {
   "cell_type": "code",
   "execution_count": 1,
   "metadata": {},
   "outputs": [],
   "source": [
    "import datapackage\n",
    "import pandas as pd\n",
    "\n",
    "data_url = 'https://datahub.io/core/s-and-p-500-companies/datapackage.json'\n",
    "\n",
    "# to load Data Package into storage\n",
    "package = datapackage.Package(data_url)\n",
    "\n",
    "# to load only tabular data\n",
    "resources = package.resources\n",
    "for resource in resources:\n",
    "    if resource.tabular:\n",
    "        data = pd.read_csv(resource.descriptor['path'])"
   ]
  },
  {
   "cell_type": "code",
   "execution_count": 3,
   "metadata": {},
   "outputs": [],
   "source": [
    "import time_series_transform as tst"
   ]
  },
  {
   "cell_type": "code",
   "execution_count": 5,
   "metadata": {},
   "outputs": [
    {
     "name": "stdout",
     "output_type": "stream",
     "text": [
      "- CDW: No data found, symbol may be delisted\n",
      "- CDW: No data found, symbol may be delisted\n",
      "- EQIX: No data found, symbol may be delisted\n",
      "- EQIX: No data found, symbol may be delisted\n",
      "- CMA: No data found, symbol may be delisted\n",
      "- CMA: No data found, symbol may be delisted\n",
      "- DLR: No data found, symbol may be delisted\n",
      "- DLR: No data found, symbol may be delisted\n",
      "- EXPD: No data found, symbol may be delisted\n",
      "- EXPD: No data found, symbol may be delisted\n",
      "- BDX: No data found, symbol may be delisted\n",
      "- BDX: No data found, symbol may be delisted\n"
     ]
    }
   ],
   "source": [
    "pe = tst.Portfolio_Extractor(data.Symbol.sample(100).tolist(),'yahoo')\n",
    "port = pe.get_portfolio_period('5y')"
   ]
  },
  {
   "cell_type": "code",
   "execution_count": 8,
   "metadata": {},
   "outputs": [],
   "source": [
    "for i in port.stockDict:\n",
    "    port.stockDict[i].df.to_csv(f'../Data/Train/{i}.csv')"
   ]
  },
  {
   "cell_type": "code",
   "execution_count": null,
   "metadata": {},
   "outputs": [],
   "source": []
  }
 ],
 "metadata": {
  "kernelspec": {
   "display_name": "Python 3",
   "language": "python",
   "name": "python3"
  },
  "language_info": {
   "codemirror_mode": {
    "name": "ipython",
    "version": 3
   },
   "file_extension": ".py",
   "mimetype": "text/x-python",
   "name": "python",
   "nbconvert_exporter": "python",
   "pygments_lexer": "ipython3",
   "version": "3.7.3"
  },
  "toc": {
   "base_numbering": 1,
   "nav_menu": {},
   "number_sections": true,
   "sideBar": true,
   "skip_h1_title": false,
   "title_cell": "Table of Contents",
   "title_sidebar": "Contents",
   "toc_cell": false,
   "toc_position": {},
   "toc_section_display": true,
   "toc_window_display": false
  }
 },
 "nbformat": 4,
 "nbformat_minor": 4
}
